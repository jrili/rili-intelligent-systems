{
 "cells": [
  {
   "cell_type": "markdown",
   "metadata": {},
   "source": [
    "# Load Data"
   ]
  },
  {
   "cell_type": "code",
   "execution_count": 2,
   "metadata": {},
   "outputs": [],
   "source": [
    "import numpy as np\n",
    "\n",
    "data = np.loadtxt('data.csv', delimiter=',')\n",
    "labels = np.loadtxt('labels.csv', dtype = 'str', delimiter=',')"
   ]
  },
  {
   "cell_type": "code",
   "execution_count": 3,
   "metadata": {},
   "outputs": [
    {
     "data": {
      "text/plain": [
       "((1317, 490), (1317,))"
      ]
     },
     "execution_count": 3,
     "metadata": {},
     "output_type": "execute_result"
    }
   ],
   "source": [
    "data.shape, labels.shape"
   ]
  },
  {
   "cell_type": "code",
   "execution_count": 4,
   "metadata": {},
   "outputs": [
    {
     "data": {
      "text/plain": [
       "(['banjo',\n",
       "  'cello',\n",
       "  'clarinet',\n",
       "  'english-horn',\n",
       "  'guitar',\n",
       "  'oboe',\n",
       "  'trumpet',\n",
       "  'violin'],\n",
       " [23, 191, 191, 234, 22, 184, 139, 333])"
      ]
     },
     "execution_count": 4,
     "metadata": {},
     "output_type": "execute_result"
    }
   ],
   "source": [
    "from collections import Counter\n",
    "classes = list(Counter(labels).keys())\n",
    "num_class_instances = list(Counter(labels).values())\n",
    "classes, num_class_instances"
   ]
  },
  {
   "cell_type": "code",
   "execution_count": 5,
   "metadata": {},
   "outputs": [
    {
     "data": {
      "image/png": "[encoded data removed]",
      "text/plain": [
       "<Figure size 1008x504 with 1 Axes>"
      ]
     },
     "metadata": {},
     "output_type": "display_data"
    }
   ],
   "source": [
    "import matplotlib.pyplot as plt\n",
    "\n",
    "plt.figure(figsize=(14,7))\n",
    "for i, key in enumerate(list(Counter(labels).keys())): \n",
    "    plt.bar(key, list(Counter(labels).values())[i],width = 0.3)\n",
    "\n",
    "plt.grid(axis='y')\n",
    "plt.xlabel('Musical Instrument Classification')\n",
    "plt.ylabel('Number of Occurrences in Data')\n",
    "\n",
    "plt.savefig('figs/data_distribution.png')\n",
    "plt.show()"
   ]
  },
  {
   "cell_type": "markdown",
   "metadata": {},
   "source": [
    "# Model 1: Artificial Neural Network"
   ]
  },
  {
   "cell_type": "markdown",
   "metadata": {},
   "source": [
    "## Finding the best hyperparameters via GridSearch"
   ]
  },
  {
   "cell_type": "code",
   "execution_count": 6,
   "metadata": {},
   "outputs": [],
   "source": [
    "from sklearn.neural_network import MLPClassifier\n",
    "clf = MLPClassifier(solver='lbfgs', alpha=1e-5, hidden_layer_sizes=(5, 2), max_iter=2000)\n",
    "\n",
    "param_grid = {\n",
    "    'activation' : ['identity', 'logistic', 'tanh', 'relu'],\n",
    "    'solver' : ['lbfgs', 'sgd', 'adam'],\n",
    "    #'hidden_layer_sizes': [(5, 2), (2, 5), (10, 5), (5, 10), (10, 10), (20, 10), (10, 20)]\n",
    "    'hidden_layer_sizes': [(10, 10), (10, 20), (10,30),\n",
    "                           (20, 10), (20, 20), (20,30),\n",
    "                           (30, 10), (30, 20), (30,30)]\n",
    "}"
   ]
  },
  {
   "cell_type": "code",
   "execution_count": 7,
   "metadata": {},
   "outputs": [
    {
     "name": "stderr",
     "output_type": "stream",
     "text": [
      "C:\\anaconda3\\lib\\site-packages\\sklearn\\neural_network\\multilayer_perceptron.py:564: ConvergenceWarning: Stochastic Optimizer: Maximum iterations (2000) reached and the optimization hasn't converged yet.\n",
      "  % self.max_iter, ConvergenceWarning)\n",
      "C:\\anaconda3\\lib\\site-packages\\sklearn\\neural_network\\multilayer_perceptron.py:564: ConvergenceWarning: Stochastic Optimizer: Maximum iterations (2000) reached and the optimization hasn't converged yet.\n",
      "  % self.max_iter, ConvergenceWarning)\n",
      "C:\\anaconda3\\lib\\site-packages\\sklearn\\neural_network\\multilayer_perceptron.py:564: ConvergenceWarning: Stochastic Optimizer: Maximum iterations (2000) reached and the optimization hasn't converged yet.\n",
      "  % self.max_iter, ConvergenceWarning)\n",
      "C:\\anaconda3\\lib\\site-packages\\sklearn\\neural_network\\_base.py:91: RuntimeWarning: invalid value encountered in subtract\n",
      "  tmp = X - X.max(axis=1)[:, np.newaxis]\n",
      "C:\\anaconda3\\lib\\site-packages\\sklearn\\neural_network\\multilayer_perceptron.py:564: ConvergenceWarning: Stochastic Optimizer: Maximum iterations (2000) reached and the optimization hasn't converged yet.\n",
      "  % self.max_iter, ConvergenceWarning)\n",
      "C:\\anaconda3\\lib\\site-packages\\sklearn\\neural_network\\multilayer_perceptron.py:564: ConvergenceWarning: Stochastic Optimizer: Maximum iterations (2000) reached and the optimization hasn't converged yet.\n",
      "  % self.max_iter, ConvergenceWarning)\n",
      "C:\\anaconda3\\lib\\site-packages\\sklearn\\neural_network\\multilayer_perceptron.py:564: ConvergenceWarning: Stochastic Optimizer: Maximum iterations (2000) reached and the optimization hasn't converged yet.\n",
      "  % self.max_iter, ConvergenceWarning)\n",
      "C:\\anaconda3\\lib\\site-packages\\sklearn\\neural_network\\_base.py:91: RuntimeWarning: invalid value encountered in subtract\n",
      "  tmp = X - X.max(axis=1)[:, np.newaxis]\n",
      "C:\\anaconda3\\lib\\site-packages\\sklearn\\neural_network\\multilayer_perceptron.py:564: ConvergenceWarning: Stochastic Optimizer: Maximum iterations (2000) reached and the optimization hasn't converged yet.\n",
      "  % self.max_iter, ConvergenceWarning)\n",
      "C:\\anaconda3\\lib\\site-packages\\sklearn\\neural_network\\_base.py:91: RuntimeWarning: invalid value encountered in subtract\n",
      "  tmp = X - X.max(axis=1)[:, np.newaxis]\n",
      "C:\\anaconda3\\lib\\site-packages\\sklearn\\neural_network\\multilayer_perceptron.py:564: ConvergenceWarning: Stochastic Optimizer: Maximum iterations (2000) reached and the optimization hasn't converged yet.\n",
      "  % self.max_iter, ConvergenceWarning)\n",
      "C:\\anaconda3\\lib\\site-packages\\sklearn\\neural_network\\_base.py:91: RuntimeWarning: invalid value encountered in subtract\n",
      "  tmp = X - X.max(axis=1)[:, np.newaxis]\n",
      "C:\\anaconda3\\lib\\site-packages\\sklearn\\neural_network\\multilayer_perceptron.py:564: ConvergenceWarning: Stochastic Optimizer: Maximum iterations (2000) reached and the optimization hasn't converged yet.\n",
      "  % self.max_iter, ConvergenceWarning)\n",
      "C:\\anaconda3\\lib\\site-packages\\sklearn\\neural_network\\multilayer_perceptron.py:564: ConvergenceWarning: Stochastic Optimizer: Maximum iterations (2000) reached and the optimization hasn't converged yet.\n",
      "  % self.max_iter, ConvergenceWarning)\n",
      "C:\\anaconda3\\lib\\site-packages\\sklearn\\neural_network\\_base.py:91: RuntimeWarning: invalid value encountered in subtract\n",
      "  tmp = X - X.max(axis=1)[:, np.newaxis]\n",
      "C:\\anaconda3\\lib\\site-packages\\sklearn\\neural_network\\multilayer_perceptron.py:564: ConvergenceWarning: Stochastic Optimizer: Maximum iterations (2000) reached and the optimization hasn't converged yet.\n",
      "  % self.max_iter, ConvergenceWarning)\n",
      "C:\\anaconda3\\lib\\site-packages\\sklearn\\neural_network\\multilayer_perceptron.py:564: ConvergenceWarning: Stochastic Optimizer: Maximum iterations (2000) reached and the optimization hasn't converged yet.\n",
      "  % self.max_iter, ConvergenceWarning)\n",
      "C:\\anaconda3\\lib\\site-packages\\sklearn\\neural_network\\multilayer_perceptron.py:564: ConvergenceWarning: Stochastic Optimizer: Maximum iterations (2000) reached and the optimization hasn't converged yet.\n",
      "  % self.max_iter, ConvergenceWarning)\n",
      "C:\\anaconda3\\lib\\site-packages\\sklearn\\neural_network\\_base.py:91: RuntimeWarning: invalid value encountered in subtract\n",
      "  tmp = X - X.max(axis=1)[:, np.newaxis]\n",
      "C:\\anaconda3\\lib\\site-packages\\sklearn\\neural_network\\multilayer_perceptron.py:564: ConvergenceWarning: Stochastic Optimizer: Maximum iterations (2000) reached and the optimization hasn't converged yet.\n",
      "  % self.max_iter, ConvergenceWarning)\n",
      "C:\\anaconda3\\lib\\site-packages\\sklearn\\neural_network\\multilayer_perceptron.py:564: ConvergenceWarning: Stochastic Optimizer: Maximum iterations (2000) reached and the optimization hasn't converged yet.\n",
      "  % self.max_iter, ConvergenceWarning)\n",
      "C:\\anaconda3\\lib\\site-packages\\sklearn\\neural_network\\multilayer_perceptron.py:564: ConvergenceWarning: Stochastic Optimizer: Maximum iterations (2000) reached and the optimization hasn't converged yet.\n",
      "  % self.max_iter, ConvergenceWarning)\n",
      "C:\\anaconda3\\lib\\site-packages\\sklearn\\neural_network\\multilayer_perceptron.py:564: ConvergenceWarning: Stochastic Optimizer: Maximum iterations (2000) reached and the optimization hasn't converged yet.\n",
      "  % self.max_iter, ConvergenceWarning)\n",
      "C:\\anaconda3\\lib\\site-packages\\sklearn\\neural_network\\multilayer_perceptron.py:564: ConvergenceWarning: Stochastic Optimizer: Maximum iterations (2000) reached and the optimization hasn't converged yet.\n",
      "  % self.max_iter, ConvergenceWarning)\n",
      "C:\\anaconda3\\lib\\site-packages\\sklearn\\neural_network\\_base.py:91: RuntimeWarning: invalid value encountered in subtract\n",
      "  tmp = X - X.max(axis=1)[:, np.newaxis]\n",
      "C:\\anaconda3\\lib\\site-packages\\sklearn\\neural_network\\multilayer_perceptron.py:564: ConvergenceWarning: Stochastic Optimizer: Maximum iterations (2000) reached and the optimization hasn't converged yet.\n",
      "  % self.max_iter, ConvergenceWarning)\n",
      "C:\\anaconda3\\lib\\site-packages\\sklearn\\neural_network\\multilayer_perceptron.py:564: ConvergenceWarning: Stochastic Optimizer: Maximum iterations (2000) reached and the optimization hasn't converged yet.\n",
      "  % self.max_iter, ConvergenceWarning)\n",
      "C:\\anaconda3\\lib\\site-packages\\sklearn\\neural_network\\multilayer_perceptron.py:564: ConvergenceWarning: Stochastic Optimizer: Maximum iterations (2000) reached and the optimization hasn't converged yet.\n",
      "  % self.max_iter, ConvergenceWarning)\n",
      "C:\\anaconda3\\lib\\site-packages\\sklearn\\neural_network\\multilayer_perceptron.py:564: ConvergenceWarning: Stochastic Optimizer: Maximum iterations (2000) reached and the optimization hasn't converged yet.\n",
      "  % self.max_iter, ConvergenceWarning)\n",
      "C:\\anaconda3\\lib\\site-packages\\sklearn\\neural_network\\multilayer_perceptron.py:564: ConvergenceWarning: Stochastic Optimizer: Maximum iterations (2000) reached and the optimization hasn't converged yet.\n",
      "  % self.max_iter, ConvergenceWarning)\n",
      "C:\\anaconda3\\lib\\site-packages\\sklearn\\neural_network\\_base.py:91: RuntimeWarning: invalid value encountered in subtract\n",
      "  tmp = X - X.max(axis=1)[:, np.newaxis]\n",
      "C:\\anaconda3\\lib\\site-packages\\sklearn\\neural_network\\multilayer_perceptron.py:564: ConvergenceWarning: Stochastic Optimizer: Maximum iterations (2000) reached and the optimization hasn't converged yet.\n",
      "  % self.max_iter, ConvergenceWarning)\n",
      "C:\\anaconda3\\lib\\site-packages\\sklearn\\neural_network\\multilayer_perceptron.py:564: ConvergenceWarning: Stochastic Optimizer: Maximum iterations (2000) reached and the optimization hasn't converged yet.\n",
      "  % self.max_iter, ConvergenceWarning)\n",
      "C:\\anaconda3\\lib\\site-packages\\sklearn\\neural_network\\_base.py:91: RuntimeWarning: invalid value encountered in subtract\n",
      "  tmp = X - X.max(axis=1)[:, np.newaxis]\n",
      "C:\\anaconda3\\lib\\site-packages\\sklearn\\neural_network\\multilayer_perceptron.py:564: ConvergenceWarning: Stochastic Optimizer: Maximum iterations (2000) reached and the optimization hasn't converged yet.\n",
      "  % self.max_iter, ConvergenceWarning)\n",
      "C:\\anaconda3\\lib\\site-packages\\sklearn\\neural_network\\multilayer_perceptron.py:564: ConvergenceWarning: Stochastic Optimizer: Maximum iterations (2000) reached and the optimization hasn't converged yet.\n",
      "  % self.max_iter, ConvergenceWarning)\n",
      "C:\\anaconda3\\lib\\site-packages\\sklearn\\neural_network\\multilayer_perceptron.py:564: ConvergenceWarning: Stochastic Optimizer: Maximum iterations (2000) reached and the optimization hasn't converged yet.\n",
      "  % self.max_iter, ConvergenceWarning)\n"
     ]
    },
    {
     "name": "stderr",
     "output_type": "stream",
     "text": [
      "C:\\anaconda3\\lib\\site-packages\\sklearn\\neural_network\\multilayer_perceptron.py:564: ConvergenceWarning: Stochastic Optimizer: Maximum iterations (2000) reached and the optimization hasn't converged yet.\n",
      "  % self.max_iter, ConvergenceWarning)\n",
      "C:\\anaconda3\\lib\\site-packages\\sklearn\\neural_network\\multilayer_perceptron.py:564: ConvergenceWarning: Stochastic Optimizer: Maximum iterations (2000) reached and the optimization hasn't converged yet.\n",
      "  % self.max_iter, ConvergenceWarning)\n",
      "C:\\anaconda3\\lib\\site-packages\\sklearn\\neural_network\\_base.py:91: RuntimeWarning: invalid value encountered in subtract\n",
      "  tmp = X - X.max(axis=1)[:, np.newaxis]\n",
      "C:\\anaconda3\\lib\\site-packages\\sklearn\\neural_network\\multilayer_perceptron.py:564: ConvergenceWarning: Stochastic Optimizer: Maximum iterations (2000) reached and the optimization hasn't converged yet.\n",
      "  % self.max_iter, ConvergenceWarning)\n",
      "C:\\anaconda3\\lib\\site-packages\\sklearn\\neural_network\\multilayer_perceptron.py:564: ConvergenceWarning: Stochastic Optimizer: Maximum iterations (2000) reached and the optimization hasn't converged yet.\n",
      "  % self.max_iter, ConvergenceWarning)\n",
      "C:\\anaconda3\\lib\\site-packages\\sklearn\\neural_network\\_base.py:91: RuntimeWarning: invalid value encountered in subtract\n",
      "  tmp = X - X.max(axis=1)[:, np.newaxis]\n",
      "C:\\anaconda3\\lib\\site-packages\\sklearn\\neural_network\\multilayer_perceptron.py:564: ConvergenceWarning: Stochastic Optimizer: Maximum iterations (2000) reached and the optimization hasn't converged yet.\n",
      "  % self.max_iter, ConvergenceWarning)\n",
      "C:\\anaconda3\\lib\\site-packages\\sklearn\\neural_network\\multilayer_perceptron.py:564: ConvergenceWarning: Stochastic Optimizer: Maximum iterations (2000) reached and the optimization hasn't converged yet.\n",
      "  % self.max_iter, ConvergenceWarning)\n",
      "C:\\anaconda3\\lib\\site-packages\\sklearn\\neural_network\\multilayer_perceptron.py:564: ConvergenceWarning: Stochastic Optimizer: Maximum iterations (2000) reached and the optimization hasn't converged yet.\n",
      "  % self.max_iter, ConvergenceWarning)\n",
      "C:\\anaconda3\\lib\\site-packages\\sklearn\\neural_network\\_base.py:91: RuntimeWarning: invalid value encountered in subtract\n",
      "  tmp = X - X.max(axis=1)[:, np.newaxis]\n",
      "C:\\anaconda3\\lib\\site-packages\\sklearn\\neural_network\\multilayer_perceptron.py:564: ConvergenceWarning: Stochastic Optimizer: Maximum iterations (2000) reached and the optimization hasn't converged yet.\n",
      "  % self.max_iter, ConvergenceWarning)\n",
      "C:\\anaconda3\\lib\\site-packages\\sklearn\\neural_network\\multilayer_perceptron.py:564: ConvergenceWarning: Stochastic Optimizer: Maximum iterations (2000) reached and the optimization hasn't converged yet.\n",
      "  % self.max_iter, ConvergenceWarning)\n",
      "C:\\anaconda3\\lib\\site-packages\\sklearn\\neural_network\\_base.py:91: RuntimeWarning: invalid value encountered in subtract\n",
      "  tmp = X - X.max(axis=1)[:, np.newaxis]\n",
      "C:\\anaconda3\\lib\\site-packages\\sklearn\\neural_network\\multilayer_perceptron.py:564: ConvergenceWarning: Stochastic Optimizer: Maximum iterations (2000) reached and the optimization hasn't converged yet.\n",
      "  % self.max_iter, ConvergenceWarning)\n",
      "C:\\anaconda3\\lib\\site-packages\\sklearn\\neural_network\\multilayer_perceptron.py:564: ConvergenceWarning: Stochastic Optimizer: Maximum iterations (2000) reached and the optimization hasn't converged yet.\n",
      "  % self.max_iter, ConvergenceWarning)\n",
      "C:\\anaconda3\\lib\\site-packages\\sklearn\\neural_network\\_base.py:91: RuntimeWarning: invalid value encountered in subtract\n",
      "  tmp = X - X.max(axis=1)[:, np.newaxis]\n",
      "C:\\anaconda3\\lib\\site-packages\\sklearn\\neural_network\\multilayer_perceptron.py:564: ConvergenceWarning: Stochastic Optimizer: Maximum iterations (2000) reached and the optimization hasn't converged yet.\n",
      "  % self.max_iter, ConvergenceWarning)\n",
      "C:\\anaconda3\\lib\\site-packages\\sklearn\\neural_network\\_base.py:91: RuntimeWarning: invalid value encountered in subtract\n",
      "  tmp = X - X.max(axis=1)[:, np.newaxis]\n",
      "C:\\anaconda3\\lib\\site-packages\\sklearn\\neural_network\\multilayer_perceptron.py:564: ConvergenceWarning: Stochastic Optimizer: Maximum iterations (2000) reached and the optimization hasn't converged yet.\n",
      "  % self.max_iter, ConvergenceWarning)\n",
      "C:\\anaconda3\\lib\\site-packages\\sklearn\\neural_network\\_base.py:91: RuntimeWarning: invalid value encountered in subtract\n",
      "  tmp = X - X.max(axis=1)[:, np.newaxis]\n",
      "C:\\anaconda3\\lib\\site-packages\\sklearn\\neural_network\\multilayer_perceptron.py:564: ConvergenceWarning: Stochastic Optimizer: Maximum iterations (2000) reached and the optimization hasn't converged yet.\n",
      "  % self.max_iter, ConvergenceWarning)\n",
      "C:\\anaconda3\\lib\\site-packages\\sklearn\\neural_network\\_base.py:91: RuntimeWarning: invalid value encountered in subtract\n",
      "  tmp = X - X.max(axis=1)[:, np.newaxis]\n",
      "C:\\anaconda3\\lib\\site-packages\\sklearn\\neural_network\\multilayer_perceptron.py:564: ConvergenceWarning: Stochastic Optimizer: Maximum iterations (2000) reached and the optimization hasn't converged yet.\n",
      "  % self.max_iter, ConvergenceWarning)\n",
      "C:\\anaconda3\\lib\\site-packages\\sklearn\\neural_network\\multilayer_perceptron.py:564: ConvergenceWarning: Stochastic Optimizer: Maximum iterations (2000) reached and the optimization hasn't converged yet.\n",
      "  % self.max_iter, ConvergenceWarning)\n",
      "C:\\anaconda3\\lib\\site-packages\\sklearn\\neural_network\\_base.py:91: RuntimeWarning: invalid value encountered in subtract\n",
      "  tmp = X - X.max(axis=1)[:, np.newaxis]\n",
      "C:\\anaconda3\\lib\\site-packages\\sklearn\\neural_network\\multilayer_perceptron.py:564: ConvergenceWarning: Stochastic Optimizer: Maximum iterations (2000) reached and the optimization hasn't converged yet.\n",
      "  % self.max_iter, ConvergenceWarning)\n",
      "C:\\anaconda3\\lib\\site-packages\\sklearn\\neural_network\\multilayer_perceptron.py:564: ConvergenceWarning: Stochastic Optimizer: Maximum iterations (2000) reached and the optimization hasn't converged yet.\n",
      "  % self.max_iter, ConvergenceWarning)\n",
      "C:\\anaconda3\\lib\\site-packages\\sklearn\\neural_network\\_base.py:91: RuntimeWarning: invalid value encountered in subtract\n",
      "  tmp = X - X.max(axis=1)[:, np.newaxis]\n",
      "C:\\anaconda3\\lib\\site-packages\\sklearn\\neural_network\\multilayer_perceptron.py:564: ConvergenceWarning: Stochastic Optimizer: Maximum iterations (2000) reached and the optimization hasn't converged yet.\n",
      "  % self.max_iter, ConvergenceWarning)\n"
     ]
    },
    {
     "data": {
      "text/plain": [
       "GridSearchCV(cv=5, error_score='raise',\n",
       "       estimator=MLPClassifier(activation='relu', alpha=1e-05, batch_size='auto', beta_1=0.9,\n",
       "       beta_2=0.999, early_stopping=False, epsilon=1e-08,\n",
       "       hidden_layer_sizes=(5, 2), learning_rate='constant',\n",
       "       learning_rate_init=0.001, max_iter=2000, momentum=0.9,\n",
       "       nesterovs_momentum=True, power_t=0.5, random_state=None,\n",
       "       shuffle=True, solver='lbfgs', tol=0.0001, validation_fraction=0.1,\n",
       "       verbose=False, warm_start=False),\n",
       "       fit_params=None, iid=True, n_jobs=1,\n",
       "       param_grid={'activation': ['identity', 'logistic', 'tanh', 'relu'], 'solver': ['lbfgs', 'sgd', 'adam'], 'hidden_layer_sizes': [(10, 10), (10, 20), (10, 30), (20, 10), (20, 20), (20, 30), (30, 10), (30, 20), (30, 30)]},\n",
       "       pre_dispatch='2*n_jobs', refit=True, return_train_score='warn',\n",
       "       scoring=None, verbose=0)"
      ]
     },
     "execution_count": 7,
     "metadata": {},
     "output_type": "execute_result"
    }
   ],
   "source": [
    "from sklearn.model_selection import GridSearchCV\n",
    "\n",
    "classifier = GridSearchCV(clf, param_grid, cv=5)\n",
    "classifier.fit(data, labels)"
   ]
  },
  {
   "cell_type": "code",
   "execution_count": 8,
   "metadata": {},
   "outputs": [
    {
     "data": {
      "text/plain": [
       "(0.9536826119969628,\n",
       " {'activation': 'tanh', 'hidden_layer_sizes': (20, 30), 'solver': 'adam'})"
      ]
     },
     "execution_count": 8,
     "metadata": {},
     "output_type": "execute_result"
    }
   ],
   "source": [
    "classifier.best_score_, classifier.best_params_\n",
    "# 0.9537 Params: {'activation': 'tanh', 'hidden_layer_sizes': (20, 10), 'solver': 'adam'}\\\n",
    "# 0.9536826119969628 Params: {'activation': 'tanh', 'hidden_layer_sizes': (20, 30), 'solver': 'adam'})"
   ]
  },
  {
   "cell_type": "code",
   "execution_count": 9,
   "metadata": {
    "scrolled": true
   },
   "outputs": [
    {
     "name": "stdout",
     "output_type": "stream",
     "text": [
      "0.1390 Params: {'activation': 'identity', 'hidden_layer_sizes': (10, 10), 'solver': 'lbfgs'}\n",
      "0.0175 Params: {'activation': 'identity', 'hidden_layer_sizes': (10, 10), 'solver': 'sgd'}\n",
      "0.9438 Params: {'activation': 'identity', 'hidden_layer_sizes': (10, 10), 'solver': 'adam'}\n",
      "0.1207 Params: {'activation': 'identity', 'hidden_layer_sizes': (10, 20), 'solver': 'lbfgs'}\n",
      "0.0175 Params: {'activation': 'identity', 'hidden_layer_sizes': (10, 20), 'solver': 'sgd'}\n",
      "0.9499 Params: {'activation': 'identity', 'hidden_layer_sizes': (10, 20), 'solver': 'adam'}\n",
      "0.1435 Params: {'activation': 'identity', 'hidden_layer_sizes': (10, 30), 'solver': 'lbfgs'}\n",
      "0.0175 Params: {'activation': 'identity', 'hidden_layer_sizes': (10, 30), 'solver': 'sgd'}\n",
      "0.9370 Params: {'activation': 'identity', 'hidden_layer_sizes': (10, 30), 'solver': 'adam'}\n",
      "0.1329 Params: {'activation': 'identity', 'hidden_layer_sizes': (20, 10), 'solver': 'lbfgs'}\n",
      "0.0175 Params: {'activation': 'identity', 'hidden_layer_sizes': (20, 10), 'solver': 'sgd'}\n",
      "0.9393 Params: {'activation': 'identity', 'hidden_layer_sizes': (20, 10), 'solver': 'adam'}\n",
      "0.1321 Params: {'activation': 'identity', 'hidden_layer_sizes': (20, 20), 'solver': 'lbfgs'}\n",
      "0.0175 Params: {'activation': 'identity', 'hidden_layer_sizes': (20, 20), 'solver': 'sgd'}\n",
      "0.9476 Params: {'activation': 'identity', 'hidden_layer_sizes': (20, 20), 'solver': 'adam'}\n",
      "0.1093 Params: {'activation': 'identity', 'hidden_layer_sizes': (20, 30), 'solver': 'lbfgs'}\n",
      "0.0175 Params: {'activation': 'identity', 'hidden_layer_sizes': (20, 30), 'solver': 'sgd'}\n",
      "0.9438 Params: {'activation': 'identity', 'hidden_layer_sizes': (20, 30), 'solver': 'adam'}\n",
      "0.1222 Params: {'activation': 'identity', 'hidden_layer_sizes': (30, 10), 'solver': 'lbfgs'}\n",
      "0.0175 Params: {'activation': 'identity', 'hidden_layer_sizes': (30, 10), 'solver': 'sgd'}\n",
      "0.9514 Params: {'activation': 'identity', 'hidden_layer_sizes': (30, 10), 'solver': 'adam'}\n",
      "0.1724 Params: {'activation': 'identity', 'hidden_layer_sizes': (30, 20), 'solver': 'lbfgs'}\n",
      "0.0175 Params: {'activation': 'identity', 'hidden_layer_sizes': (30, 20), 'solver': 'sgd'}\n",
      "0.9408 Params: {'activation': 'identity', 'hidden_layer_sizes': (30, 20), 'solver': 'adam'}\n",
      "0.1595 Params: {'activation': 'identity', 'hidden_layer_sizes': (30, 30), 'solver': 'lbfgs'}\n",
      "0.0175 Params: {'activation': 'identity', 'hidden_layer_sizes': (30, 30), 'solver': 'sgd'}\n",
      "0.9431 Params: {'activation': 'identity', 'hidden_layer_sizes': (30, 30), 'solver': 'adam'}\n",
      "0.8861 Params: {'activation': 'logistic', 'hidden_layer_sizes': (10, 10), 'solver': 'lbfgs'}\n",
      "0.6940 Params: {'activation': 'logistic', 'hidden_layer_sizes': (10, 10), 'solver': 'sgd'}\n",
      "0.8694 Params: {'activation': 'logistic', 'hidden_layer_sizes': (10, 10), 'solver': 'adam'}\n",
      "0.8983 Params: {'activation': 'logistic', 'hidden_layer_sizes': (10, 20), 'solver': 'lbfgs'}\n",
      "0.7730 Params: {'activation': 'logistic', 'hidden_layer_sizes': (10, 20), 'solver': 'sgd'}\n",
      "0.8846 Params: {'activation': 'logistic', 'hidden_layer_sizes': (10, 20), 'solver': 'adam'}\n",
      "0.8800 Params: {'activation': 'logistic', 'hidden_layer_sizes': (10, 30), 'solver': 'lbfgs'}\n",
      "0.7768 Params: {'activation': 'logistic', 'hidden_layer_sizes': (10, 30), 'solver': 'sgd'}\n",
      "0.8922 Params: {'activation': 'logistic', 'hidden_layer_sizes': (10, 30), 'solver': 'adam'}\n",
      "0.9028 Params: {'activation': 'logistic', 'hidden_layer_sizes': (20, 10), 'solver': 'lbfgs'}\n",
      "0.8352 Params: {'activation': 'logistic', 'hidden_layer_sizes': (20, 10), 'solver': 'sgd'}\n",
      "0.9370 Params: {'activation': 'logistic', 'hidden_layer_sizes': (20, 10), 'solver': 'adam'}\n",
      "0.8914 Params: {'activation': 'logistic', 'hidden_layer_sizes': (20, 20), 'solver': 'lbfgs'}\n",
      "0.8261 Params: {'activation': 'logistic', 'hidden_layer_sizes': (20, 20), 'solver': 'sgd'}\n",
      "0.9058 Params: {'activation': 'logistic', 'hidden_layer_sizes': (20, 20), 'solver': 'adam'}\n",
      "0.9051 Params: {'activation': 'logistic', 'hidden_layer_sizes': (20, 30), 'solver': 'lbfgs'}\n",
      "0.8185 Params: {'activation': 'logistic', 'hidden_layer_sizes': (20, 30), 'solver': 'sgd'}\n",
      "0.9218 Params: {'activation': 'logistic', 'hidden_layer_sizes': (20, 30), 'solver': 'adam'}\n",
      "0.9074 Params: {'activation': 'logistic', 'hidden_layer_sizes': (30, 10), 'solver': 'lbfgs'}\n",
      "0.8838 Params: {'activation': 'logistic', 'hidden_layer_sizes': (30, 10), 'solver': 'sgd'}\n",
      "0.9203 Params: {'activation': 'logistic', 'hidden_layer_sizes': (30, 10), 'solver': 'adam'}\n",
      "0.8755 Params: {'activation': 'logistic', 'hidden_layer_sizes': (30, 20), 'solver': 'lbfgs'}\n",
      "0.8451 Params: {'activation': 'logistic', 'hidden_layer_sizes': (30, 20), 'solver': 'sgd'}\n",
      "0.9286 Params: {'activation': 'logistic', 'hidden_layer_sizes': (30, 20), 'solver': 'adam'}\n",
      "0.8800 Params: {'activation': 'logistic', 'hidden_layer_sizes': (30, 30), 'solver': 'lbfgs'}\n",
      "0.8618 Params: {'activation': 'logistic', 'hidden_layer_sizes': (30, 30), 'solver': 'sgd'}\n",
      "0.9438 Params: {'activation': 'logistic', 'hidden_layer_sizes': (30, 30), 'solver': 'adam'}\n",
      "0.8914 Params: {'activation': 'tanh', 'hidden_layer_sizes': (10, 10), 'solver': 'lbfgs'}\n",
      "0.8732 Params: {'activation': 'tanh', 'hidden_layer_sizes': (10, 10), 'solver': 'sgd'}\n",
      "0.9286 Params: {'activation': 'tanh', 'hidden_layer_sizes': (10, 10), 'solver': 'adam'}\n",
      "0.9104 Params: {'activation': 'tanh', 'hidden_layer_sizes': (10, 20), 'solver': 'lbfgs'}\n",
      "0.9241 Params: {'activation': 'tanh', 'hidden_layer_sizes': (10, 20), 'solver': 'sgd'}\n",
      "0.9301 Params: {'activation': 'tanh', 'hidden_layer_sizes': (10, 20), 'solver': 'adam'}\n",
      "0.9013 Params: {'activation': 'tanh', 'hidden_layer_sizes': (10, 30), 'solver': 'lbfgs'}\n",
      "0.9233 Params: {'activation': 'tanh', 'hidden_layer_sizes': (10, 30), 'solver': 'sgd'}\n",
      "0.9400 Params: {'activation': 'tanh', 'hidden_layer_sizes': (10, 30), 'solver': 'adam'}\n",
      "0.9005 Params: {'activation': 'tanh', 'hidden_layer_sizes': (20, 10), 'solver': 'lbfgs'}\n",
      "0.9263 Params: {'activation': 'tanh', 'hidden_layer_sizes': (20, 10), 'solver': 'sgd'}\n",
      "0.9271 Params: {'activation': 'tanh', 'hidden_layer_sizes': (20, 10), 'solver': 'adam'}\n",
      "0.9188 Params: {'activation': 'tanh', 'hidden_layer_sizes': (20, 20), 'solver': 'lbfgs'}\n",
      "0.9301 Params: {'activation': 'tanh', 'hidden_layer_sizes': (20, 20), 'solver': 'sgd'}\n",
      "0.9491 Params: {'activation': 'tanh', 'hidden_layer_sizes': (20, 20), 'solver': 'adam'}\n",
      "0.9210 Params: {'activation': 'tanh', 'hidden_layer_sizes': (20, 30), 'solver': 'lbfgs'}\n",
      "0.9226 Params: {'activation': 'tanh', 'hidden_layer_sizes': (20, 30), 'solver': 'sgd'}\n",
      "0.9537 Params: {'activation': 'tanh', 'hidden_layer_sizes': (20, 30), 'solver': 'adam'}\n",
      "0.9096 Params: {'activation': 'tanh', 'hidden_layer_sizes': (30, 10), 'solver': 'lbfgs'}\n",
      "0.9241 Params: {'activation': 'tanh', 'hidden_layer_sizes': (30, 10), 'solver': 'sgd'}\n",
      "0.9514 Params: {'activation': 'tanh', 'hidden_layer_sizes': (30, 10), 'solver': 'adam'}\n",
      "0.9127 Params: {'activation': 'tanh', 'hidden_layer_sizes': (30, 20), 'solver': 'lbfgs'}\n",
      "0.9263 Params: {'activation': 'tanh', 'hidden_layer_sizes': (30, 20), 'solver': 'sgd'}\n",
      "0.9529 Params: {'activation': 'tanh', 'hidden_layer_sizes': (30, 20), 'solver': 'adam'}\n",
      "0.9347 Params: {'activation': 'tanh', 'hidden_layer_sizes': (30, 30), 'solver': 'lbfgs'}\n",
      "0.9256 Params: {'activation': 'tanh', 'hidden_layer_sizes': (30, 30), 'solver': 'sgd'}\n",
      "0.9529 Params: {'activation': 'tanh', 'hidden_layer_sizes': (30, 30), 'solver': 'adam'}\n",
      "0.1724 Params: {'activation': 'relu', 'hidden_layer_sizes': (10, 10), 'solver': 'lbfgs'}\n",
      "0.1610 Params: {'activation': 'relu', 'hidden_layer_sizes': (10, 10), 'solver': 'sgd'}\n",
      "0.8140 Params: {'activation': 'relu', 'hidden_layer_sizes': (10, 10), 'solver': 'adam'}\n",
      "0.0949 Params: {'activation': 'relu', 'hidden_layer_sizes': (10, 20), 'solver': 'lbfgs'}\n",
      "0.1215 Params: {'activation': 'relu', 'hidden_layer_sizes': (10, 20), 'solver': 'sgd'}\n",
      "0.9332 Params: {'activation': 'relu', 'hidden_layer_sizes': (10, 20), 'solver': 'adam'}\n",
      "0.0843 Params: {'activation': 'relu', 'hidden_layer_sizes': (10, 30), 'solver': 'lbfgs'}\n",
      "0.1352 Params: {'activation': 'relu', 'hidden_layer_sizes': (10, 30), 'solver': 'sgd'}\n",
      "0.9393 Params: {'activation': 'relu', 'hidden_layer_sizes': (10, 30), 'solver': 'adam'}\n",
      "0.1048 Params: {'activation': 'relu', 'hidden_layer_sizes': (20, 10), 'solver': 'lbfgs'}\n",
      "0.1670 Params: {'activation': 'relu', 'hidden_layer_sizes': (20, 10), 'solver': 'sgd'}\n",
      "0.9377 Params: {'activation': 'relu', 'hidden_layer_sizes': (20, 10), 'solver': 'adam'}\n",
      "0.2491 Params: {'activation': 'relu', 'hidden_layer_sizes': (20, 20), 'solver': 'lbfgs'}\n",
      "0.0691 Params: {'activation': 'relu', 'hidden_layer_sizes': (20, 20), 'solver': 'sgd'}\n",
      "0.9438 Params: {'activation': 'relu', 'hidden_layer_sizes': (20, 20), 'solver': 'adam'}\n",
      "0.0850 Params: {'activation': 'relu', 'hidden_layer_sizes': (20, 30), 'solver': 'lbfgs'}\n",
      "0.1686 Params: {'activation': 'relu', 'hidden_layer_sizes': (20, 30), 'solver': 'sgd'}\n",
      "0.9476 Params: {'activation': 'relu', 'hidden_layer_sizes': (20, 30), 'solver': 'adam'}\n",
      "0.1321 Params: {'activation': 'relu', 'hidden_layer_sizes': (30, 10), 'solver': 'lbfgs'}\n",
      "0.1245 Params: {'activation': 'relu', 'hidden_layer_sizes': (30, 10), 'solver': 'sgd'}\n",
      "0.9415 Params: {'activation': 'relu', 'hidden_layer_sizes': (30, 10), 'solver': 'adam'}\n",
      "0.1147 Params: {'activation': 'relu', 'hidden_layer_sizes': (30, 20), 'solver': 'lbfgs'}\n",
      "0.1253 Params: {'activation': 'relu', 'hidden_layer_sizes': (30, 20), 'solver': 'sgd'}\n",
      "0.9446 Params: {'activation': 'relu', 'hidden_layer_sizes': (30, 20), 'solver': 'adam'}\n",
      "0.0585 Params: {'activation': 'relu', 'hidden_layer_sizes': (30, 30), 'solver': 'lbfgs'}\n",
      "0.1071 Params: {'activation': 'relu', 'hidden_layer_sizes': (30, 30), 'solver': 'sgd'}\n",
      "0.9370 Params: {'activation': 'relu', 'hidden_layer_sizes': (30, 30), 'solver': 'adam'}\n"
     ]
    }
   ],
   "source": [
    "for mean, params in zip(classifier.cv_results_['mean_test_score'], classifier.cv_results_['params']):\n",
    "        print('%0.4f Params: %r' % (mean, params))"
   ]
  },
  {
   "cell_type": "markdown",
   "metadata": {},
   "source": [
    "## Run Cross Validation with Repeated Stratified K Fold"
   ]
  },
  {
   "cell_type": "code",
   "execution_count": 14,
   "metadata": {},
   "outputs": [],
   "source": [
    "from sklearn.model_selection import cross_val_score\n",
    "from sklearn.model_selection import RepeatedStratifiedKFold\n",
    "\n",
    "clf = MLPClassifier(solver='adam', alpha=1e-5, hidden_layer_sizes=(20,30), max_iter=2000, activation='tanh')\n",
    "\n",
    "rskf = RepeatedStratifiedKFold(n_splits=5, n_repeats=10)\n",
    "scores = cross_val_score(clf, data, labels, cv=rskf)\n"
   ]
  },
  {
   "cell_type": "code",
   "execution_count": 15,
   "metadata": {},
   "outputs": [
    {
     "name": "stdout",
     "output_type": "stream",
     "text": [
      "Accuracy: 0.9688 (+/- 0.03)\n"
     ]
    }
   ],
   "source": [
    "print(\"Accuracy: %0.4f (+/- %0.2f)\" % (scores.mean(), scores.std() * 2))"
   ]
  },
  {
   "cell_type": "markdown",
   "metadata": {},
   "source": [
    "# Confusion Matrix"
   ]
  },
  {
   "cell_type": "code",
   "execution_count": 51,
   "metadata": {},
   "outputs": [],
   "source": [
    "from sklearn.model_selection import train_test_split\n",
    "data_train, data_test, label_train, label_test = train_test_split(data, labels, test_size=0.33)"
   ]
  },
  {
   "cell_type": "code",
   "execution_count": 52,
   "metadata": {},
   "outputs": [
    {
     "data": {
      "text/plain": [
       "(['banjo',\n",
       "  'cello',\n",
       "  'clarinet',\n",
       "  'english-horn',\n",
       "  'guitar',\n",
       "  'oboe',\n",
       "  'trumpet',\n",
       "  'violin'],\n",
       " [23, 191, 191, 234, 22, 184, 139, 333])"
      ]
     },
     "execution_count": 52,
     "metadata": {},
     "output_type": "execute_result"
    }
   ],
   "source": [
    "from collections import Counter\n",
    "classes = list(Counter(labels).keys())\n",
    "num_class_instances = list(Counter(labels).values())\n",
    "classes, num_class_instances"
   ]
  },
  {
   "cell_type": "code",
   "execution_count": 53,
   "metadata": {},
   "outputs": [
    {
     "data": {
      "text/plain": [
       "MLPClassifier(activation='tanh', alpha=1e-05, batch_size='auto', beta_1=0.9,\n",
       "       beta_2=0.999, early_stopping=False, epsilon=1e-08,\n",
       "       hidden_layer_sizes=(20, 10), learning_rate='constant',\n",
       "       learning_rate_init=0.001, max_iter=2000, momentum=0.9,\n",
       "       nesterovs_momentum=True, power_t=0.5, random_state=None,\n",
       "       shuffle=True, solver='adam', tol=0.0001, validation_fraction=0.1,\n",
       "       verbose=False, warm_start=False)"
      ]
     },
     "execution_count": 53,
     "metadata": {},
     "output_type": "execute_result"
    }
   ],
   "source": [
    "clf = MLPClassifier(solver='adam', alpha=1e-5, hidden_layer_sizes=(20,10), max_iter=2000, activation='tanh')\n",
    "\n",
    "clf.fit(data_train, label_train)"
   ]
  },
  {
   "cell_type": "code",
   "execution_count": 54,
   "metadata": {},
   "outputs": [],
   "source": [
    "from sklearn.metrics import confusion_matrix\n",
    "\n",
    "label_pred = clf.predict(data_test)"
   ]
  },
  {
   "cell_type": "markdown",
   "metadata": {},
   "source": [
    "Method for plotting confusion matrix taken from: https://scikit-learn.org/stable/auto_examples/model_selection/plot_confusion_matrix.html"
   ]
  },
  {
   "cell_type": "code",
   "execution_count": 55,
   "metadata": {},
   "outputs": [],
   "source": [
    "import itertools\n",
    "import numpy as np\n",
    "import matplotlib.pyplot as plt\n",
    "\n",
    "from sklearn.metrics import confusion_matrix\n",
    "\n",
    "def plot_confusion_matrix(cm, classes,\n",
    "                          normalize=False,\n",
    "                          title='Confusion matrix',\n",
    "                          cmap=plt.cm.Blues):\n",
    "    \"\"\"\n",
    "    This function prints and plots the confusion matrix.\n",
    "    Normalization can be applied by setting `normalize=True`.\n",
    "    \"\"\"\n",
    "    if normalize:\n",
    "        cm = 100*(cm.astype('float') / cm.sum(axis=1)[:, np.newaxis])\n",
    "        print(\"Normalized confusion matrix\")\n",
    "    else:\n",
    "        print('Confusion matrix, without normalization')\n",
    "\n",
    "    print(cm)\n",
    "    \n",
    "    plt.imshow(cm, interpolation='nearest', cmap=cmap)\n",
    "    plt.title(title)\n",
    "    plt.colorbar()\n",
    "    tick_marks = np.arange(len(classes))\n",
    "    plt.xticks(tick_marks, classes, rotation=45)\n",
    "    plt.yticks(tick_marks, classes)\n",
    "\n",
    "    fmt = '.2f' if normalize else 'd'\n",
    "    thresh = cm.max() / 2.\n",
    "    for i, j in itertools.product(range(cm.shape[0]), range(cm.shape[1])):\n",
    "        plt.text(j, i, format(cm[i, j], fmt),\n",
    "                 horizontalalignment=\"center\",\n",
    "                 color=\"white\" if cm[i, j] > thresh else \"black\")\n",
    "\n",
    "    plt.ylabel('True label')\n",
    "    plt.xlabel('Predicted label')\n",
    "    plt.tight_layout()"
   ]
  },
  {
   "cell_type": "code",
   "execution_count": 56,
   "metadata": {},
   "outputs": [
    {
     "name": "stdout",
     "output_type": "stream",
     "text": [
      "Confusion matrix, without normalization\n",
      "[[ 10   0   0   0   0   0   0   1]\n",
      " [  0  59   0   0   0   0   0   0]\n",
      " [  0   0  62   0   0   0   0   0]\n",
      " [  0   0   0  84   0   0   0   0]\n",
      " [  0   0   0   0   6   0   0   0]\n",
      " [  0   0   0   0   0  58   0   0]\n",
      " [  0   0   0   0   0   0  47   0]\n",
      " [  0   2   0   2   0   0   4 100]]\n",
      "Normalized confusion matrix\n",
      "[[ 90.91   0.     0.     0.     0.     0.     0.     9.09]\n",
      " [  0.   100.     0.     0.     0.     0.     0.     0.  ]\n",
      " [  0.     0.   100.     0.     0.     0.     0.     0.  ]\n",
      " [  0.     0.     0.   100.     0.     0.     0.     0.  ]\n",
      " [  0.     0.     0.     0.   100.     0.     0.     0.  ]\n",
      " [  0.     0.     0.     0.     0.   100.     0.     0.  ]\n",
      " [  0.     0.     0.     0.     0.     0.   100.     0.  ]\n",
      " [  0.     1.85   0.     1.85   0.     0.     3.7   92.59]]\n"
     ]
    },
    {
     "data": {
      "image/png": "[encoded data removed]",
      "text/plain": [
       "<Figure size 640x480 with 2 Axes>"
      ]
     },
     "metadata": {},
     "output_type": "display_data"
    },
    {
     "data": {
      "image/png": "[encoded data removed]",
      "text/plain": [
       "<Figure size 640x480 with 2 Axes>"
      ]
     },
     "metadata": {},
     "output_type": "display_data"
    }
   ],
   "source": [
    "# Compute confusion matrix\n",
    "cnf_matrix = confusion_matrix(label_test, label_pred)\n",
    "np.set_printoptions(precision=2)\n",
    "\n",
    "\n",
    "# Plot non-normalized confusion matrix\n",
    "plt.figure(figsize=(8, 6), dpi=80)\n",
    "plot_confusion_matrix(cnf_matrix, classes=classes,\n",
    "                      title='Confusion matrix, without normalization')\n",
    "\n",
    "# Plot normalized confusion matrix\n",
    "plt.figure(figsize=(8, 6), dpi=80)\n",
    "plot_confusion_matrix(cnf_matrix, classes=classes, normalize=True,\n",
    "                      title='Normalized confusion matrix')\n",
    "#plt.\n",
    "\n",
    "\n",
    "plt.show()"
   ]
  },
  {
   "cell_type": "code",
   "execution_count": null,
   "metadata": {},
   "outputs": [],
   "source": []
  },
  {
   "cell_type": "code",
   "execution_count": null,
   "metadata": {},
   "outputs": [],
   "source": []
  }
 ],
 "metadata": {
  "kernelspec": {
   "display_name": "Python 3",
   "language": "python",
   "name": "python3"
  },
  "language_info": {
   "codemirror_mode": {
    "name": "ipython",
    "version": 3
   },
   "file_extension": ".py",
   "mimetype": "text/x-python",
   "name": "python",
   "nbconvert_exporter": "python",
   "pygments_lexer": "ipython3",
   "version": "3.6.5"
  }
 },
 "nbformat": 4,
 "nbformat_minor": 2
}
