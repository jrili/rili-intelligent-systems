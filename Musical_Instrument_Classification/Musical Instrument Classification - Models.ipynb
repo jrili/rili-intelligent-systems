{
 "cells": [
  {
   "cell_type": "markdown",
   "metadata": {},
   "source": [
    "# Load Data"
   ]
  },
  {
   "cell_type": "code",
   "execution_count": 46,
   "metadata": {},
   "outputs": [],
   "source": [
    "import numpy as np\n",
    "\n",
    "data = np.loadtxt('data.csv', delimiter=',')\n",
    "labels = np.loadtxt('labels.csv', dtype = 'str', delimiter=',')"
   ]
  },
  {
   "cell_type": "code",
   "execution_count": 47,
   "metadata": {},
   "outputs": [
    {
     "data": {
      "text/plain": [
       "((1317, 490), (1317,))"
      ]
     },
     "execution_count": 47,
     "metadata": {},
     "output_type": "execute_result"
    }
   ],
   "source": [
    "data.shape, labels.shape"
   ]
  },
  {
   "cell_type": "code",
   "execution_count": 100,
   "metadata": {},
   "outputs": [
    {
     "data": {
      "text/plain": [
       "(['banjo',\n",
       "  'cello',\n",
       "  'clarinet',\n",
       "  'english-horn',\n",
       "  'guitar',\n",
       "  'oboe',\n",
       "  'trumpet',\n",
       "  'violin'],\n",
       " [23, 191, 191, 234, 22, 184, 139, 333])"
      ]
     },
     "execution_count": 100,
     "metadata": {},
     "output_type": "execute_result"
    }
   ],
   "source": [
    "from collections import Counter\n",
    "classes = list(Counter(labels).keys())\n",
    "num_class_instances = list(Counter(labels).values())\n",
    "classes, num_class_instances"
   ]
  },
  {
   "cell_type": "code",
   "execution_count": 50,
   "metadata": {},
   "outputs": [
    {
     "data": {
      "image/png": "[encoded data removed]",
      "text/plain": [
       "<Figure size 1008x504 with 1 Axes>"
      ]
     },
     "metadata": {},
     "output_type": "display_data"
    }
   ],
   "source": [
    "import matplotlib.pyplot as plt\n",
    "\n",
    "plt.figure(figsize=(14,7))\n",
    "for i, key in enumerate(list(Counter(labels).keys())): \n",
    "    plt.bar(key, list(Counter(labels).values())[i],width = 0.3)\n",
    "\n",
    "plt.grid(axis='y')\n",
    "plt.xlabel('Musical Instrument Classification')\n",
    "plt.ylabel('Number of Occurrences in Data')\n",
    "\n",
    "plt.savefig('data_distribution.jpg')\n",
    "plt.show()"
   ]
  },
  {
   "cell_type": "markdown",
   "metadata": {},
   "source": [
    "# Model 1: Artificial Neural Network"
   ]
  },
  {
   "cell_type": "markdown",
   "metadata": {},
   "source": [
    "## Finding the best hyperparameters via GridSearch"
   ]
  },
  {
   "cell_type": "code",
   "execution_count": 56,
   "metadata": {},
   "outputs": [],
   "source": [
    "from sklearn.neural_network import MLPClassifier\n",
    "clf = MLPClassifier(solver='lbfgs', alpha=1e-5, hidden_layer_sizes=(5, 2), max_iter=2000)\n",
    "\n",
    "param_grid = {\n",
    "    'activation' : ['identity', 'logistic', 'tanh', 'relu'],\n",
    "    'solver' : ['lbfgs', 'sgd', 'adam'],\n",
    "    'hidden_layer_sizes': [(5, 2), (2, 5), (10, 5), (5, 10), (10, 10), (20, 10), (10, 20)]\n",
    "}"
   ]
  },
  {
   "cell_type": "code",
   "execution_count": 57,
   "metadata": {},
   "outputs": [
    {
     "name": "stderr",
     "output_type": "stream",
     "text": [
      "C:\\anaconda3\\lib\\site-packages\\sklearn\\neural_network\\_base.py:91: RuntimeWarning: invalid value encountered in subtract\n",
      "  tmp = X - X.max(axis=1)[:, np.newaxis]\n",
      "C:\\anaconda3\\lib\\site-packages\\sklearn\\neural_network\\multilayer_perceptron.py:564: ConvergenceWarning: Stochastic Optimizer: Maximum iterations (2000) reached and the optimization hasn't converged yet.\n",
      "  % self.max_iter, ConvergenceWarning)\n",
      "C:\\anaconda3\\lib\\site-packages\\sklearn\\neural_network\\multilayer_perceptron.py:564: ConvergenceWarning: Stochastic Optimizer: Maximum iterations (2000) reached and the optimization hasn't converged yet.\n",
      "  % self.max_iter, ConvergenceWarning)\n",
      "C:\\anaconda3\\lib\\site-packages\\sklearn\\neural_network\\multilayer_perceptron.py:564: ConvergenceWarning: Stochastic Optimizer: Maximum iterations (2000) reached and the optimization hasn't converged yet.\n",
      "  % self.max_iter, ConvergenceWarning)\n",
      "C:\\anaconda3\\lib\\site-packages\\sklearn\\neural_network\\_base.py:91: RuntimeWarning: invalid value encountered in subtract\n",
      "  tmp = X - X.max(axis=1)[:, np.newaxis]\n",
      "C:\\anaconda3\\lib\\site-packages\\sklearn\\neural_network\\multilayer_perceptron.py:564: ConvergenceWarning: Stochastic Optimizer: Maximum iterations (2000) reached and the optimization hasn't converged yet.\n",
      "  % self.max_iter, ConvergenceWarning)\n",
      "C:\\anaconda3\\lib\\site-packages\\sklearn\\neural_network\\_base.py:91: RuntimeWarning: invalid value encountered in subtract\n",
      "  tmp = X - X.max(axis=1)[:, np.newaxis]\n",
      "C:\\anaconda3\\lib\\site-packages\\sklearn\\neural_network\\multilayer_perceptron.py:564: ConvergenceWarning: Stochastic Optimizer: Maximum iterations (2000) reached and the optimization hasn't converged yet.\n",
      "  % self.max_iter, ConvergenceWarning)\n",
      "C:\\anaconda3\\lib\\site-packages\\sklearn\\neural_network\\_base.py:91: RuntimeWarning: invalid value encountered in subtract\n",
      "  tmp = X - X.max(axis=1)[:, np.newaxis]\n",
      "C:\\anaconda3\\lib\\site-packages\\sklearn\\neural_network\\multilayer_perceptron.py:564: ConvergenceWarning: Stochastic Optimizer: Maximum iterations (2000) reached and the optimization hasn't converged yet.\n",
      "  % self.max_iter, ConvergenceWarning)\n",
      "C:\\anaconda3\\lib\\site-packages\\sklearn\\neural_network\\_base.py:91: RuntimeWarning: invalid value encountered in subtract\n",
      "  tmp = X - X.max(axis=1)[:, np.newaxis]\n",
      "C:\\anaconda3\\lib\\site-packages\\sklearn\\neural_network\\multilayer_perceptron.py:564: ConvergenceWarning: Stochastic Optimizer: Maximum iterations (2000) reached and the optimization hasn't converged yet.\n",
      "  % self.max_iter, ConvergenceWarning)\n",
      "C:\\anaconda3\\lib\\site-packages\\sklearn\\neural_network\\_base.py:91: RuntimeWarning: invalid value encountered in subtract\n",
      "  tmp = X - X.max(axis=1)[:, np.newaxis]\n",
      "C:\\anaconda3\\lib\\site-packages\\sklearn\\neural_network\\multilayer_perceptron.py:564: ConvergenceWarning: Stochastic Optimizer: Maximum iterations (2000) reached and the optimization hasn't converged yet.\n",
      "  % self.max_iter, ConvergenceWarning)\n",
      "C:\\anaconda3\\lib\\site-packages\\sklearn\\neural_network\\multilayer_perceptron.py:564: ConvergenceWarning: Stochastic Optimizer: Maximum iterations (2000) reached and the optimization hasn't converged yet.\n",
      "  % self.max_iter, ConvergenceWarning)\n",
      "C:\\anaconda3\\lib\\site-packages\\sklearn\\neural_network\\multilayer_perceptron.py:564: ConvergenceWarning: Stochastic Optimizer: Maximum iterations (2000) reached and the optimization hasn't converged yet.\n",
      "  % self.max_iter, ConvergenceWarning)\n",
      "C:\\anaconda3\\lib\\site-packages\\sklearn\\neural_network\\_base.py:91: RuntimeWarning: invalid value encountered in subtract\n",
      "  tmp = X - X.max(axis=1)[:, np.newaxis]\n",
      "C:\\anaconda3\\lib\\site-packages\\sklearn\\neural_network\\multilayer_perceptron.py:564: ConvergenceWarning: Stochastic Optimizer: Maximum iterations (2000) reached and the optimization hasn't converged yet.\n",
      "  % self.max_iter, ConvergenceWarning)\n",
      "C:\\anaconda3\\lib\\site-packages\\sklearn\\neural_network\\_base.py:91: RuntimeWarning: invalid value encountered in subtract\n",
      "  tmp = X - X.max(axis=1)[:, np.newaxis]\n",
      "C:\\anaconda3\\lib\\site-packages\\sklearn\\neural_network\\multilayer_perceptron.py:564: ConvergenceWarning: Stochastic Optimizer: Maximum iterations (2000) reached and the optimization hasn't converged yet.\n",
      "  % self.max_iter, ConvergenceWarning)\n",
      "C:\\anaconda3\\lib\\site-packages\\sklearn\\neural_network\\multilayer_perceptron.py:564: ConvergenceWarning: Stochastic Optimizer: Maximum iterations (2000) reached and the optimization hasn't converged yet.\n",
      "  % self.max_iter, ConvergenceWarning)\n",
      "C:\\anaconda3\\lib\\site-packages\\sklearn\\neural_network\\multilayer_perceptron.py:564: ConvergenceWarning: Stochastic Optimizer: Maximum iterations (2000) reached and the optimization hasn't converged yet.\n",
      "  % self.max_iter, ConvergenceWarning)\n",
      "C:\\anaconda3\\lib\\site-packages\\sklearn\\neural_network\\multilayer_perceptron.py:564: ConvergenceWarning: Stochastic Optimizer: Maximum iterations (2000) reached and the optimization hasn't converged yet.\n",
      "  % self.max_iter, ConvergenceWarning)\n",
      "C:\\anaconda3\\lib\\site-packages\\sklearn\\neural_network\\_base.py:91: RuntimeWarning: invalid value encountered in subtract\n",
      "  tmp = X - X.max(axis=1)[:, np.newaxis]\n",
      "C:\\anaconda3\\lib\\site-packages\\sklearn\\neural_network\\multilayer_perceptron.py:564: ConvergenceWarning: Stochastic Optimizer: Maximum iterations (2000) reached and the optimization hasn't converged yet.\n",
      "  % self.max_iter, ConvergenceWarning)\n",
      "C:\\anaconda3\\lib\\site-packages\\sklearn\\neural_network\\multilayer_perceptron.py:564: ConvergenceWarning: Stochastic Optimizer: Maximum iterations (2000) reached and the optimization hasn't converged yet.\n",
      "  % self.max_iter, ConvergenceWarning)\n",
      "C:\\anaconda3\\lib\\site-packages\\sklearn\\neural_network\\_base.py:91: RuntimeWarning: invalid value encountered in subtract\n",
      "  tmp = X - X.max(axis=1)[:, np.newaxis]\n",
      "C:\\anaconda3\\lib\\site-packages\\sklearn\\neural_network\\multilayer_perceptron.py:564: ConvergenceWarning: Stochastic Optimizer: Maximum iterations (2000) reached and the optimization hasn't converged yet.\n",
      "  % self.max_iter, ConvergenceWarning)\n",
      "C:\\anaconda3\\lib\\site-packages\\sklearn\\neural_network\\multilayer_perceptron.py:564: ConvergenceWarning: Stochastic Optimizer: Maximum iterations (2000) reached and the optimization hasn't converged yet.\n",
      "  % self.max_iter, ConvergenceWarning)\n",
      "C:\\anaconda3\\lib\\site-packages\\sklearn\\neural_network\\multilayer_perceptron.py:564: ConvergenceWarning: Stochastic Optimizer: Maximum iterations (2000) reached and the optimization hasn't converged yet.\n",
      "  % self.max_iter, ConvergenceWarning)\n",
      "C:\\anaconda3\\lib\\site-packages\\sklearn\\neural_network\\multilayer_perceptron.py:564: ConvergenceWarning: Stochastic Optimizer: Maximum iterations (2000) reached and the optimization hasn't converged yet.\n",
      "  % self.max_iter, ConvergenceWarning)\n",
      "C:\\anaconda3\\lib\\site-packages\\sklearn\\neural_network\\multilayer_perceptron.py:564: ConvergenceWarning: Stochastic Optimizer: Maximum iterations (2000) reached and the optimization hasn't converged yet.\n",
      "  % self.max_iter, ConvergenceWarning)\n",
      "C:\\anaconda3\\lib\\site-packages\\sklearn\\neural_network\\multilayer_perceptron.py:564: ConvergenceWarning: Stochastic Optimizer: Maximum iterations (2000) reached and the optimization hasn't converged yet.\n",
      "  % self.max_iter, ConvergenceWarning)\n",
      "C:\\anaconda3\\lib\\site-packages\\sklearn\\neural_network\\multilayer_perceptron.py:564: ConvergenceWarning: Stochastic Optimizer: Maximum iterations (2000) reached and the optimization hasn't converged yet.\n",
      "  % self.max_iter, ConvergenceWarning)\n",
      "C:\\anaconda3\\lib\\site-packages\\sklearn\\neural_network\\multilayer_perceptron.py:564: ConvergenceWarning: Stochastic Optimizer: Maximum iterations (2000) reached and the optimization hasn't converged yet.\n",
      "  % self.max_iter, ConvergenceWarning)\n",
      "C:\\anaconda3\\lib\\site-packages\\sklearn\\neural_network\\_base.py:91: RuntimeWarning: invalid value encountered in subtract\n",
      "  tmp = X - X.max(axis=1)[:, np.newaxis]\n",
      "C:\\anaconda3\\lib\\site-packages\\sklearn\\neural_network\\multilayer_perceptron.py:564: ConvergenceWarning: Stochastic Optimizer: Maximum iterations (2000) reached and the optimization hasn't converged yet.\n",
      "  % self.max_iter, ConvergenceWarning)\n",
      "C:\\anaconda3\\lib\\site-packages\\sklearn\\neural_network\\multilayer_perceptron.py:564: ConvergenceWarning: Stochastic Optimizer: Maximum iterations (2000) reached and the optimization hasn't converged yet.\n",
      "  % self.max_iter, ConvergenceWarning)\n",
      "C:\\anaconda3\\lib\\site-packages\\sklearn\\neural_network\\_base.py:91: RuntimeWarning: invalid value encountered in subtract\n",
      "  tmp = X - X.max(axis=1)[:, np.newaxis]\n"
     ]
    },
    {
     "name": "stderr",
     "output_type": "stream",
     "text": [
      "C:\\anaconda3\\lib\\site-packages\\sklearn\\neural_network\\multilayer_perceptron.py:564: ConvergenceWarning: Stochastic Optimizer: Maximum iterations (2000) reached and the optimization hasn't converged yet.\n",
      "  % self.max_iter, ConvergenceWarning)\n",
      "C:\\anaconda3\\lib\\site-packages\\sklearn\\neural_network\\_base.py:91: RuntimeWarning: invalid value encountered in subtract\n",
      "  tmp = X - X.max(axis=1)[:, np.newaxis]\n",
      "C:\\anaconda3\\lib\\site-packages\\sklearn\\neural_network\\multilayer_perceptron.py:564: ConvergenceWarning: Stochastic Optimizer: Maximum iterations (2000) reached and the optimization hasn't converged yet.\n",
      "  % self.max_iter, ConvergenceWarning)\n",
      "C:\\anaconda3\\lib\\site-packages\\sklearn\\neural_network\\_base.py:91: RuntimeWarning: invalid value encountered in subtract\n",
      "  tmp = X - X.max(axis=1)[:, np.newaxis]\n",
      "C:\\anaconda3\\lib\\site-packages\\sklearn\\neural_network\\multilayer_perceptron.py:564: ConvergenceWarning: Stochastic Optimizer: Maximum iterations (2000) reached and the optimization hasn't converged yet.\n",
      "  % self.max_iter, ConvergenceWarning)\n",
      "C:\\anaconda3\\lib\\site-packages\\sklearn\\neural_network\\_base.py:91: RuntimeWarning: invalid value encountered in subtract\n",
      "  tmp = X - X.max(axis=1)[:, np.newaxis]\n",
      "C:\\anaconda3\\lib\\site-packages\\sklearn\\neural_network\\multilayer_perceptron.py:564: ConvergenceWarning: Stochastic Optimizer: Maximum iterations (2000) reached and the optimization hasn't converged yet.\n",
      "  % self.max_iter, ConvergenceWarning)\n",
      "C:\\anaconda3\\lib\\site-packages\\sklearn\\neural_network\\multilayer_perceptron.py:564: ConvergenceWarning: Stochastic Optimizer: Maximum iterations (2000) reached and the optimization hasn't converged yet.\n",
      "  % self.max_iter, ConvergenceWarning)\n",
      "C:\\anaconda3\\lib\\site-packages\\sklearn\\neural_network\\_base.py:91: RuntimeWarning: invalid value encountered in subtract\n",
      "  tmp = X - X.max(axis=1)[:, np.newaxis]\n",
      "C:\\anaconda3\\lib\\site-packages\\sklearn\\neural_network\\multilayer_perceptron.py:564: ConvergenceWarning: Stochastic Optimizer: Maximum iterations (2000) reached and the optimization hasn't converged yet.\n",
      "  % self.max_iter, ConvergenceWarning)\n",
      "C:\\anaconda3\\lib\\site-packages\\sklearn\\neural_network\\multilayer_perceptron.py:564: ConvergenceWarning: Stochastic Optimizer: Maximum iterations (2000) reached and the optimization hasn't converged yet.\n",
      "  % self.max_iter, ConvergenceWarning)\n",
      "C:\\anaconda3\\lib\\site-packages\\sklearn\\neural_network\\_base.py:91: RuntimeWarning: invalid value encountered in subtract\n",
      "  tmp = X - X.max(axis=1)[:, np.newaxis]\n",
      "C:\\anaconda3\\lib\\site-packages\\sklearn\\neural_network\\multilayer_perceptron.py:564: ConvergenceWarning: Stochastic Optimizer: Maximum iterations (2000) reached and the optimization hasn't converged yet.\n",
      "  % self.max_iter, ConvergenceWarning)\n",
      "C:\\anaconda3\\lib\\site-packages\\sklearn\\neural_network\\multilayer_perceptron.py:564: ConvergenceWarning: Stochastic Optimizer: Maximum iterations (2000) reached and the optimization hasn't converged yet.\n",
      "  % self.max_iter, ConvergenceWarning)\n",
      "C:\\anaconda3\\lib\\site-packages\\sklearn\\neural_network\\multilayer_perceptron.py:564: ConvergenceWarning: Stochastic Optimizer: Maximum iterations (2000) reached and the optimization hasn't converged yet.\n",
      "  % self.max_iter, ConvergenceWarning)\n"
     ]
    },
    {
     "data": {
      "text/plain": [
       "GridSearchCV(cv=5, error_score='raise',\n",
       "       estimator=MLPClassifier(activation='relu', alpha=1e-05, batch_size='auto', beta_1=0.9,\n",
       "       beta_2=0.999, early_stopping=False, epsilon=1e-08,\n",
       "       hidden_layer_sizes=(5, 2), learning_rate='constant',\n",
       "       learning_rate_init=0.001, max_iter=2000, momentum=0.9,\n",
       "       nesterovs_momentum=True, power_t=0.5, random_state=None,\n",
       "       shuffle=True, solver='lbfgs', tol=0.0001, validation_fraction=0.1,\n",
       "       verbose=False, warm_start=False),\n",
       "       fit_params=None, iid=True, n_jobs=1,\n",
       "       param_grid={'activation': ['identity', 'logistic', 'tanh', 'relu'], 'solver': ['lbfgs', 'sgd', 'adam'], 'hidden_layer_sizes': [(5, 2), (2, 5), (10, 5), (5, 10), (10, 10), (20, 10), (10, 20)]},\n",
       "       pre_dispatch='2*n_jobs', refit=True, return_train_score='warn',\n",
       "       scoring=None, verbose=0)"
      ]
     },
     "execution_count": 57,
     "metadata": {},
     "output_type": "execute_result"
    }
   ],
   "source": [
    "from sklearn.model_selection import GridSearchCV\n",
    "\n",
    "classifier = GridSearchCV(clf, param_grid, cv=5)\n",
    "classifier.fit(data, labels)"
   ]
  },
  {
   "cell_type": "code",
   "execution_count": 58,
   "metadata": {},
   "outputs": [
    {
     "data": {
      "text/plain": [
       "(0.9536826119969628,\n",
       " {'activation': 'tanh', 'hidden_layer_sizes': (20, 10), 'solver': 'adam'})"
      ]
     },
     "execution_count": 58,
     "metadata": {},
     "output_type": "execute_result"
    }
   ],
   "source": [
    "classifier.best_score_, classifier.best_params_\n",
    "# 0.9537 Params: {'activation': 'tanh', 'hidden_layer_sizes': (20, 10), 'solver': 'adam'}"
   ]
  },
  {
   "cell_type": "code",
   "execution_count": 59,
   "metadata": {
    "scrolled": true
   },
   "outputs": [
    {
     "name": "stdout",
     "output_type": "stream",
     "text": [
      "0.0866 Params: {'activation': 'identity', 'hidden_layer_sizes': (5, 2), 'solver': 'lbfgs'}\n",
      "0.0175 Params: {'activation': 'identity', 'hidden_layer_sizes': (5, 2), 'solver': 'sgd'}\n",
      "0.6765 Params: {'activation': 'identity', 'hidden_layer_sizes': (5, 2), 'solver': 'adam'}\n",
      "0.1374 Params: {'activation': 'identity', 'hidden_layer_sizes': (2, 5), 'solver': 'lbfgs'}\n",
      "0.0175 Params: {'activation': 'identity', 'hidden_layer_sizes': (2, 5), 'solver': 'sgd'}\n",
      "0.7365 Params: {'activation': 'identity', 'hidden_layer_sizes': (2, 5), 'solver': 'adam'}\n",
      "0.1063 Params: {'activation': 'identity', 'hidden_layer_sizes': (10, 5), 'solver': 'lbfgs'}\n",
      "0.0175 Params: {'activation': 'identity', 'hidden_layer_sizes': (10, 5), 'solver': 'sgd'}\n",
      "0.9347 Params: {'activation': 'identity', 'hidden_layer_sizes': (10, 5), 'solver': 'adam'}\n",
      "0.1215 Params: {'activation': 'identity', 'hidden_layer_sizes': (5, 10), 'solver': 'lbfgs'}\n",
      "0.0175 Params: {'activation': 'identity', 'hidden_layer_sizes': (5, 10), 'solver': 'sgd'}\n",
      "0.9385 Params: {'activation': 'identity', 'hidden_layer_sizes': (5, 10), 'solver': 'adam'}\n",
      "0.1663 Params: {'activation': 'identity', 'hidden_layer_sizes': (10, 10), 'solver': 'lbfgs'}\n",
      "0.0175 Params: {'activation': 'identity', 'hidden_layer_sizes': (10, 10), 'solver': 'sgd'}\n",
      "0.9514 Params: {'activation': 'identity', 'hidden_layer_sizes': (10, 10), 'solver': 'adam'}\n",
      "0.1503 Params: {'activation': 'identity', 'hidden_layer_sizes': (20, 10), 'solver': 'lbfgs'}\n",
      "0.0175 Params: {'activation': 'identity', 'hidden_layer_sizes': (20, 10), 'solver': 'sgd'}\n",
      "0.9461 Params: {'activation': 'identity', 'hidden_layer_sizes': (20, 10), 'solver': 'adam'}\n",
      "0.1708 Params: {'activation': 'identity', 'hidden_layer_sizes': (10, 20), 'solver': 'lbfgs'}\n",
      "0.0175 Params: {'activation': 'identity', 'hidden_layer_sizes': (10, 20), 'solver': 'sgd'}\n",
      "0.9453 Params: {'activation': 'identity', 'hidden_layer_sizes': (10, 20), 'solver': 'adam'}\n",
      "0.6735 Params: {'activation': 'logistic', 'hidden_layer_sizes': (5, 2), 'solver': 'lbfgs'}\n",
      "0.4563 Params: {'activation': 'logistic', 'hidden_layer_sizes': (5, 2), 'solver': 'sgd'}\n",
      "0.5535 Params: {'activation': 'logistic', 'hidden_layer_sizes': (5, 2), 'solver': 'adam'}\n",
      "0.4746 Params: {'activation': 'logistic', 'hidden_layer_sizes': (2, 5), 'solver': 'lbfgs'}\n",
      "0.3144 Params: {'activation': 'logistic', 'hidden_layer_sizes': (2, 5), 'solver': 'sgd'}\n",
      "0.4222 Params: {'activation': 'logistic', 'hidden_layer_sizes': (2, 5), 'solver': 'adam'}\n",
      "0.8648 Params: {'activation': 'logistic', 'hidden_layer_sizes': (10, 5), 'solver': 'lbfgs'}\n",
      "0.7039 Params: {'activation': 'logistic', 'hidden_layer_sizes': (10, 5), 'solver': 'sgd'}\n",
      "0.7107 Params: {'activation': 'logistic', 'hidden_layer_sizes': (10, 5), 'solver': 'adam'}\n",
      "0.8064 Params: {'activation': 'logistic', 'hidden_layer_sizes': (5, 10), 'solver': 'lbfgs'}\n",
      "0.6773 Params: {'activation': 'logistic', 'hidden_layer_sizes': (5, 10), 'solver': 'sgd'}\n",
      "0.7547 Params: {'activation': 'logistic', 'hidden_layer_sizes': (5, 10), 'solver': 'adam'}\n",
      "0.8838 Params: {'activation': 'logistic', 'hidden_layer_sizes': (10, 10), 'solver': 'lbfgs'}\n",
      "0.7813 Params: {'activation': 'logistic', 'hidden_layer_sizes': (10, 10), 'solver': 'sgd'}\n",
      "0.8383 Params: {'activation': 'logistic', 'hidden_layer_sizes': (10, 10), 'solver': 'adam'}\n",
      "0.8907 Params: {'activation': 'logistic', 'hidden_layer_sizes': (20, 10), 'solver': 'lbfgs'}\n",
      "0.8307 Params: {'activation': 'logistic', 'hidden_layer_sizes': (20, 10), 'solver': 'sgd'}\n",
      "0.9165 Params: {'activation': 'logistic', 'hidden_layer_sizes': (20, 10), 'solver': 'adam'}\n",
      "0.9028 Params: {'activation': 'logistic', 'hidden_layer_sizes': (10, 20), 'solver': 'lbfgs'}\n",
      "0.7456 Params: {'activation': 'logistic', 'hidden_layer_sizes': (10, 20), 'solver': 'sgd'}\n",
      "0.8588 Params: {'activation': 'logistic', 'hidden_layer_sizes': (10, 20), 'solver': 'adam'}\n",
      "0.7601 Params: {'activation': 'tanh', 'hidden_layer_sizes': (5, 2), 'solver': 'lbfgs'}\n",
      "0.6674 Params: {'activation': 'tanh', 'hidden_layer_sizes': (5, 2), 'solver': 'sgd'}\n",
      "0.5543 Params: {'activation': 'tanh', 'hidden_layer_sizes': (5, 2), 'solver': 'adam'}\n",
      "0.4951 Params: {'activation': 'tanh', 'hidden_layer_sizes': (2, 5), 'solver': 'lbfgs'}\n",
      "0.6295 Params: {'activation': 'tanh', 'hidden_layer_sizes': (2, 5), 'solver': 'sgd'}\n",
      "0.6363 Params: {'activation': 'tanh', 'hidden_layer_sizes': (2, 5), 'solver': 'adam'}\n",
      "0.8603 Params: {'activation': 'tanh', 'hidden_layer_sizes': (10, 5), 'solver': 'lbfgs'}\n",
      "0.8793 Params: {'activation': 'tanh', 'hidden_layer_sizes': (10, 5), 'solver': 'sgd'}\n",
      "0.9263 Params: {'activation': 'tanh', 'hidden_layer_sizes': (10, 5), 'solver': 'adam'}\n",
      "0.7601 Params: {'activation': 'tanh', 'hidden_layer_sizes': (5, 10), 'solver': 'lbfgs'}\n",
      "0.8732 Params: {'activation': 'tanh', 'hidden_layer_sizes': (5, 10), 'solver': 'sgd'}\n",
      "0.8922 Params: {'activation': 'tanh', 'hidden_layer_sizes': (5, 10), 'solver': 'adam'}\n",
      "0.9127 Params: {'activation': 'tanh', 'hidden_layer_sizes': (10, 10), 'solver': 'lbfgs'}\n",
      "0.8891 Params: {'activation': 'tanh', 'hidden_layer_sizes': (10, 10), 'solver': 'sgd'}\n",
      "0.9241 Params: {'activation': 'tanh', 'hidden_layer_sizes': (10, 10), 'solver': 'adam'}\n",
      "0.8990 Params: {'activation': 'tanh', 'hidden_layer_sizes': (20, 10), 'solver': 'lbfgs'}\n",
      "0.9294 Params: {'activation': 'tanh', 'hidden_layer_sizes': (20, 10), 'solver': 'sgd'}\n",
      "0.9537 Params: {'activation': 'tanh', 'hidden_layer_sizes': (20, 10), 'solver': 'adam'}\n",
      "0.8952 Params: {'activation': 'tanh', 'hidden_layer_sizes': (10, 20), 'solver': 'lbfgs'}\n",
      "0.8990 Params: {'activation': 'tanh', 'hidden_layer_sizes': (10, 20), 'solver': 'sgd'}\n",
      "0.9446 Params: {'activation': 'tanh', 'hidden_layer_sizes': (10, 20), 'solver': 'adam'}\n",
      "0.1784 Params: {'activation': 'relu', 'hidden_layer_sizes': (5, 2), 'solver': 'lbfgs'}\n",
      "0.1314 Params: {'activation': 'relu', 'hidden_layer_sizes': (5, 2), 'solver': 'sgd'}\n",
      "0.6188 Params: {'activation': 'relu', 'hidden_layer_sizes': (5, 2), 'solver': 'adam'}\n",
      "0.1397 Params: {'activation': 'relu', 'hidden_layer_sizes': (2, 5), 'solver': 'lbfgs'}\n",
      "0.1169 Params: {'activation': 'relu', 'hidden_layer_sizes': (2, 5), 'solver': 'sgd'}\n",
      "0.6431 Params: {'activation': 'relu', 'hidden_layer_sizes': (2, 5), 'solver': 'adam'}\n",
      "0.0896 Params: {'activation': 'relu', 'hidden_layer_sizes': (10, 5), 'solver': 'lbfgs'}\n",
      "0.1002 Params: {'activation': 'relu', 'hidden_layer_sizes': (10, 5), 'solver': 'sgd'}\n",
      "0.8360 Params: {'activation': 'relu', 'hidden_layer_sizes': (10, 5), 'solver': 'adam'}\n",
      "0.1101 Params: {'activation': 'relu', 'hidden_layer_sizes': (5, 10), 'solver': 'lbfgs'}\n",
      "0.1154 Params: {'activation': 'relu', 'hidden_layer_sizes': (5, 10), 'solver': 'sgd'}\n",
      "0.9172 Params: {'activation': 'relu', 'hidden_layer_sizes': (5, 10), 'solver': 'adam'}\n",
      "0.1245 Params: {'activation': 'relu', 'hidden_layer_sizes': (10, 10), 'solver': 'lbfgs'}\n",
      "0.1511 Params: {'activation': 'relu', 'hidden_layer_sizes': (10, 10), 'solver': 'sgd'}\n",
      "0.9271 Params: {'activation': 'relu', 'hidden_layer_sizes': (10, 10), 'solver': 'adam'}\n",
      "0.1086 Params: {'activation': 'relu', 'hidden_layer_sizes': (20, 10), 'solver': 'lbfgs'}\n",
      "0.1397 Params: {'activation': 'relu', 'hidden_layer_sizes': (20, 10), 'solver': 'sgd'}\n",
      "0.9385 Params: {'activation': 'relu', 'hidden_layer_sizes': (20, 10), 'solver': 'adam'}\n",
      "0.1260 Params: {'activation': 'relu', 'hidden_layer_sizes': (10, 20), 'solver': 'lbfgs'}\n",
      "0.1078 Params: {'activation': 'relu', 'hidden_layer_sizes': (10, 20), 'solver': 'sgd'}\n",
      "0.9286 Params: {'activation': 'relu', 'hidden_layer_sizes': (10, 20), 'solver': 'adam'}\n"
     ]
    }
   ],
   "source": [
    "for mean, params in zip(classifier.cv_results_['mean_test_score'], classifier.cv_results_['params']):\n",
    "        print('%0.4f Params: %r' % (mean, params))"
   ]
  },
  {
   "cell_type": "code",
   "execution_count": 60,
   "metadata": {},
   "outputs": [
    {
     "data": {
      "text/plain": [
       "array(['banjo', 'banjo', 'banjo', 'banjo', 'banjo', 'banjo', 'banjo',\n",
       "       'banjo', 'banjo', 'banjo', 'banjo', 'banjo', 'banjo', 'banjo',\n",
       "       'banjo', 'banjo', 'banjo', 'banjo', 'banjo', 'banjo', 'banjo',\n",
       "       'banjo', 'banjo', 'cello', 'cello', 'cello', 'cello', 'cello',\n",
       "       'cello', 'cello', 'cello', 'cello', 'cello', 'cello', 'cello',\n",
       "       'cello', 'cello', 'cello', 'cello', 'cello', 'cello', 'cello',\n",
       "       'cello', 'cello', 'cello', 'cello', 'cello', 'cello', 'cello',\n",
       "       'cello'], dtype='<U12')"
      ]
     },
     "execution_count": 60,
     "metadata": {},
     "output_type": "execute_result"
    }
   ],
   "source": [
    "classifier.best_estimator_.predict(data[0:50,:])"
   ]
  },
  {
   "cell_type": "markdown",
   "metadata": {},
   "source": [
    "## Run Cross Validation with Repeated Stratified K Fold"
   ]
  },
  {
   "cell_type": "code",
   "execution_count": 86,
   "metadata": {},
   "outputs": [
    {
     "name": "stdout",
     "output_type": "stream",
     "text": [
      "Accuracy: 0.96 (+/- 0.04)\n"
     ]
    }
   ],
   "source": [
    "from sklearn.model_selection import cross_val_score\n",
    "from sklearn.model_selection import RepeatedStratifiedKFold\n",
    "\n",
    "clf = MLPClassifier(solver='adam', alpha=1e-5, hidden_layer_sizes=(20,10), max_iter=2000, activation='tanh')\n",
    "\n",
    "rskf = RepeatedStratifiedKFold(n_splits=5, n_repeats=10)\n",
    "scores = cross_val_score(clf, data, labels, cv=rkf)\n",
    "\n",
    "print(\"Accuracy: %0.2f (+/- %0.2f)\" % (scores.mean(), scores.std() * 2))"
   ]
  },
  {
   "cell_type": "markdown",
   "metadata": {},
   "source": [
    "# Confusion Matrix"
   ]
  },
  {
   "cell_type": "code",
   "execution_count": 137,
   "metadata": {},
   "outputs": [],
   "source": [
    "from sklearn.model_selection import train_test_split\n",
    "data_train, data_test, label_train, label_test = train_test_split(data, labels, test_size=0.33)"
   ]
  },
  {
   "cell_type": "code",
   "execution_count": 138,
   "metadata": {},
   "outputs": [
    {
     "data": {
      "text/plain": [
       "(['banjo',\n",
       "  'cello',\n",
       "  'clarinet',\n",
       "  'english-horn',\n",
       "  'guitar',\n",
       "  'oboe',\n",
       "  'trumpet',\n",
       "  'violin'],\n",
       " [23, 191, 191, 234, 22, 184, 139, 333])"
      ]
     },
     "execution_count": 138,
     "metadata": {},
     "output_type": "execute_result"
    }
   ],
   "source": [
    "from collections import Counter\n",
    "classes = list(Counter(labels).keys())\n",
    "num_class_instances = list(Counter(labels).values())\n",
    "classes, num_class_instances"
   ]
  },
  {
   "cell_type": "code",
   "execution_count": 139,
   "metadata": {},
   "outputs": [
    {
     "data": {
      "text/plain": [
       "MLPClassifier(activation='tanh', alpha=1e-05, batch_size='auto', beta_1=0.9,\n",
       "       beta_2=0.999, early_stopping=False, epsilon=1e-08,\n",
       "       hidden_layer_sizes=(20, 10), learning_rate='constant',\n",
       "       learning_rate_init=0.001, max_iter=2000, momentum=0.9,\n",
       "       nesterovs_momentum=True, power_t=0.5, random_state=None,\n",
       "       shuffle=True, solver='adam', tol=0.0001, validation_fraction=0.1,\n",
       "       verbose=False, warm_start=False)"
      ]
     },
     "execution_count": 139,
     "metadata": {},
     "output_type": "execute_result"
    }
   ],
   "source": [
    "clf = MLPClassifier(solver='adam', alpha=1e-5, hidden_layer_sizes=(20,10), max_iter=2000, activation='tanh')\n",
    "\n",
    "clf.fit(data_train, label_train)"
   ]
  },
  {
   "cell_type": "code",
   "execution_count": 140,
   "metadata": {},
   "outputs": [],
   "source": [
    "from sklearn.metrics import confusion_matrix\n",
    "\n",
    "label_pred = clf.predict(data_test)"
   ]
  },
  {
   "cell_type": "markdown",
   "metadata": {},
   "source": [
    "Method for plotting confusion matrix taken from: https://scikit-learn.org/stable/auto_examples/model_selection/plot_confusion_matrix.html"
   ]
  },
  {
   "cell_type": "code",
   "execution_count": 141,
   "metadata": {},
   "outputs": [],
   "source": [
    "import itertools\n",
    "import numpy as np\n",
    "import matplotlib.pyplot as plt\n",
    "\n",
    "from sklearn.metrics import confusion_matrix\n",
    "\n",
    "def plot_confusion_matrix(cm, classes,\n",
    "                          normalize=False,\n",
    "                          title='Confusion matrix',\n",
    "                          cmap=plt.cm.Blues):\n",
    "    \"\"\"\n",
    "    This function prints and plots the confusion matrix.\n",
    "    Normalization can be applied by setting `normalize=True`.\n",
    "    \"\"\"\n",
    "    if normalize:\n",
    "        cm = 100*(cm.astype('float') / cm.sum(axis=1)[:, np.newaxis])\n",
    "        print(\"Normalized confusion matrix\")\n",
    "    else:\n",
    "        print('Confusion matrix, without normalization')\n",
    "\n",
    "    print(cm)\n",
    "    \n",
    "    plt.imshow(cm, interpolation='nearest', cmap=cmap)\n",
    "    plt.title(title)\n",
    "    plt.colorbar()\n",
    "    tick_marks = np.arange(len(classes))\n",
    "    plt.xticks(tick_marks, classes, rotation=45)\n",
    "    plt.yticks(tick_marks, classes)\n",
    "\n",
    "    fmt = '.2f' if normalize else 'd'\n",
    "    thresh = cm.max() / 2.\n",
    "    for i, j in itertools.product(range(cm.shape[0]), range(cm.shape[1])):\n",
    "        plt.text(j, i, format(cm[i, j], fmt),\n",
    "                 horizontalalignment=\"center\",\n",
    "                 color=\"white\" if cm[i, j] > thresh else \"black\")\n",
    "\n",
    "    plt.ylabel('True label')\n",
    "    plt.xlabel('Predicted label')\n",
    "    plt.tight_layout()"
   ]
  },
  {
   "cell_type": "code",
   "execution_count": 142,
   "metadata": {},
   "outputs": [
    {
     "name": "stdout",
     "output_type": "stream",
     "text": [
      "Confusion matrix, without normalization\n",
      "[[ 10   0   0   0   1   0   0   0]\n",
      " [  0  47   0   1   0   0   1   2]\n",
      " [  0   0  61   0   0   0   0   0]\n",
      " [  0   0   0  83   0   0   0   0]\n",
      " [  0   0   0   0   5   0   0   0]\n",
      " [  0   0   0   0   0  62   0   0]\n",
      " [  0   2   1   0   0   1  38   1]\n",
      " [  0  10   1   4   0   0   1 103]]\n",
      "Normalized confusion matrix\n",
      "[[ 90.91   0.     0.     0.     9.09   0.     0.     0.  ]\n",
      " [  0.    92.16   0.     1.96   0.     0.     1.96   3.92]\n",
      " [  0.     0.   100.     0.     0.     0.     0.     0.  ]\n",
      " [  0.     0.     0.   100.     0.     0.     0.     0.  ]\n",
      " [  0.     0.     0.     0.   100.     0.     0.     0.  ]\n",
      " [  0.     0.     0.     0.     0.   100.     0.     0.  ]\n",
      " [  0.     4.65   2.33   0.     0.     2.33  88.37   2.33]\n",
      " [  0.     8.4    0.84   3.36   0.     0.     0.84  86.55]]\n"
     ]
    },
    {
     "data": {
      "image/png": "[encoded data removed]",
      "text/plain": [
       "<Figure size 640x480 with 2 Axes>"
      ]
     },
     "metadata": {},
     "output_type": "display_data"
    },
    {
     "data": {
      "image/png": "[encoded data removed]",
      "text/plain": [
       "<Figure size 640x480 with 2 Axes>"
      ]
     },
     "metadata": {},
     "output_type": "display_data"
    }
   ],
   "source": [
    "# Compute confusion matrix\n",
    "cnf_matrix = confusion_matrix(label_test, label_pred)\n",
    "np.set_printoptions(precision=2)\n",
    "\n",
    "\n",
    "# Plot non-normalized confusion matrix\n",
    "plt.figure(figsize=(8, 6), dpi=80)\n",
    "plot_confusion_matrix(cnf_matrix, classes=classes,\n",
    "                      title='Confusion matrix, without normalization')\n",
    "\n",
    "# Plot normalized confusion matrix\n",
    "plt.figure(figsize=(8, 6), dpi=80)\n",
    "plot_confusion_matrix(cnf_matrix, classes=classes, normalize=True,\n",
    "                      title='Normalized confusion matrix')\n",
    "\n",
    "\n",
    "plt.show()"
   ]
  },
  {
   "cell_type": "code",
   "execution_count": null,
   "metadata": {},
   "outputs": [],
   "source": []
  },
  {
   "cell_type": "code",
   "execution_count": null,
   "metadata": {},
   "outputs": [],
   "source": []
  }
 ],
 "metadata": {
  "kernelspec": {
   "display_name": "Python 3",
   "language": "python",
   "name": "python3"
  },
  "language_info": {
   "codemirror_mode": {
    "name": "ipython",
    "version": 3
   },
   "file_extension": ".py",
   "mimetype": "text/x-python",
   "name": "python",
   "nbconvert_exporter": "python",
   "pygments_lexer": "ipython3",
   "version": "3.6.5"
  }
 },
 "nbformat": 4,
 "nbformat_minor": 2
}
