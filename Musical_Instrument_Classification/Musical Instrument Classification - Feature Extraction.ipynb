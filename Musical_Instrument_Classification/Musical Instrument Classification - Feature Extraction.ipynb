{
 "cells": [
  {
   "cell_type": "code",
   "execution_count": 1,
   "metadata": {},
   "outputs": [],
   "source": [
    "import os\n",
    "import scipy.io.wavfile as wav\n",
    "\n",
    "def mp32np(filename):\n",
    "    temp_wav = 'data/temp.wav'\n",
    "    cmd = 'lame --decode {0} {1}'.format( filename, temp_wav) \n",
    "    os.system(cmd)\n",
    "    Fs, data_list = wav.read(temp_wav)\n",
    "    data = np.array(data_list)\n",
    "    os.remove(temp_wav)\n",
    "    return data, Fs"
   ]
  },
  {
   "cell_type": "code",
   "execution_count": 3,
   "metadata": {},
   "outputs": [],
   "source": [
    "import numpy as np\n",
    "input_filename = './data/cello/cello_C4_1_forte_arco-normal.mp3'\n",
    "data, Fs = mp32np(input_filename)\n",
    "n = len(data)\n",
    "t = np.arange(0,n/Fs,1/Fs)"
   ]
  },
  {
   "cell_type": "code",
   "execution_count": 4,
   "metadata": {},
   "outputs": [],
   "source": [
    "import sounddevice as sd\n",
    "sd.play(data, Fs)"
   ]
  },
  {
   "cell_type": "code",
   "execution_count": 5,
   "metadata": {},
   "outputs": [
    {
     "data": {
      "text/plain": [
       "((59375,), array([0.00000000e+00, 2.26757370e-05, 4.53514739e-05, ...,\n",
       "        1.34630385e+00, 1.34632653e+00, 1.34634921e+00]))"
      ]
     },
     "execution_count": 5,
     "metadata": {},
     "output_type": "execute_result"
    }
   ],
   "source": [
    "data.shape, t"
   ]
  },
  {
   "cell_type": "code",
   "execution_count": 7,
   "metadata": {},
   "outputs": [
    {
     "data": {
      "image/png": "[encoded data removed]",
      "text/plain": [
       "<Figure size 432x288 with 1 Axes>"
      ]
     },
     "metadata": {},
     "output_type": "display_data"
    }
   ],
   "source": [
    "import matplotlib.pyplot as plt\n",
    "\n",
    "plt.plot(t, data)\n",
    "plt.show()"
   ]
  },
  {
   "cell_type": "markdown",
   "metadata": {},
   "source": [
    "# Feature 1: The Fast Fourier Transform Coefficients\n",
    "* Maybe we need to split the converted audio data into frames? (e.g. 1024 frames)\n",
    "* Then get the FFCT of each frame?"
   ]
  },
  {
   "cell_type": "code",
   "execution_count": 8,
   "metadata": {},
   "outputs": [],
   "source": [
    "import numpy.fft as fft\n",
    "\n",
    "def get_fftc(data):\n",
    "\n",
    "    n = len(data)\n",
    "    \n",
    "    k = np.arange(n)\n",
    "    T = n/Fs\n",
    "\n",
    "    data_freq = k/T\n",
    "    data_freq = data_freq[range(int(n/2))]\n",
    "\n",
    "    data_fft = fft.fft(data)/n\n",
    "    data_fft = data_fft[range(int(n/2))]\n",
    "    \n",
    "    return data_fft, data_freq"
   ]
  },
  {
   "cell_type": "code",
   "execution_count": 9,
   "metadata": {},
   "outputs": [
    {
     "data": {
      "image/png": "[encoded data removed]",
      "text/plain": [
       "<Figure size 432x288 with 1 Axes>"
      ]
     },
     "metadata": {},
     "output_type": "display_data"
    }
   ],
   "source": [
    "data_fft, data_freq = get_fftc(data)\n",
    "plt.plot(data_freq, data_fft.real)\n",
    "plt.axis([0,1000, min(data_fft.real), max(data_fft.real)])\n",
    "plt.grid(which='both')\n",
    "plt.show()"
   ]
  },
  {
   "cell_type": "code",
   "execution_count": 10,
   "metadata": {},
   "outputs": [],
   "source": [
    "# Find the peak in the coefficients\n",
    "def find_fundamental_freq(data_fft):\n",
    "    idx = np.argmax(np.abs(data_fft))\n",
    "    freq = data_freq[idx]\n",
    "    freq_in_hertz = abs(freq)\n",
    "    print(freq_in_hertz)\n",
    "    return freq_in_hertz"
   ]
  },
  {
   "cell_type": "markdown",
   "metadata": {},
   "source": [
    "Pitch-shifting:\n",
    "http://zulko.github.io/blog/2014/03/29/soundstretching-and-pitch-shifting-in-python/"
   ]
  },
  {
   "cell_type": "code",
   "execution_count": 11,
   "metadata": {},
   "outputs": [],
   "source": [
    "import numpy as np\n",
    "\n",
    "def speedx(sound_array, factor):\n",
    "    \"\"\" Multiplies the sound's speed by some `factor` \"\"\"\n",
    "    indices = np.round( np.arange(0, len(sound_array), factor) )\n",
    "    indices = indices[indices < len(sound_array)].astype(int)\n",
    "    return sound_array[ indices.astype(int) ]\n",
    "\n",
    "def stretch(sound_array, f, window_size, h):\n",
    "    \"\"\" Stretches the sound by a factor `f` \"\"\"\n",
    "\n",
    "    phase  = np.zeros(window_size)\n",
    "    hanning_window = np.hanning(window_size)\n",
    "    result = np.zeros( int(len(sound_array) /f) + window_size, dtype='complex128')\n",
    "\n",
    "    for i in np.arange(0, len(sound_array)-(window_size+h), int(h*f)):\n",
    "        # two potentially overlapping subarrays\n",
    "        a1 = sound_array[i: i + window_size]\n",
    "        a2 = sound_array[i + h: i + window_size + h]\n",
    "\n",
    "        # resynchronize the second array on the first\n",
    "        s1 =  np.fft.fft(hanning_window * a1)\n",
    "        s2 =  np.fft.fft(hanning_window * a2)\n",
    "        phase = (phase + np.angle(s2/s1)) % 2*np.pi\n",
    "        a2_rephased = np.fft.ifft(np.abs(s2)*np.exp(1j*phase))\n",
    "\n",
    "        # add to result\n",
    "        i2 = int(i/f)\n",
    "        result[i2 : i2 + window_size] += hanning_window*a2_rephased\n",
    "\n",
    "    result = ((2**(16-4)) * result/result.max()) # normalize (16bit)\n",
    "\n",
    "    return result.astype('int16')\n",
    "\n",
    "def pitchshift(snd_array, n, window_size=2**13, h=2**11):\n",
    "    \"\"\" Changes the pitch of a sound by ``n`` semitones. \"\"\"\n",
    "    factor = 2**(1.0 * n / 12.0)\n",
    "    stretched = stretch(snd_array, 1.0/factor, window_size, h)\n",
    "    return speedx(stretched[window_size:], factor)"
   ]
  },
  {
   "cell_type": "code",
   "execution_count": 12,
   "metadata": {},
   "outputs": [
    {
     "name": "stderr",
     "output_type": "stream",
     "text": [
      "C:\\anaconda3\\lib\\site-packages\\ipykernel_launcher.py:33: ComplexWarning: Casting complex values to real discards the imaginary part\n"
     ]
    }
   ],
   "source": [
    "x_a4 = pitchshift(data, 9)"
   ]
  },
  {
   "cell_type": "code",
   "execution_count": 13,
   "metadata": {},
   "outputs": [],
   "source": [
    "import sounddevice as sd\n",
    "sd.play(data, Fs)\n",
    "sd.play(x_a4, Fs)"
   ]
  },
  {
   "cell_type": "code",
   "execution_count": null,
   "metadata": {},
   "outputs": [],
   "source": []
  },
  {
   "cell_type": "code",
   "execution_count": null,
   "metadata": {},
   "outputs": [],
   "source": []
  },
  {
   "cell_type": "code",
   "execution_count": 14,
   "metadata": {},
   "outputs": [],
   "source": [
    "def get_shifted_fftc(data, data_pitch, cutoff_freq=2000):\n",
    "    \n",
    "    scale = [\"a2\", \"as2\", \"b2\",\n",
    "         \"c3\", \"cs3\", \"d3\", \"ds3\", \"e3\", \"f3\", \"fs3\", \"g3\", \"gs3\", \"a3\", \"as3\", \"b3\",\n",
    "         \"c4\", \"cs4\", \"d4\", \"ds4\", \"e4\", \"f4\", \"fs4\", \"g4\", \"gs4\", \"a4\", \"as4\", \"b4\",\n",
    "         \"c5\", \"cs5\", \"d5\", \"ds5\", \"e5\", \"f5\", \"fs5\", \"g5\", \"gs5\", \"a5\", \"as5\", \"b5\",\n",
    "         \"c6\", \"cs6\", \"d6\", \"ds6\", \"e6\", \"f6\", \"fs6\", \"g6\", \"gs6\", \"a6\", \"as6\", \"b6\"\n",
    "        ]\n",
    "    \n",
    "    REF_PITCH = \"a4\"\n",
    "    semitones_to_shift = scale.index(REF_PITCH.lower()) - scale.index(data_pitch.lower())\n",
    "    \n",
    "    data_pitchshifted = pitchshift(data, semitones_to_shift)\n",
    "    \n",
    "    n = len(data_pitchshifted)\n",
    "    k = np.arange(n)\n",
    "    T = n/Fs\n",
    "\n",
    "    data_freq = k/T\n",
    "    data_freq = [x for x in data_freq if x <= cutoff_freq]\n",
    "    \n",
    "    data_fft = fft.fft(data_pitchshifted)/n\n",
    "    data_fft = data_fft[range(len(data_freq))]\n",
    "    \n",
    "    return data_fft, data_freq"
   ]
  },
  {
   "cell_type": "markdown",
   "metadata": {},
   "source": [
    "USAGE!!"
   ]
  },
  {
   "cell_type": "code",
   "execution_count": 52,
   "metadata": {},
   "outputs": [
    {
     "name": "stdout",
     "output_type": "stream",
     "text": [
      "2693\n"
     ]
    },
    {
     "name": "stderr",
     "output_type": "stream",
     "text": [
      "C:\\anaconda3\\lib\\site-packages\\ipykernel_launcher.py:33: ComplexWarning: Casting complex values to real discards the imaginary part\n"
     ]
    }
   ],
   "source": [
    "import os\n",
    "#input_filename = './data/clarinet/clarinet_B3_025_forte_normal.mp3'\n",
    "input_filename = './data/guitar/guitar_C4_very-long_forte_normal.mp3'\n",
    "#input_filename = './data/guitar/guitar_E4_very-long_forte_normal.mp3'\n",
    "data_pitch = os.path.basename(input_filename).split('_')[1].lower()\n",
    "data_fft_shifted, data_freq_shifted = get_shifted_fftc(data, data_pitch)\n",
    "print(len(data_fft_shifted))"
   ]
  },
  {
   "cell_type": "code",
   "execution_count": 53,
   "metadata": {},
   "outputs": [
    {
     "data": {
      "image/png": "[encoded data removed]",
      "text/plain": [
       "<Figure size 432x288 with 1 Axes>"
      ]
     },
     "metadata": {},
     "output_type": "display_data"
    }
   ],
   "source": [
    "# Compare freq plot with un-shifted\n",
    "data_fft, data_freq = get_fftc(data)\n",
    "\n",
    "plt.plot(data_freq, data_fft.real, data_freq_shifted, data_fft_shifted.real)\n",
    "plt.axis([0,1500, min(data_fft.real), max(data_fft.real)])\n",
    "plt.grid(which='both')\n",
    "plt.show()"
   ]
  },
  {
   "cell_type": "code",
   "execution_count": 54,
   "metadata": {},
   "outputs": [],
   "source": [
    "def reduce_to_mag_bins(data, n_bins=50):\n",
    "    n_samples_per_bin = int(len(data)/n_bins)+1\n",
    "    #print(len(data),n_samples_per_bin)\n",
    "    \n",
    "    bins = np.zeros((n_bins,1))\n",
    "    \n",
    "    for i in range(n_bins):\n",
    "        lower = i*(n_samples_per_bin)\n",
    "        upper = (i+1)*n_samples_per_bin-1\n",
    "        if upper > len(data):\n",
    "            upper = -1\n",
    "            \n",
    "        bins[i] = abs(np.mean(data[lower:upper]))\n",
    "        \n",
    "    return bins\n",
    "    "
   ]
  },
  {
   "cell_type": "code",
   "execution_count": 55,
   "metadata": {
    "scrolled": true
   },
   "outputs": [],
   "source": [
    "bins = reduce_to_mag_bins(data_fft_shifted)"
   ]
  },
  {
   "cell_type": "code",
   "execution_count": 56,
   "metadata": {},
   "outputs": [
    {
     "data": {
      "image/png": "[encoded data removed]",
      "text/plain": [
       "<Figure size 432x288 with 1 Axes>"
      ]
     },
     "metadata": {},
     "output_type": "display_data"
    }
   ],
   "source": [
    "plt.stem(bins)\n",
    "plt.grid(which='both')\n",
    "plt.savefig(os.path.basename(input_filename)+'_fig.png')\n",
    "plt.show()"
   ]
  },
  {
   "cell_type": "markdown",
   "metadata": {},
   "source": [
    "# Feature 2: Real Cepstral Coefficients (RCEP)"
   ]
  },
  {
   "cell_type": "markdown",
   "metadata": {},
   "source": [
    "# Feature 3: Mel-Frequency Cepstral Coefficients (MFCC)"
   ]
  },
  {
   "cell_type": "markdown",
   "metadata": {},
   "source": [
    "# Feature 4: Zero Crossing Rate"
   ]
  },
  {
   "cell_type": "markdown",
   "metadata": {},
   "source": [
    "# Feature 5: Spectral Spread, Spectral Centroid, Spectral Roll-off"
   ]
  },
  {
   "cell_type": "markdown",
   "metadata": {},
   "source": [
    "# Feature 6: Autoregression Coefficients (LPC)"
   ]
  },
  {
   "cell_type": "code",
   "execution_count": null,
   "metadata": {},
   "outputs": [],
   "source": []
  },
  {
   "cell_type": "code",
   "execution_count": null,
   "metadata": {},
   "outputs": [],
   "source": []
  },
  {
   "cell_type": "code",
   "execution_count": null,
   "metadata": {},
   "outputs": [],
   "source": []
  }
 ],
 "metadata": {
  "kernelspec": {
   "display_name": "Python 3",
   "language": "python",
   "name": "python3"
  },
  "language_info": {
   "codemirror_mode": {
    "name": "ipython",
    "version": 3
   },
   "file_extension": ".py",
   "mimetype": "text/x-python",
   "name": "python",
   "nbconvert_exporter": "python",
   "pygments_lexer": "ipython3",
   "version": "3.6.5"
  }
 },
 "nbformat": 4,
 "nbformat_minor": 2
}
