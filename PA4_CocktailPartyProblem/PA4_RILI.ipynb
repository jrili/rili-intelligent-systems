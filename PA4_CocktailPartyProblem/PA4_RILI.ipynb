{
 "cells": [
  {
   "cell_type": "markdown",
   "metadata": {},
   "source": [
    "# CS280 Programming Assignment 4\n",
    "__Cocktail Party Problem__<br>\n",
    "<br>\n",
    "Compiler: Python 3.6.5<br>\n",
    "OS: Windows 7 64-bit"
   ]
  },
  {
   "cell_type": "markdown",
   "metadata": {},
   "source": [
    "## 1. Load the audio files mic1.wav to mic5.wav found in the folder Audio_Data. \n",
    "These files are synchronized audio recordings captured by five microphones positioned at five different locations"
   ]
  },
  {
   "cell_type": "code",
   "execution_count": 1,
   "metadata": {},
   "outputs": [],
   "source": [
    "import scipy.io.wavfile as wav\n",
    "import os\n",
    "\n",
    "data_path = './Audio_Data'\n",
    "\n",
    "sampling_freq, mic1_data = wav.read(os.path.join(data_path, 'mic1.wav'))\n",
    "sampling_freq, mic2_data = wav.read(os.path.join(data_path, 'mic2.wav'))\n",
    "sampling_freq, mic3_data = wav.read(os.path.join(data_path, 'mic3.wav'))\n",
    "sampling_freq, mic4_data = wav.read(os.path.join(data_path, 'mic4.wav'))\n",
    "sampling_freq, mic5_data = wav.read(os.path.join(data_path, 'mic5.wav'))"
   ]
  },
  {
   "cell_type": "markdown",
   "metadata": {},
   "source": [
    "## 2. Form the mixture matrix X from the input files"
   ]
  },
  {
   "cell_type": "code",
   "execution_count": 2,
   "metadata": {},
   "outputs": [],
   "source": [
    "import numpy as np\n",
    "\n",
    "X = np.array([mic1_data, mic2_data, mic3_data, mic4_data, mic5_data])\n",
    "X = np.transpose(X)/X.std(axis=1)\n"
   ]
  },
  {
   "cell_type": "code",
   "execution_count": 3,
   "metadata": {},
   "outputs": [
    {
     "data": {
      "text/plain": [
       "(191258, 5)"
      ]
     },
     "execution_count": 3,
     "metadata": {},
     "output_type": "execute_result"
    }
   ],
   "source": [
    "X.shape"
   ]
  },
  {
   "cell_type": "code",
   "execution_count": 4,
   "metadata": {},
   "outputs": [],
   "source": [
    "import sounddevice as sd\n",
    "sd.play(0.1*X[:, 0], sampling_freq)"
   ]
  },
  {
   "cell_type": "code",
   "execution_count": 5,
   "metadata": {},
   "outputs": [
    {
     "data": {
      "text/plain": [
       "<Figure size 640x480 with 1 Axes>"
      ]
     },
     "metadata": {},
     "output_type": "display_data"
    }
   ],
   "source": [
    "import matplotlib.pyplot as plt\n",
    "import numpy as np\n",
    "\n",
    "t = np.arange(0, len(X[:,0])/sampling_freq, 1/sampling_freq)\n",
    "plt.plot(t, X[:,0])\n",
    "plt.show()"
   ]
  },
  {
   "cell_type": "markdown",
   "metadata": {},
   "source": [
    "## 3. Invoke the appropriate ICA command\n",
    "that \"unmixes\" the five independent components from the mixture of audio signals. Experiment on the ff:\n",
    "* appropriate input sampling rate\n",
    "* whether centering is required\n",
    "* whether whitening is necessary\n",
    "* appropriate contrastive function G(y)"
   ]
  },
  {
   "cell_type": "markdown",
   "metadata": {},
   "source": [
    "First, let's define a function that plays the unmixed components which are outputted by FastICA:"
   ]
  },
  {
   "cell_type": "code",
   "execution_count": 6,
   "metadata": {},
   "outputs": [],
   "source": [
    "import sounddevice as sd\n",
    "import time\n",
    "\n",
    "def play_independent_components(S, sampling_freq):\n",
    "    print('========================================================================================')\n",
    "    print('INFO: Turn your volume up to listen to the separated components! (Earphones recommended)')\n",
    "    print('========================================================================================')\n",
    "    S = np.transpose(S)\n",
    "    for index, component in enumerate(S):\n",
    "        print('Playing component %d:' % (index+1))\n",
    "        sd.play(component, sampling_freq)\n",
    "        time.sleep(len(component)/sampling_freq + 1)\n",
    "    print('Done!')\n",
    "    \n"
   ]
  },
  {
   "cell_type": "markdown",
   "metadata": {},
   "source": [
    "Before trying anything out, let's check if our data is already centered:"
   ]
  },
  {
   "cell_type": "code",
   "execution_count": 7,
   "metadata": {},
   "outputs": [
    {
     "name": "stdout",
     "output_type": "stream",
     "text": [
      "means:  [-4.78217954e-08 -1.79852265e-07 -7.77710164e-08  4.03623969e-09\n",
      " -3.21318801e-08]\n"
     ]
    }
   ],
   "source": [
    "means = np.mean(X, axis=0)\n",
    "print('means: ', means)"
   ]
  },
  {
   "cell_type": "markdown",
   "metadata": {},
   "source": [
    "The means of the mixed sound files seem to be very close to zero. Therefore we can consider the data centered by default."
   ]
  },
  {
   "cell_type": "markdown",
   "metadata": {},
   "source": [
    "####  Try default settings\n",
    "* centering: yes\n",
    "* whitening: yes\n",
    "* G(y): logcosh (default)"
   ]
  },
  {
   "cell_type": "code",
   "execution_count": 8,
   "metadata": {},
   "outputs": [],
   "source": [
    "from sklearn.decomposition import FastICA\n",
    "\n",
    "ica = FastICA(n_components=X.shape[-1])\n",
    "S = ica.fit_transform(X)"
   ]
  },
  {
   "cell_type": "code",
   "execution_count": 9,
   "metadata": {
    "scrolled": true
   },
   "outputs": [
    {
     "name": "stdout",
     "output_type": "stream",
     "text": [
      "========================================================================================\n",
      "INFO: Turn your volume up to listen to the separated components! (Earphones recommended)\n",
      "========================================================================================\n",
      "Playing component 1:\n",
      "Playing component 2:\n",
      "Playing component 3:\n",
      "Playing component 4:\n",
      "Playing component 5:\n",
      "Done!\n"
     ]
    }
   ],
   "source": [
    "play_independent_components(50*S, sampling_freq)"
   ]
  },
  {
   "cell_type": "markdown",
   "metadata": {},
   "source": [
    "####  Try removing centering\n",
    "* centering: no\n",
    "* whitening: yes\n",
    "* G(y): logcosh (default)"
   ]
  },
  {
   "cell_type": "code",
   "execution_count": 10,
   "metadata": {},
   "outputs": [],
   "source": [
    "def whiten(X):\n",
    "    X = np.transpose(X)\n",
    "    Cx = np.cov(X)\n",
    "    #print(Cx)\n",
    "    V = 2*(1/np.sqrt(np.absolute(Cx)))\n",
    "    #print(V.shape)\n",
    "    #print(V)\n",
    "    #print(X.shape)\n",
    "    X_whitened = np.matmul(V, X)\n",
    "    #print(np.transpose(X_whitened).shape)\n",
    "    #print(X_whitened)\n",
    "    return np.transpose(X_whitened)"
   ]
  },
  {
   "cell_type": "code",
   "execution_count": 11,
   "metadata": {},
   "outputs": [
    {
     "name": "stdout",
     "output_type": "stream",
     "text": [
      "means:  [-33.93942858  49.37727719   2.18800194 -23.48232819   1.54039754]\n",
      "(191258, 5)\n"
     ]
    }
   ],
   "source": [
    "X_not_centered = X - 10*np.random.uniform(low=-5, high=5, size=(1, X.shape[-1]))\n",
    "print('means: ', np.mean(X_not_centered, axis=0))\n",
    "\n",
    "X_not_centered = whiten(X_not_centered)\n",
    "print(X_not_centered.shape)\n",
    "ica = FastICA(n_components=X_not_centered.shape[-1], whiten=False)\n",
    "# S = ica.fit_transform(X_not_centered)"
   ]
  },
  {
   "cell_type": "markdown",
   "metadata": {},
   "source": [
    "####  Try removing whitening\n",
    "* centering: yes\n",
    "* whitening: no\n",
    "* G(y): logcosh (default)"
   ]
  },
  {
   "cell_type": "code",
   "execution_count": 12,
   "metadata": {},
   "outputs": [
    {
     "name": "stderr",
     "output_type": "stream",
     "text": [
      "C:\\anaconda3\\lib\\site-packages\\sklearn\\decomposition\\fastica_.py:295: UserWarning: Ignoring n_components with whiten=False.\n",
      "  warnings.warn('Ignoring n_components with whiten=False.')\n",
      "C:\\anaconda3\\lib\\site-packages\\sklearn\\decomposition\\fastica_.py:118: UserWarning: FastICA did not converge. Consider increasing tolerance or the maximum number of iterations.\n",
      "  warnings.warn('FastICA did not converge. Consider increasing '\n"
     ]
    }
   ],
   "source": [
    "from sklearn.decomposition import FastICA\n",
    "\n",
    "ica = FastICA(n_components=X.shape[-1], whiten=False)\n",
    "S = ica.fit_transform(X)"
   ]
  },
  {
   "cell_type": "code",
   "execution_count": 13,
   "metadata": {},
   "outputs": [
    {
     "name": "stdout",
     "output_type": "stream",
     "text": [
      "========================================================================================\n",
      "INFO: Turn your volume up to listen to the separated components! (Earphones recommended)\n",
      "========================================================================================\n",
      "Playing component 1:\n",
      "Playing component 2:\n",
      "Playing component 3:\n",
      "Playing component 4:\n",
      "Playing component 5:\n",
      "Done!\n"
     ]
    }
   ],
   "source": [
    "play_independent_components(S, sampling_freq)"
   ]
  },
  {
   "cell_type": "markdown",
   "metadata": {},
   "source": [
    "####  Try varying G(y): logcosh\n",
    "* centering: yes\n",
    "* whitening: yes\n",
    "* G(y): logcosh (default)"
   ]
  },
  {
   "cell_type": "code",
   "execution_count": 44,
   "metadata": {},
   "outputs": [],
   "source": [
    "from sklearn.decomposition import FastICA\n",
    "\n",
    "ica = FastICA(n_components=X.shape[-1])\n",
    "S = ica.fit_transform(X)"
   ]
  },
  {
   "cell_type": "code",
   "execution_count": 45,
   "metadata": {},
   "outputs": [],
   "source": [
    "from sklearn.metrics import mean_squared_error\n",
    "\n",
    "def compute_residuals(X, X_recon):\n",
    "    min_errors = np.zeros((X.shape[-1]))\n",
    "    for i in range(X.shape[-1]):\n",
    "        errors = np.array([5, 5, 5, 5, 5], dtype='float64')\n",
    "        for j in range(X_recon.shape[-1]):\n",
    "            errors[j] = mean_squared_error(X[:, i], X_recon[:, j])\n",
    "        min_errors[i] = min(errors)\n",
    "    return min_errors"
   ]
  },
  {
   "cell_type": "code",
   "execution_count": 46,
   "metadata": {},
   "outputs": [
    {
     "name": "stdout",
     "output_type": "stream",
     "text": [
      "Residuals for G(y)=logcosh:  [0.99771003 0.35260233 0.61621657 1.58425705 0.93796394]\n"
     ]
    }
   ],
   "source": [
    "A = ica.mixing_\n",
    "X_recon = np.matmul(S, A)\n",
    "\n",
    "residuals_logcosh = compute_residuals(X, X_recon)\n",
    "print('Residuals for G(y)=logcosh: ', residuals_logcosh)"
   ]
  },
  {
   "cell_type": "markdown",
   "metadata": {},
   "source": [
    "####  Try varying G(y): exp\n",
    "* centering: yes\n",
    "* whitening: yes\n",
    "* G(y): exp"
   ]
  },
  {
   "cell_type": "code",
   "execution_count": 47,
   "metadata": {},
   "outputs": [],
   "source": [
    "from sklearn.decomposition import FastICA\n",
    "\n",
    "ica = FastICA(n_components=X.shape[-1], whiten=True, fun='exp')\n",
    "S = ica.fit_transform(X)"
   ]
  },
  {
   "cell_type": "code",
   "execution_count": 48,
   "metadata": {},
   "outputs": [
    {
     "name": "stdout",
     "output_type": "stream",
     "text": [
      "Residuals for G(y)=exp:  [0.96268755 0.59576485 0.88834541 0.82041206 0.76904431]\n"
     ]
    }
   ],
   "source": [
    "A = ica.mixing_\n",
    "X_recon = np.matmul(S, A)\n",
    "\n",
    "residuals_exp = compute_residuals(X, X_recon)\n",
    "print('Residuals for G(y)=exp: ', residuals_exp)"
   ]
  },
  {
   "cell_type": "markdown",
   "metadata": {},
   "source": [
    "####  Try varying G(y): cube\n",
    "* centering: yes\n",
    "* whitening: yes\n",
    "* G(y): cube"
   ]
  },
  {
   "cell_type": "code",
   "execution_count": 49,
   "metadata": {},
   "outputs": [],
   "source": [
    "from sklearn.decomposition import FastICA\n",
    "\n",
    "ica = FastICA(n_components=X.shape[-1], whiten=True, fun='cube')\n",
    "S = ica.fit_transform(X)"
   ]
  },
  {
   "cell_type": "code",
   "execution_count": 50,
   "metadata": {},
   "outputs": [
    {
     "name": "stdout",
     "output_type": "stream",
     "text": [
      "Residuals for G(y)=cube:  [0.4404183  0.70100829 0.23620003 0.84960115 0.30745145]\n"
     ]
    }
   ],
   "source": [
    "A = ica.mixing_\n",
    "X_recon = np.matmul(S, A)\n",
    "\n",
    "residuals_cube = compute_residuals(X, X_recon)\n",
    "print('Residuals for G(y)=cube: ', residuals_cube)"
   ]
  },
  {
   "cell_type": "markdown",
   "metadata": {},
   "source": [
    "## 4. Save the independent components\n",
    "as audio files in wav format. Label them as shat[1-5].wav"
   ]
  },
  {
   "cell_type": "markdown",
   "metadata": {},
   "source": [
    "Best results when G(y) is cube:"
   ]
  },
  {
   "cell_type": "code",
   "execution_count": 51,
   "metadata": {},
   "outputs": [],
   "source": [
    "from sklearn.decomposition import FastICA\n",
    "\n",
    "ica = FastICA(n_components=X.shape[-1], whiten=True, fun='cube')\n",
    "S = ica.fit_transform(X)"
   ]
  },
  {
   "cell_type": "code",
   "execution_count": 52,
   "metadata": {},
   "outputs": [
    {
     "data": {
      "text/plain": [
       "(191258, 5)"
      ]
     },
     "execution_count": 52,
     "metadata": {},
     "output_type": "execute_result"
    }
   ],
   "source": [
    "S.shape"
   ]
  },
  {
   "cell_type": "code",
   "execution_count": 55,
   "metadata": {},
   "outputs": [],
   "source": [
    "import scipy.io.wavfile as wav\n",
    "\n",
    "for i, unmixed in enumerate(np.transpose(S)):\n",
    "    filename = 'shat%d.wav' % (i+1)\n",
    "    wav.write(filename, sampling_freq, S[: , i])"
   ]
  },
  {
   "cell_type": "markdown",
   "metadata": {},
   "source": [
    "## 5. Reconstruct the mixture signals\n",
    "and measure the residuals for each one. Print out the residual values."
   ]
  },
  {
   "cell_type": "code",
   "execution_count": 56,
   "metadata": {},
   "outputs": [
    {
     "name": "stdout",
     "output_type": "stream",
     "text": [
      "Residuals for G(y)=cube:  [0.80859226 0.96807667 1.20942711 1.25663695 1.13143217]\n"
     ]
    }
   ],
   "source": [
    "A = ica.mixing_\n",
    "X_recon = np.matmul(S, A)\n",
    "\n",
    "residuals_cube = compute_residuals(X, X_recon)\n",
    "print('Residuals for G(y)=cube: ', residuals_cube)"
   ]
  },
  {
   "cell_type": "markdown",
   "metadata": {},
   "source": [
    "## 6. Save the reconstructed mixture signals\n",
    "as audio files in wav format. Label them as recon[1-5].wav"
   ]
  },
  {
   "cell_type": "code",
   "execution_count": 57,
   "metadata": {},
   "outputs": [
    {
     "data": {
      "text/plain": [
       "(191258, 5)"
      ]
     },
     "execution_count": 57,
     "metadata": {},
     "output_type": "execute_result"
    }
   ],
   "source": [
    "X_recon.shape"
   ]
  },
  {
   "cell_type": "code",
   "execution_count": 58,
   "metadata": {},
   "outputs": [],
   "source": [
    "import scipy.io.wavfile as wav\n",
    "\n",
    "for i, unmixed in enumerate(np.transpose(X_recon)):\n",
    "    filename = 'recon%d.wav' % (i+1)\n",
    "    wav.write(filename, sampling_freq, X_recon[: , i])"
   ]
  },
  {
   "cell_type": "code",
   "execution_count": null,
   "metadata": {},
   "outputs": [],
   "source": []
  }
 ],
 "metadata": {
  "kernelspec": {
   "display_name": "Python 3",
   "language": "python",
   "name": "python3"
  },
  "language_info": {
   "codemirror_mode": {
    "name": "ipython",
    "version": 3
   },
   "file_extension": ".py",
   "mimetype": "text/x-python",
   "name": "python",
   "nbconvert_exporter": "python",
   "pygments_lexer": "ipython3",
   "version": "3.6.5"
  }
 },
 "nbformat": 4,
 "nbformat_minor": 2
}
