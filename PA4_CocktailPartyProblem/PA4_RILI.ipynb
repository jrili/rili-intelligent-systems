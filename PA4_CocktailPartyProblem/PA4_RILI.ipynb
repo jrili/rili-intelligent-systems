{
 "cells": [
  {
   "cell_type": "markdown",
   "metadata": {},
   "source": [
    "# CS280 Programming Assignment 4\n",
    "__Cocktail Party Problem__<br>\n",
    "<br>\n",
    "Compiler: Python 3.6.5<br>\n",
    "OS: Windows 7 64-bit"
   ]
  },
  {
   "cell_type": "markdown",
   "metadata": {},
   "source": [
    "Answers to questions:<br>\n",
    "a) What is the sampling rate for the input files?<br>\n",
    ">The sampling rate used is 22050 Hz. This value was returned by the method used for reading wav files, scipy.io.wavfile.read.<br>\n",
    "\n",
    "b) Is centering necessary?<br>\n",
    ">Yes, centering is required. As can be seen on section __*3b*__, FastICA returns an error when _whiten_ is disabled and uncentered data is inputted to FastICA.\n",
    "Therefore we conclude that centering is necessary for ICA.\n",
    "\n",
    "c) Is whitening required?<br>\n",
    ">Yes, whitening is required. As can be seen on section __*3c*__, FastICA does not converge when _whiten_ is disabled, even if the input data is centered.\n",
    "Therefore we conclude that whitening is necessary for ICA.\n",
    "\n",
    "d) What is the appropriate contrastive function G(y)?<br>\n",
    ">To choose which is the most appropriate G(y) to use, we compute the residuals for each G(y) option and choose the one that yields the least residuals.<br>Shown in sections __*3d*__, __*3e*__, and __*3f*__, the __exp__ function yielded the least residuals, and therefore is chosen as the most appropriate.\n",
    "\n",
    "e) What are the residuals of the reconstructed mixture signals?<br>\n",
    ">As shown in section 5: (May vary for every run)\n",
    "Residuals for G(y)=exp:  [0.30384944 0.94084872 0.63921146 0.10750831 0.19435049]"
   ]
  },
  {
   "cell_type": "markdown",
   "metadata": {},
   "source": [
    "## 1. Load the audio files mic1.wav to mic5.wav found in the folder Audio_Data. \n",
    "These files are synchronized audio recordings captured by five microphones positioned at five different locations"
   ]
  },
  {
   "cell_type": "code",
   "execution_count": 1,
   "metadata": {},
   "outputs": [],
   "source": [
    "import scipy.io.wavfile as wav\n",
    "import os\n",
    "\n",
    "data_path = './Audio_Data'\n",
    "\n",
    "sampling_freq, mic1_data = wav.read(os.path.join(data_path, 'mic1.wav'))\n",
    "sampling_freq, mic2_data = wav.read(os.path.join(data_path, 'mic2.wav'))\n",
    "sampling_freq, mic3_data = wav.read(os.path.join(data_path, 'mic3.wav'))\n",
    "sampling_freq, mic4_data = wav.read(os.path.join(data_path, 'mic4.wav'))\n",
    "sampling_freq, mic5_data = wav.read(os.path.join(data_path, 'mic5.wav'))"
   ]
  },
  {
   "cell_type": "code",
   "execution_count": 2,
   "metadata": {},
   "outputs": [
    {
     "name": "stdout",
     "output_type": "stream",
     "text": [
      "The sampling rate used for the input files is : 22050 Hz.\n"
     ]
    }
   ],
   "source": [
    "print(\"The sampling rate used for the input files is :\", sampling_freq, \"Hz.\")"
   ]
  },
  {
   "cell_type": "markdown",
   "metadata": {},
   "source": [
    "## 2. Form the mixture matrix X from the input files"
   ]
  },
  {
   "cell_type": "code",
   "execution_count": 3,
   "metadata": {},
   "outputs": [],
   "source": [
    "import numpy as np\n",
    "\n",
    "X = np.array([mic1_data, mic2_data, mic3_data, mic4_data, mic5_data])\n",
    "\n",
    "# standardize the data\n",
    "X = np.transpose(X)/X.std(axis=1)\n"
   ]
  },
  {
   "cell_type": "code",
   "execution_count": 4,
   "metadata": {
    "scrolled": true
   },
   "outputs": [
    {
     "data": {
      "text/plain": [
       "(191258, 5)"
      ]
     },
     "execution_count": 4,
     "metadata": {},
     "output_type": "execute_result"
    }
   ],
   "source": [
    "X.shape"
   ]
  },
  {
   "cell_type": "markdown",
   "metadata": {},
   "source": [
    "Optional: play sound"
   ]
  },
  {
   "cell_type": "code",
   "execution_count": 5,
   "metadata": {},
   "outputs": [],
   "source": [
    "# import sounddevice as sd\n",
    "# sd.play(0.1*X[:, 0], sampling_freq)"
   ]
  },
  {
   "cell_type": "markdown",
   "metadata": {},
   "source": [
    "## 3. Invoke the appropriate ICA command\n",
    "that \"unmixes\" the five independent components from the mixture of audio signals. Experiment on the ff:\n",
    "* appropriate input sampling rate\n",
    "* whether centering is required\n",
    "* whether whitening is necessary\n",
    "* appropriate contrastive function G(y)"
   ]
  },
  {
   "cell_type": "markdown",
   "metadata": {},
   "source": [
    "First, let's define a function that plays the unmixed components which are outputted by FastICA:"
   ]
  },
  {
   "cell_type": "code",
   "execution_count": 6,
   "metadata": {},
   "outputs": [],
   "source": [
    "import sounddevice as sd\n",
    "import time\n",
    "\n",
    "def play_independent_components(S, sampling_freq):\n",
    "    print('========================================================================================')\n",
    "    print('INFO: Turn your volume up to listen to the separated components! (Earphones recommended)')\n",
    "    print('========================================================================================')\n",
    "    S = np.transpose(S)\n",
    "    for index, component in enumerate(S):\n",
    "        print('Playing component %d:' % (index+1))\n",
    "        sd.play(component, sampling_freq)\n",
    "        time.sleep(len(component)/sampling_freq + 1)\n",
    "    print('Done!')\n",
    "    \n"
   ]
  },
  {
   "cell_type": "markdown",
   "metadata": {},
   "source": [
    "Before trying anything out, let's check if our data is already centered:"
   ]
  },
  {
   "cell_type": "code",
   "execution_count": 7,
   "metadata": {},
   "outputs": [
    {
     "name": "stdout",
     "output_type": "stream",
     "text": [
      "means:  [-4.78217954e-08 -1.79852265e-07 -7.77710164e-08  4.03623969e-09\n",
      " -3.21318801e-08]\n"
     ]
    }
   ],
   "source": [
    "means = np.mean(X, axis=0)\n",
    "print('means: ', means)"
   ]
  },
  {
   "cell_type": "markdown",
   "metadata": {},
   "source": [
    "The means of the mixed sound files seem to be very close to zero. Therefore we can consider the data centered by default."
   ]
  },
  {
   "cell_type": "markdown",
   "metadata": {},
   "source": [
    "#### 3.a Try default settings\n",
    "* centering: yes\n",
    "* whitening: yes\n",
    "* G(y): logcosh (default)"
   ]
  },
  {
   "cell_type": "code",
   "execution_count": 8,
   "metadata": {},
   "outputs": [],
   "source": [
    "from sklearn.decomposition import FastICA\n",
    "\n",
    "ica = FastICA(n_components=X.shape[-1])\n",
    "S = ica.fit_transform(X)"
   ]
  },
  {
   "cell_type": "code",
   "execution_count": 9,
   "metadata": {
    "scrolled": true
   },
   "outputs": [
    {
     "name": "stdout",
     "output_type": "stream",
     "text": [
      "========================================================================================\n",
      "INFO: Turn your volume up to listen to the separated components! (Earphones recommended)\n",
      "========================================================================================\n",
      "Playing component 1:\n",
      "Playing component 2:\n",
      "Playing component 3:\n",
      "Playing component 4:\n",
      "Playing component 5:\n",
      "Done!\n"
     ]
    }
   ],
   "source": [
    "play_independent_components(50*S, sampling_freq)"
   ]
  },
  {
   "cell_type": "markdown",
   "metadata": {},
   "source": [
    "#### 3.b Try removing centering\n",
    "* centering: no\n",
    "* whitening: yes\n",
    "* G(y): logcosh (default)"
   ]
  },
  {
   "cell_type": "markdown",
   "metadata": {},
   "source": [
    "Add random offsets to the mixture vectors so that they are not zero-centered"
   ]
  },
  {
   "cell_type": "code",
   "execution_count": 10,
   "metadata": {},
   "outputs": [
    {
     "name": "stdout",
     "output_type": "stream",
     "text": [
      "means:  [-25.93151835  36.71859269   6.9292148  -10.71708155   3.83075995]\n"
     ]
    }
   ],
   "source": [
    "X_not_centered = X - 10*np.random.uniform(low=-5, high=5, size=(1, X.shape[-1]))\n",
    "print('means: ', np.mean(X_not_centered, axis=0))\n"
   ]
  },
  {
   "cell_type": "markdown",
   "metadata": {},
   "source": [
    "If the \"whiten\" option in FastICA is set to True, it will perform both centering and whitening on the mixture signals.<br>\n",
    "Since we want to remove only the centering, we would have to manually implement whitening.<br>\n",
    "<br>\n",
    "We do that below by implementing our own method.<br>\n",
    "\n",
    "From the Program Assignment handouts, the whitening matrix V is computed as:<br>\n",
    "$$ V = 2(C_x)^{-\\frac{1}{2}} $$\n",
    "where $C_x$ is the covariance matrix of X."
   ]
  },
  {
   "cell_type": "code",
   "execution_count": 11,
   "metadata": {},
   "outputs": [],
   "source": [
    "def whiten(X):\n",
    "    X = np.transpose(X)\n",
    "    Cx = np.cov(X)\n",
    "    \n",
    "    V = 2*(1/np.sqrt(np.absolute(Cx)))\n",
    "    \n",
    "    X_whitened = np.matmul(V, X)\n",
    "    return np.transpose(X_whitened)"
   ]
  },
  {
   "cell_type": "code",
   "execution_count": 12,
   "metadata": {},
   "outputs": [
    {
     "name": "stdout",
     "output_type": "stream",
     "text": [
      "(191258, 5)\n"
     ]
    }
   ],
   "source": [
    "X_not_centered = whiten(X_not_centered)\n",
    "print(X_not_centered.shape)\n",
    "ica = FastICA(n_components = X_not_centered.shape[-1], whiten=False)"
   ]
  },
  {
   "cell_type": "markdown",
   "metadata": {},
   "source": [
    "If we run the line below, FastICA will return an error.\n",
    "We take this to mean that the FastICA is unable to take un-centered data.<br>Therefore centering is required for ICA."
   ]
  },
  {
   "cell_type": "code",
   "execution_count": 13,
   "metadata": {},
   "outputs": [],
   "source": [
    "# S = ica.fit_transform(X_not_centered)"
   ]
  },
  {
   "cell_type": "markdown",
   "metadata": {},
   "source": [
    "####  3.c Try removing whitening\n",
    "* centering: yes\n",
    "* whitening: no\n",
    "* G(y): logcosh (default)"
   ]
  },
  {
   "cell_type": "markdown",
   "metadata": {},
   "source": [
    "First let's check if the data is already centered:"
   ]
  },
  {
   "cell_type": "code",
   "execution_count": 14,
   "metadata": {},
   "outputs": [
    {
     "name": "stdout",
     "output_type": "stream",
     "text": [
      "means:  [-4.78217954e-08 -1.79852265e-07 -7.77710164e-08  4.03623969e-09\n",
      " -3.21318801e-08]\n"
     ]
    }
   ],
   "source": [
    "print('means: ', np.mean(X, axis=0))"
   ]
  },
  {
   "cell_type": "markdown",
   "metadata": {},
   "source": [
    "The data seems centered at zero already. Now we perform FastICA with _whiten_ set to False:"
   ]
  },
  {
   "cell_type": "code",
   "execution_count": 15,
   "metadata": {},
   "outputs": [
    {
     "name": "stderr",
     "output_type": "stream",
     "text": [
      "C:\\anaconda3\\lib\\site-packages\\sklearn\\decomposition\\fastica_.py:295: UserWarning: Ignoring n_components with whiten=False.\n",
      "  warnings.warn('Ignoring n_components with whiten=False.')\n",
      "C:\\anaconda3\\lib\\site-packages\\sklearn\\decomposition\\fastica_.py:118: UserWarning: FastICA did not converge. Consider increasing tolerance or the maximum number of iterations.\n",
      "  warnings.warn('FastICA did not converge. Consider increasing '\n"
     ]
    }
   ],
   "source": [
    "from sklearn.decomposition import FastICA\n",
    "\n",
    "ica = FastICA(n_components=X.shape[-1], whiten=False)\n",
    "S = ica.fit_transform(X)"
   ]
  },
  {
   "cell_type": "markdown",
   "metadata": {},
   "source": [
    "In the results above, FastICA did not converge when whiten was set to False.\n",
    "From this, we conclude that whitening is necessary for ICA."
   ]
  },
  {
   "cell_type": "markdown",
   "metadata": {},
   "source": [
    "In the next few parts, we try to vary the G(y) function used. For comparison purposes, we define the method below that computes the residuals.<br>\n",
    "<br>\n"
   ]
  },
  {
   "cell_type": "code",
   "execution_count": 16,
   "metadata": {},
   "outputs": [],
   "source": [
    "from sklearn.metrics import mean_squared_error\n",
    "\n",
    "def compute_residuals(X, X_recon):\n",
    "    errors = np.zeros((X.shape[-1]))\n",
    "    for i in range(X.shape[-1]):\n",
    "        errors[i] = mean_squared_error(X[:, i], X_recon[:, i])\n",
    "    return errors"
   ]
  },
  {
   "cell_type": "markdown",
   "metadata": {},
   "source": [
    "#### 3.d Try varying G(y): logcosh\n",
    "* centering: yes\n",
    "* whitening: yes\n",
    "* G(y): logcosh (default)"
   ]
  },
  {
   "cell_type": "code",
   "execution_count": 17,
   "metadata": {},
   "outputs": [],
   "source": [
    "from sklearn.decomposition import FastICA\n",
    "\n",
    "ica = FastICA(n_components=X.shape[-1])\n",
    "S = ica.fit_transform(X)"
   ]
  },
  {
   "cell_type": "code",
   "execution_count": 18,
   "metadata": {},
   "outputs": [
    {
     "name": "stdout",
     "output_type": "stream",
     "text": [
      "Residuals for G(y)=logcosh:  [0.9095602  1.56944382 2.33119916 0.97037339 2.07436858]\n",
      "mean =  1.5709890294612303\n"
     ]
    }
   ],
   "source": [
    "A = ica.mixing_\n",
    "X_recon = np.matmul(S, A)\n",
    "\n",
    "residuals_logcosh = compute_residuals(X, X_recon)\n",
    "print('Residuals for G(y)=logcosh: ', residuals_logcosh)\n",
    "print('mean = ', np.mean(residuals_logcosh))"
   ]
  },
  {
   "cell_type": "markdown",
   "metadata": {},
   "source": [
    "#### 3.e Try varying G(y): exp\n",
    "* centering: yes\n",
    "* whitening: yes\n",
    "* G(y): exp"
   ]
  },
  {
   "cell_type": "code",
   "execution_count": 19,
   "metadata": {},
   "outputs": [],
   "source": [
    "from sklearn.decomposition import FastICA\n",
    "\n",
    "ica = FastICA(n_components=X.shape[-1], whiten=True, fun='exp')\n",
    "S = ica.fit_transform(X)"
   ]
  },
  {
   "cell_type": "code",
   "execution_count": 20,
   "metadata": {},
   "outputs": [
    {
     "name": "stdout",
     "output_type": "stream",
     "text": [
      "Residuals for G(y)=exp:  [0.41853667 1.48338466 0.80316792 2.12995522 1.63364625]\n",
      "mean =  1.2937381455162444\n"
     ]
    }
   ],
   "source": [
    "A = ica.mixing_\n",
    "X_recon = np.matmul(S, A)\n",
    "\n",
    "residuals_exp = compute_residuals(X, X_recon)\n",
    "print('Residuals for G(y)=exp: ', residuals_exp)\n",
    "print('mean = ', np.mean(residuals_exp))"
   ]
  },
  {
   "cell_type": "markdown",
   "metadata": {},
   "source": [
    "#### 3.f Try varying G(y): cube\n",
    "* centering: yes\n",
    "* whitening: yes\n",
    "* G(y): cube"
   ]
  },
  {
   "cell_type": "code",
   "execution_count": 21,
   "metadata": {},
   "outputs": [],
   "source": [
    "from sklearn.decomposition import FastICA\n",
    "\n",
    "ica = FastICA(n_components=X.shape[-1], whiten=True, fun='cube')\n",
    "S = ica.fit_transform(X)"
   ]
  },
  {
   "cell_type": "code",
   "execution_count": 22,
   "metadata": {},
   "outputs": [
    {
     "name": "stdout",
     "output_type": "stream",
     "text": [
      "Residuals for G(y)=cube:  [0.33465708 0.62956124 1.22618125 2.20526345 1.45503601]\n",
      "mean =  1.1701398065934392\n"
     ]
    }
   ],
   "source": [
    "A = ica.mixing_\n",
    "X_recon = np.matmul(S, A)\n",
    "\n",
    "residuals_cube = compute_residuals(X, X_recon)\n",
    "print('Residuals for G(y)=cube: ', residuals_cube)\n",
    "print('mean = ', np.mean(residuals_cube))"
   ]
  },
  {
   "cell_type": "markdown",
   "metadata": {},
   "source": [
    "## 4. Save the independent components\n",
    "as audio files in wav format. Label them as shat[1-5].wav"
   ]
  },
  {
   "cell_type": "markdown",
   "metadata": {},
   "source": [
    "Best results when G(y) is exp:"
   ]
  },
  {
   "cell_type": "code",
   "execution_count": 23,
   "metadata": {},
   "outputs": [],
   "source": [
    "from sklearn.decomposition import FastICA\n",
    "\n",
    "ica = FastICA(n_components=X.shape[-1], whiten=True, fun='exp')\n",
    "S = ica.fit_transform(X)"
   ]
  },
  {
   "cell_type": "code",
   "execution_count": 24,
   "metadata": {},
   "outputs": [
    {
     "data": {
      "text/plain": [
       "(191258, 5)"
      ]
     },
     "execution_count": 24,
     "metadata": {},
     "output_type": "execute_result"
    }
   ],
   "source": [
    "S.shape"
   ]
  },
  {
   "cell_type": "code",
   "execution_count": 25,
   "metadata": {},
   "outputs": [],
   "source": [
    "import scipy.io.wavfile as wav\n",
    "\n",
    "for i, unmixed in enumerate(np.transpose(S)):\n",
    "    filename = 'shat%d.wav' % (i+1)\n",
    "    wav.write(filename, sampling_freq, S[: , i])"
   ]
  },
  {
   "cell_type": "markdown",
   "metadata": {},
   "source": [
    "## 5. Reconstruct the mixture signals\n",
    "and measure the residuals for each one. Print out the residual values."
   ]
  },
  {
   "cell_type": "code",
   "execution_count": 26,
   "metadata": {},
   "outputs": [
    {
     "name": "stdout",
     "output_type": "stream",
     "text": [
      "Residuals for G(y)=exp:  [2.55297451 0.35472969 3.91322351 1.03906896 0.71446708]\n"
     ]
    }
   ],
   "source": [
    "A = ica.mixing_\n",
    "X_recon = np.matmul(S, A)\n",
    "\n",
    "residuals_exp = compute_residuals(X, X_recon)\n",
    "print('Residuals for G(y)=exp: ', residuals_exp)"
   ]
  },
  {
   "cell_type": "markdown",
   "metadata": {},
   "source": [
    "## 6. Save the reconstructed mixture signals\n",
    "as audio files in wav format. Label them as recon[1-5].wav"
   ]
  },
  {
   "cell_type": "code",
   "execution_count": 27,
   "metadata": {},
   "outputs": [
    {
     "data": {
      "text/plain": [
       "(191258, 5)"
      ]
     },
     "execution_count": 27,
     "metadata": {},
     "output_type": "execute_result"
    }
   ],
   "source": [
    "X_recon.shape"
   ]
  },
  {
   "cell_type": "code",
   "execution_count": 28,
   "metadata": {},
   "outputs": [],
   "source": [
    "import scipy.io.wavfile as wav\n",
    "\n",
    "for i, unmixed in enumerate(np.transpose(X_recon)):\n",
    "    filename = 'recon%d.wav' % (i+1)\n",
    "    wav.write(filename, sampling_freq, X_recon[: , i])"
   ]
  },
  {
   "cell_type": "code",
   "execution_count": null,
   "metadata": {},
   "outputs": [],
   "source": []
  }
 ],
 "metadata": {
  "kernelspec": {
   "display_name": "Python 3",
   "language": "python",
   "name": "python3"
  },
  "language_info": {
   "codemirror_mode": {
    "name": "ipython",
    "version": 3
   },
   "file_extension": ".py",
   "mimetype": "text/x-python",
   "name": "python",
   "nbconvert_exporter": "python",
   "pygments_lexer": "ipython3",
   "version": "3.6.5"
  }
 },
 "nbformat": 4,
 "nbformat_minor": 2
}
