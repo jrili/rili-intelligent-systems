{
 "cells": [
  {
   "cell_type": "markdown",
   "metadata": {},
   "source": [
    "# CS280 Programming Assignment 2\n",
    "Implementing the Backpropagation Algorithm\n",
    "<br>"
   ]
  },
  {
   "cell_type": "markdown",
   "metadata": {},
   "source": [
    "Define architecture of Neural Network"
   ]
  },
  {
   "cell_type": "code",
   "execution_count": 1,
   "metadata": {},
   "outputs": [],
   "source": [
    "NUM_INPUT = 3 #354 floats per datapoint in data.csv\n",
    "NUM_HIDDEN1_NEURONS = 7\n",
    "NUM_HIDDEN2_NEURONS = 5\n",
    "NUM_OUTPUT = 3"
   ]
  },
  {
   "cell_type": "markdown",
   "metadata": {},
   "source": [
    "Define the Learning Rate, LR:"
   ]
  },
  {
   "cell_type": "code",
   "execution_count": 2,
   "metadata": {},
   "outputs": [],
   "source": [
    "LR = 0.1"
   ]
  },
  {
   "cell_type": "markdown",
   "metadata": {},
   "source": [
    "Declare the matrices for the weights and biases, and then initialize them with random numbers:"
   ]
  },
  {
   "cell_type": "code",
   "execution_count": 22,
   "metadata": {},
   "outputs": [],
   "source": [
    "import numpy as np\n",
    "INIT_RANGE = 0.1\n",
    "\n",
    "\n",
    "x_in = np.zeros((NUM_INPUT, 1))\n",
    "\n",
    "w_h1 = np.random.uniform(low=-INIT_RANGE, high=INIT_RANGE, size=(NUM_HIDDEN1_NEURONS, NUM_INPUT))\n",
    "b_h1 = np.random.uniform(low=-INIT_RANGE, high=INIT_RANGE, size=(NUM_HIDDEN1_NEURONS, 1))\n",
    "\n",
    "w_h2 = np.random.uniform(low=-INIT_RANGE, high=INIT_RANGE, size=(NUM_HIDDEN2_NEURONS, NUM_HIDDEN1_NEURONS))\n",
    "b_h2 = np.random.uniform(low=-INIT_RANGE, high=INIT_RANGE, size=(NUM_HIDDEN2_NEURONS, 1))\n",
    "\n",
    "w_out = np.random.uniform(low=-INIT_RANGE, high=INIT_RANGE, size=(NUM_OUTPUT, NUM_HIDDEN2_NEURONS))\n",
    "b_out = np.random.uniform(low=-INIT_RANGE, high=INIT_RANGE, size=(NUM_OUTPUT, 1))\n",
    "\n",
    "d_out = np.zeros((NUM_OUTPUT, 1))"
   ]
  },
  {
   "cell_type": "markdown",
   "metadata": {},
   "source": [
    "Training Phase:"
   ]
  },
  {
   "cell_type": "code",
   "execution_count": 52,
   "metadata": {},
   "outputs": [],
   "source": [
    "MAX_EPOCH = 2#30000\n",
    "total_error = np.zeros((MAX_EPOCH, 1))"
   ]
  },
  {
   "cell_type": "code",
   "execution_count": 53,
   "metadata": {},
   "outputs": [],
   "source": [
    "train_data = np.array([[0, 0, 0],\n",
    "                       [0, 0, 1],\n",
    "                       [0, 1, 0],\n",
    "                       [0, 1, 1],\n",
    "                       [1, 0, 0],\n",
    "                       [1, 0, 1],\n",
    "                       [1, 1, 0],\n",
    "                       [1, 1, 1]])\n",
    "train_labels = np.array([[0, 0, 0],\n",
    "                       [1, 1, 0],\n",
    "                       [1, 0, 1],\n",
    "                       [0, 1, 1],\n",
    "                       [0, 1, 1],\n",
    "                       [1, 0, 0],\n",
    "                       [1, 1, 0],\n",
    "                       [0, 0, 0]])"
   ]
  },
  {
   "cell_type": "code",
   "execution_count": 54,
   "metadata": {},
   "outputs": [
    {
     "data": {
      "text/plain": [
       "((8, 3), array([0, 1, 0]))"
      ]
     },
     "execution_count": 54,
     "metadata": {},
     "output_type": "execute_result"
    }
   ],
   "source": [
    "train_data.shape, train_data[2]"
   ]
  },
  {
   "cell_type": "code",
   "execution_count": 57,
   "metadata": {},
   "outputs": [
    {
     "name": "stdout",
     "output_type": "stream",
     "text": [
      "EPOCH 1: \n",
      "x_in = X[0] =  [0 0 0]\n",
      "x_in = X[2] =  [0 1 0]\n",
      "x_in = X[4] =  [1 0 0]\n",
      "x_in = X[3] =  [0 1 1]\n",
      "x_in = X[1] =  [0 0 1]\n",
      "x_in = X[5] =  [1 0 1]\n",
      "x_in = X[7] =  [1 1 1]\n",
      "x_in = X[6] =  [1 1 0]\n"
     ]
    }
   ],
   "source": [
    "for epoch in range(1, MAX_EPOCH):\n",
    "    print(\"EPOCH %d: \"%(epoch))\n",
    "    train_indices = np.random.permutation(train_data.shape[0])\n",
    "    for train_index in train_indices:\n",
    "        #READ DATA\n",
    "        x_in = train_data[train_index]\n",
    "        d_out = train_labels[train_index]\n",
    "        print(\"x_in = X[%d] = \"%(train_index), x_in)\n",
    "        ##### FORWARD PASS #####"
   ]
  },
  {
   "cell_type": "code",
   "execution_count": null,
   "metadata": {},
   "outputs": [],
   "source": []
  }
 ],
 "metadata": {
  "kernelspec": {
   "display_name": "Python 3",
   "language": "python",
   "name": "python3"
  },
  "language_info": {
   "codemirror_mode": {
    "name": "ipython",
    "version": 3
   },
   "file_extension": ".py",
   "mimetype": "text/x-python",
   "name": "python",
   "nbconvert_exporter": "python",
   "pygments_lexer": "ipython3",
   "version": "3.6.5"
  }
 },
 "nbformat": 4,
 "nbformat_minor": 2
}
