{
 "cells": [
  {
   "cell_type": "markdown",
   "metadata": {},
   "source": [
    "# CS280 Programming Assignment 2\n",
    "__Implementing the Backpropagation Algorithm__<br>\n",
    "<br>\n",
    "Compiler: Python 3.6.5<br>\n",
    "OS: Windows 7"
   ]
  },
  {
   "cell_type": "markdown",
   "metadata": {},
   "source": [
    "## Import training and validation data"
   ]
  },
  {
   "cell_type": "code",
   "execution_count": 1,
   "metadata": {},
   "outputs": [],
   "source": [
    "import numpy as np"
   ]
  },
  {
   "cell_type": "code",
   "execution_count": 2,
   "metadata": {},
   "outputs": [],
   "source": [
    "train_data = np.genfromtxt('training_set.csv', delimiter=',')\n",
    "train_labels = np.genfromtxt('training_labels.csv', delimiter=',')\n",
    "\n",
    "validation_data = np.genfromtxt('validation_set.csv', delimiter=',')\n",
    "validation_labels = np.genfromtxt('validation_labels.csv', delimiter=',')\n"
   ]
  },
  {
   "cell_type": "code",
   "execution_count": 3,
   "metadata": {},
   "outputs": [],
   "source": [
    "def labels_to_onehotvector(labels):\n",
    "    unique_labels, label_counts = np.unique(labels, return_counts=True)\n",
    "    onehotvector = np.zeros((len(labels), len(unique_labels)))\n",
    "    for index, label in enumerate(labels):\n",
    "        onehotvector[int(index), int(label)-1] = int(1)\n",
    "    return onehotvector"
   ]
  },
  {
   "cell_type": "code",
   "execution_count": 4,
   "metadata": {},
   "outputs": [],
   "source": [
    "def onehotvectors_to_labels(onehotvectors):\n",
    "    labels = np.zeros(onehotvectors.shape[0])\n",
    "    for index, onehotvector in enumerate(onehotvectors):\n",
    "        target_label = np.argwhere(onehotvector/np.max(onehotvector) == 1)\n",
    "        labels[index] = target_label + 1 # +1 because there is no class 0\n",
    "        #print('onehotvector[%d]='%(index), onehotvector)\n",
    "        #print('labels[%d]=%d'%(index,labels[index]))\n",
    "    return labels"
   ]
  },
  {
   "cell_type": "code",
   "execution_count": 5,
   "metadata": {},
   "outputs": [],
   "source": [
    "train_labels = labels_to_onehotvector(train_labels)\n",
    "validation_labels = labels_to_onehotvector(validation_labels)"
   ]
  },
  {
   "cell_type": "code",
   "execution_count": 6,
   "metadata": {},
   "outputs": [
    {
     "data": {
      "text/plain": [
       "((7674, 354), (7674, 8), (1910, 354), (1910, 8))"
      ]
     },
     "execution_count": 6,
     "metadata": {},
     "output_type": "execute_result"
    }
   ],
   "source": [
    "train_data.shape, train_labels.shape, validation_data.shape, validation_labels.shape"
   ]
  },
  {
   "cell_type": "code",
   "execution_count": 7,
   "metadata": {},
   "outputs": [],
   "source": [
    "#train_data = np.array([[0, 0, 0],\n",
    "#                       [0, 0, 1],\n",
    "#                       [0, 1, 0],\n",
    "#                       [0, 1, 1],\n",
    "#                       [1, 0, 0],\n",
    "#                       [1, 0, 1],\n",
    "#                       [1, 1, 0],\n",
    "#                       [1, 1, 1]])\n",
    "#train_labels = np.array([[0, 0, 0],\n",
    "#                       [1, 1, 0],\n",
    "#                       [1, 0, 1],\n",
    "#                       [0, 1, 1],\n",
    "#                       [0, 1, 1],\n",
    "#                       [1, 0, 0],\n",
    "#                       [1, 1, 0],\n",
    "#                       [0, 0, 0]])"
   ]
  },
  {
   "cell_type": "markdown",
   "metadata": {},
   "source": [
    "## Define the Neural network\n",
    "Define architecture of Neural Network"
   ]
  },
  {
   "cell_type": "code",
   "execution_count": 8,
   "metadata": {},
   "outputs": [],
   "source": [
    "NUM_INPUT = train_data.shape[1]\n",
    "NUM_HIDDEN1_NEURONS = 7\n",
    "NUM_HIDDEN2_NEURONS = 5\n",
    "NUM_OUTPUT = train_labels.shape[1]"
   ]
  },
  {
   "cell_type": "markdown",
   "metadata": {},
   "source": [
    "Define the Learning Rate, LR:"
   ]
  },
  {
   "cell_type": "code",
   "execution_count": 9,
   "metadata": {},
   "outputs": [],
   "source": [
    "LR = 0.1"
   ]
  },
  {
   "cell_type": "markdown",
   "metadata": {},
   "source": [
    "Declare the matrices for the weights and biases, and then initialize them with random numbers:"
   ]
  },
  {
   "cell_type": "code",
   "execution_count": 10,
   "metadata": {},
   "outputs": [],
   "source": [
    "def init_neurons(num_input, num_hidden1_neurons, num_hidden2_neurons, num_output):\n",
    "    \n",
    "    INIT_RANGE = 0.1\n",
    "\n",
    "    x_in = np.zeros((num_input, 1))\n",
    "\n",
    "    w_h1 = np.random.uniform(low=-INIT_RANGE, high=INIT_RANGE, size=(num_hidden1_neurons, num_input))\n",
    "    b_h1 = np.random.uniform(low=-INIT_RANGE, high=INIT_RANGE, size=(num_hidden1_neurons, 1))\n",
    "\n",
    "    w_h2 = np.random.uniform(low=-INIT_RANGE, high=INIT_RANGE, size=(num_hidden2_neurons, num_hidden1_neurons))\n",
    "    b_h2 = np.random.uniform(low=-INIT_RANGE, high=INIT_RANGE, size=(num_hidden2_neurons, 1))\n",
    "\n",
    "    w_out = np.random.uniform(low=-INIT_RANGE, high=INIT_RANGE, size=(num_output, num_hidden2_neurons))\n",
    "    b_out = np.random.uniform(low=-INIT_RANGE, high=INIT_RANGE, size=(num_output, 1))\n",
    "\n",
    "    d_out = np.zeros((num_output, 1))\n",
    "    \n",
    "    return x_in, w_h1, b_h1, w_h2, b_h2, w_out, b_out, d_out"
   ]
  },
  {
   "cell_type": "markdown",
   "metadata": {},
   "source": [
    "Training Phase:"
   ]
  },
  {
   "cell_type": "code",
   "execution_count": 11,
   "metadata": {},
   "outputs": [],
   "source": [
    "def predict(input_data, w_h1, b_h1, w_h2, b_h2, w_out, b_out):\n",
    "    ##### FORWARD PASS #####\n",
    "    ## HIDDEN LAYER 1\n",
    "    v_h1 = np.dot(w_h1,input_data) + b_h1\n",
    "    y_h1 = 1/(1 + np.exp(-v_h1))\n",
    "    ## HIDDEN LAYER 2\n",
    "    v_h2 = np.dot(w_h2, y_h1) + b_h2\n",
    "    y_h2 = 1/(1 + np.exp(-v_h2))            \n",
    "    ## OUTPUT LAYER\n",
    "    v_out = np.dot(w_out, y_h2) + b_out\n",
    "    out = 1/(1 + np.exp(-v_out))\n",
    "    \n",
    "    return out, y_h1, y_h2"
   ]
  },
  {
   "cell_type": "code",
   "execution_count": 12,
   "metadata": {},
   "outputs": [],
   "source": [
    "def predict_batch(batch_data, w_h1, b_h1, w_h2, b_h2, w_out, b_out, labels=None):\n",
    "    total_error = 0\n",
    "    num_classes = b_out.shape[0]\n",
    "    onehotvector_predictions = np.zeros((batch_data.shape[0], num_classes))\n",
    "    for index, data in enumerate(batch_data):\n",
    "        error = 0\n",
    "        x_in = batch_data[index].reshape(-1, 1)\n",
    "            \n",
    "        out, dummy1, dummy2 = predict(x_in, w_h1, b_h1, w_h2, b_h2, w_out, b_out)\n",
    "        #print('onehotvector_predictions[%d].shape='%(index), onehotvector_predictions[index].shape)\n",
    "        #print('out.shape=', out.shape)\n",
    "        onehotvector_predictions[index] = out.reshape(-1,)\n",
    "        \n",
    "        if labels is not None:\n",
    "            d_out = labels[index].reshape(-1, 1)\n",
    "            error = d_out - out\n",
    "            total_error = total_error + np.sum(error*error)\n",
    "    total_error *= (1/batch_data.shape[0])\n",
    "    predictions = onehotvectors_to_labels(onehotvector_predictions)\n",
    "    \n",
    "    return total_error, predictions\n",
    "    "
   ]
  },
  {
   "cell_type": "code",
   "execution_count": null,
   "metadata": {},
   "outputs": [],
   "source": [
    "VALIDATION_PERIOD = 10\n",
    "MAX_EPOCH = 30000"
   ]
  },
  {
   "cell_type": "code",
   "execution_count": 33,
   "metadata": {},
   "outputs": [],
   "source": [
    "def train_fourlayer_neural_net(train_data, train_labels,num_input, num_hidden1_neurons,\n",
    "                               num_hidden2_neurons, num_output, validation_data=None, validation_labels=None):\n",
    "    \n",
    "    train_time_start = time.time()\n",
    "    report_time_start = time.time()\n",
    "    \n",
    "    # Print error report every __ epochs\n",
    "    ERR_REPORT_PERIOD = 100 \n",
    "    # Stop training if the current total training error goes below this value\n",
    "    ERR_TERMINATION_COND = 0.0010000000000\n",
    "    # stop training if the ratio of current validation error over the minimum validation error exceeds this value\n",
    "    EARLY_STOPPING_VALERR_CRITERION = 8.0\n",
    "\n",
    "    x_in, w_h1, b_h1, w_h2, b_h2, w_out, b_out, d_out = init_neurons(num_input,\n",
    "                                                                     num_hidden1_neurons,\n",
    "                                                                     num_hidden2_neurons,\n",
    "                                                                     num_output)\n",
    "    # Initialize\n",
    "    total_error = np.ones((MAX_EPOCH, 1))\n",
    "    total_validation_error = np.ones((int(MAX_EPOCH/VALIDATION_PERIOD), 1))\n",
    "    training_ending_epoch = MAX_EPOCH-1\n",
    "    epochs = range(0, MAX_EPOCH)\n",
    "    \n",
    "    for epoch_index in epochs:\n",
    "        train_indices = np.random.permutation(train_data.shape[0])\n",
    "        for train_index in train_indices:\n",
    "            # READ DATA\n",
    "            x_in = train_data[train_index].reshape(-1, 1)\n",
    "\n",
    "            ##### FORWARD PASS #####\n",
    "            out, y_h1, y_h2 = predict(x_in, w_h1, b_h1, w_h2, b_h2, w_out, b_out)\n",
    "            \n",
    "            ##### BACK PROPAGATION #####\n",
    "            d_out = train_labels[train_index].reshape(-1, 1)\n",
    "            error = d_out - out\n",
    "            #print('\\terror: ', error, '\\n')\n",
    "            delta_out = error*out*(1-out)\n",
    "            #print('delta-out.shape=',delta_out.shape)\n",
    "            #print('(1-y_h2).shape=',(1-y_h2).shape, ' y_h2*(1-y_h2).shape=', (y_h2*(1-y_h2)).shape, ' np.dot(w_out,delta_out).shape=', (np.dot(np.transpose(w_out),delta_out)).shape)\n",
    "            delta_h2 = (y_h2*(1-y_h2))*(np.dot(np.transpose(w_out),delta_out))\n",
    "            delta_h1 = (y_h1*(1-y_h1))*(np.dot(np.transpose(w_h2), delta_h2))\n",
    "\n",
    "            ## Update the weights and biases\n",
    "            w_out = w_out + LR*delta_out*np.transpose(y_h2)\n",
    "            b_out = b_out + LR*delta_out\n",
    "            \n",
    "            w_h2 = w_h2 + LR*delta_h2*np.transpose(y_h1)\n",
    "            b_h2 = b_h2 + LR*delta_h2\n",
    "            \n",
    "            w_h1 = w_h1 + LR*delta_h1*np.transpose(x_in)\n",
    "            b_h1 = b_h1 + LR*delta_h1\n",
    "            \n",
    "            total_error[epoch_index] = total_error[epoch_index] + np.sum(error*error)\n",
    "        \n",
    "        total_error[epoch_index] *= (1/train_data.shape[0])\n",
    "        \n",
    "        current_valerror_index = int(epoch_index/VALIDATION_PERIOD)\n",
    "        if validation_data is not None and epoch_index%VALIDATION_PERIOD == 0:\n",
    "            total_validation_error[current_valerror_index], predictions = predict_batch(validation_data,\n",
    "                                                                             w_h1, b_h1, w_h2,\n",
    "                                                                             b_h2, w_out, b_out, validation_labels)\n",
    "            \n",
    "        valerr_ratio = total_validation_error[current_valerror_index]/min(total_validation_error)\n",
    "            \n",
    "        if epoch_index % ERR_REPORT_PERIOD == 0:\n",
    "            report_time_end = time.time()\n",
    "            print('\\nEPOCH %d (duration: %3.4f seconds)'%(epoch_index, report_time_end - report_time_start))\n",
    "            print('\\ttraining error=%10.12f'%(total_error[epoch_index]))\n",
    "            if validation_data is not None:\n",
    "                print('\\tvalidation_error=%10.12f (ratio=%10.12f)'% (total_validation_error[current_valerror_index], valerr_ratio))        \n",
    "            report_time_start = time.time()\n",
    "        \n",
    "        if total_error[epoch_index] < 0.01:\n",
    "            EARLY_STOPPING_VALERR_CRITERION = 4.0\n",
    "        elif total_error[epoch_index] < 0.006:\n",
    "            EARLY_STOPPING_VALERR_CRITERION = 1.3\n",
    "            \n",
    "        if (total_error[epoch_index] < ERR_TERMINATION_COND) or ((valerr_ratio) > EARLY_STOPPING_VALERR_CRITERION):\n",
    "            training_ending_epoch = epoch_index\n",
    "            current_valerror_index = int(training_ending_epoch/VALIDATION_PERIOD)\n",
    "            break\n",
    "\n",
    "    train_time_end = time.time()\n",
    "    \n",
    "    print('\\n\\n--\\nTRAINING ENDED AT EPOCH %d (%3.3f s) WITH training_error=%10.12f'%(training_ending_epoch,\n",
    "                                                                                      train_time_end-train_time_start,\n",
    "                                                                                      total_error[training_ending_epoch]))\n",
    "    print('\\nTRAINING ENDED AT EPOCH %d WITH validation_error=%10.12f (min=%10.12f)'%(training_ending_epoch,\n",
    "                                                                                      total_validation_error[current_valerror_index],\n",
    "                                                                                      min(total_validation_error)))\n",
    "    \n",
    "    return w_h1, b_h1, w_h2, b_h2, w_out, b_out, total_error, total_validation_error, epochs, training_ending_epoch\n",
    "        \n",
    "\n",
    "        "
   ]
  },
  {
   "cell_type": "code",
   "execution_count": 34,
   "metadata": {
    "scrolled": true
   },
   "outputs": [
    {
     "name": "stdout",
     "output_type": "stream",
     "text": [
      "\n",
      "EPOCH 0 (duration: 0.6080 seconds)\n",
      "\ttraining error=0.880506139186\n",
      "\tvalidation_error=0.873995924948 (ratio=1.000000000000)\n",
      "\n",
      "EPOCH 100 (duration: 53.2450 seconds)\n",
      "\ttraining error=0.068388882591\n",
      "\tvalidation_error=0.066986047231 (ratio=1.000000000000)\n",
      "\n",
      "EPOCH 200 (duration: 52.0504 seconds)\n",
      "\ttraining error=0.036838424389\n",
      "\tvalidation_error=0.047681369226 (ratio=1.064323061550)\n",
      "\n",
      "EPOCH 300 (duration: 52.2705 seconds)\n",
      "\ttraining error=0.028402910837\n",
      "\tvalidation_error=0.060329065405 (ratio=1.679981947087)\n",
      "\n",
      "EPOCH 400 (duration: 52.1584 seconds)\n",
      "\ttraining error=0.024353515876\n",
      "\tvalidation_error=0.029579249384 (ratio=1.000000000000)\n",
      "\n",
      "EPOCH 500 (duration: 51.7674 seconds)\n",
      "\ttraining error=0.015976248090\n",
      "\tvalidation_error=0.066065869522 (ratio=2.501184776216)\n",
      "\n",
      "EPOCH 600 (duration: 52.1004 seconds)\n",
      "\ttraining error=0.013377280230\n",
      "\tvalidation_error=0.025875626207 (ratio=1.000000000000)\n",
      "\n",
      "EPOCH 700 (duration: 50.9872 seconds)\n",
      "\ttraining error=0.010827272829\n",
      "\tvalidation_error=0.034214183550 (ratio=1.373310788450)\n",
      "\n",
      "EPOCH 800 (duration: 61.1460 seconds)\n",
      "\ttraining error=0.012122009412\n",
      "\tvalidation_error=0.027784507352 (ratio=1.180445790533)\n",
      "\n",
      "EPOCH 900 (duration: 51.9962 seconds)\n",
      "\ttraining error=0.013327409284\n",
      "\tvalidation_error=0.031915512209 (ratio=1.420899697083)\n",
      "\n",
      "EPOCH 1000 (duration: 52.8843 seconds)\n",
      "\ttraining error=0.011174539532\n",
      "\tvalidation_error=0.023714720335 (ratio=1.065647756328)\n",
      "\n",
      "EPOCH 1100 (duration: 51.2211 seconds)\n",
      "\ttraining error=0.011033286304\n",
      "\tvalidation_error=0.024637135011 (ratio=1.112520921373)\n",
      "\n",
      "EPOCH 1200 (duration: 51.6282 seconds)\n",
      "\ttraining error=0.009327816312\n",
      "\tvalidation_error=0.056554526760 (ratio=2.640512359160)\n",
      "\n",
      "EPOCH 1300 (duration: 51.1781 seconds)\n",
      "\ttraining error=0.008682593019\n",
      "\tvalidation_error=0.027144912346 (ratio=1.293175345873)\n",
      "\n",
      "EPOCH 1400 (duration: 51.6582 seconds)\n",
      "\ttraining error=0.007630771399\n",
      "\tvalidation_error=0.023051209518 (ratio=1.100522252347)\n",
      "\n",
      "EPOCH 1500 (duration: 51.5232 seconds)\n",
      "\ttraining error=0.009821291802\n",
      "\tvalidation_error=0.020218047182 (ratio=1.001083398889)\n",
      "\n",
      "EPOCH 1600 (duration: 51.4081 seconds)\n",
      "\ttraining error=0.007244087445\n",
      "\tvalidation_error=0.021367872782 (ratio=1.085741506539)\n",
      "\n",
      "EPOCH 1700 (duration: 52.5573 seconds)\n",
      "\ttraining error=0.012149713118\n",
      "\tvalidation_error=0.107426492067 (ratio=5.458540610467)\n",
      "\n",
      "\n",
      "--\n",
      "TRAINING ENDED AT EPOCH 1700 (892.404 s) WITH training_error=0.012149713118\n",
      "\n",
      "TRAINING ENDED AT EPOCH 1700 WITH validation_error=0.107426492067 (min=0.019680442033)\n"
     ]
    }
   ],
   "source": [
    "import time\n",
    "w_h1, b_h1, w_h2, b_h2, w_out, b_out, total_training_error, total_validation_error, epochs, training_ending_epoch = train_fourlayer_neural_net(train_data, train_labels,\n",
    "                                                                                                                       NUM_INPUT, NUM_HIDDEN1_NEURONS,\n",
    "                                                                                                                       NUM_HIDDEN2_NEURONS, NUM_OUTPUT,\n",
    "                                                                                                                       validation_data, validation_labels)\n",
    "\n",
    "from playsound import playsound\n",
    "playsound('Victory.mp3')"
   ]
  },
  {
   "cell_type": "code",
   "execution_count": 37,
   "metadata": {},
   "outputs": [
    {
     "data": {
      "image/png": "[encoded data removed]",
      "text/plain": [
       "<Figure size 640x480 with 1 Axes>"
      ]
     },
     "metadata": {},
     "output_type": "display_data"
    }
   ],
   "source": [
    "import matplotlib.pyplot as plt\n",
    "plt.figure(figsize=(8, 6), dpi=80)\n",
    "plt.plot(epochs, total_training_error, range(0, MAX_EPOCH, VALIDATION_PERIOD), total_validation_error)\n",
    "plt.axis([0, training_ending_epoch, 0, max(np.max(total_training_error), np.max(total_validation_error))])\n",
    "plt.legend(['training error', 'validation error'])\n",
    "plt.title('ANN errors vs. Epochs for NUM_HIDDEN1_NEURONS=%d and NUM_HIDDEN2_NEURONS=%d'%(NUM_HIDDEN1_NEURONS, NUM_HIDDEN2_NEURONS))\n",
    "plt.savefig('ANNerrors_%d_%d.png'%(NUM_HIDDEN1_NEURONS, NUM_HIDDEN2_NEURONS))\n",
    "plt.show()"
   ]
  },
  {
   "cell_type": "code",
   "execution_count": null,
   "metadata": {},
   "outputs": [],
   "source": []
  },
  {
   "cell_type": "code",
   "execution_count": null,
   "metadata": {},
   "outputs": [],
   "source": []
  },
  {
   "cell_type": "code",
   "execution_count": null,
   "metadata": {},
   "outputs": [],
   "source": []
  },
  {
   "cell_type": "code",
   "execution_count": null,
   "metadata": {},
   "outputs": [],
   "source": []
  },
  {
   "cell_type": "code",
   "execution_count": null,
   "metadata": {},
   "outputs": [],
   "source": []
  },
  {
   "cell_type": "code",
   "execution_count": null,
   "metadata": {},
   "outputs": [],
   "source": []
  },
  {
   "cell_type": "code",
   "execution_count": null,
   "metadata": {},
   "outputs": [],
   "source": []
  }
 ],
 "metadata": {
  "kernelspec": {
   "display_name": "Python 3",
   "language": "python",
   "name": "python3"
  },
  "language_info": {
   "codemirror_mode": {
    "name": "ipython",
    "version": 3
   },
   "file_extension": ".py",
   "mimetype": "text/x-python",
   "name": "python",
   "nbconvert_exporter": "python",
   "pygments_lexer": "ipython3",
   "version": "3.6.5"
  }
 },
 "nbformat": 4,
 "nbformat_minor": 2
}
