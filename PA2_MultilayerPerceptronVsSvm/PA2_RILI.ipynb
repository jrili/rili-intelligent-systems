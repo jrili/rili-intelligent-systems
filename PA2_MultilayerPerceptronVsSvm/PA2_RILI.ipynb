{
 "cells": [
  {
   "cell_type": "markdown",
   "metadata": {},
   "source": [
    "# CS280 Programming Assignment 2\n",
    "Implementing the Backpropagation Algorithm\n",
    "<br>"
   ]
  },
  {
   "cell_type": "markdown",
   "metadata": {},
   "source": [
    "Define architecture of Neural Network"
   ]
  },
  {
   "cell_type": "code",
   "execution_count": 125,
   "metadata": {},
   "outputs": [],
   "source": [
    "NUM_INPUT = 3 #354 floats per datapoint in data.csv\n",
    "NUM_HIDDEN1_NEURONS = 7\n",
    "NUM_HIDDEN2_NEURONS = 5\n",
    "NUM_OUTPUT = 3"
   ]
  },
  {
   "cell_type": "markdown",
   "metadata": {},
   "source": [
    "Define the Learning Rate, LR:"
   ]
  },
  {
   "cell_type": "code",
   "execution_count": 126,
   "metadata": {},
   "outputs": [],
   "source": [
    "LR = 0.1"
   ]
  },
  {
   "cell_type": "markdown",
   "metadata": {},
   "source": [
    "Declare the matrices for the weights and biases, and then initialize them with random numbers:"
   ]
  },
  {
   "cell_type": "code",
   "execution_count": 127,
   "metadata": {},
   "outputs": [],
   "source": [
    "import numpy as np\n",
    "INIT_RANGE = 0.1\n",
    "\n",
    "\n",
    "x_in = np.zeros((NUM_INPUT, 1))\n",
    "\n",
    "w_h1 = np.random.uniform(low=-INIT_RANGE, high=INIT_RANGE, size=(NUM_HIDDEN1_NEURONS, NUM_INPUT))\n",
    "b_h1 = np.random.uniform(low=-INIT_RANGE, high=INIT_RANGE, size=(NUM_HIDDEN1_NEURONS, 1))\n",
    "\n",
    "w_h2 = np.random.uniform(low=-INIT_RANGE, high=INIT_RANGE, size=(NUM_HIDDEN2_NEURONS, NUM_HIDDEN1_NEURONS))\n",
    "b_h2 = np.random.uniform(low=-INIT_RANGE, high=INIT_RANGE, size=(NUM_HIDDEN2_NEURONS, 1))\n",
    "\n",
    "w_out = np.random.uniform(low=-INIT_RANGE, high=INIT_RANGE, size=(NUM_OUTPUT, NUM_HIDDEN2_NEURONS))\n",
    "b_out = np.random.uniform(low=-INIT_RANGE, high=INIT_RANGE, size=(NUM_OUTPUT, 1))\n",
    "\n",
    "d_out = np.zeros((NUM_OUTPUT, 1))"
   ]
  },
  {
   "cell_type": "markdown",
   "metadata": {},
   "source": [
    "Training Phase:"
   ]
  },
  {
   "cell_type": "code",
   "execution_count": 128,
   "metadata": {},
   "outputs": [],
   "source": [
    "train_data = np.array([[0, 0, 0],\n",
    "                       [0, 0, 1],\n",
    "                       [0, 1, 0],\n",
    "                       [0, 1, 1],\n",
    "                       [1, 0, 0],\n",
    "                       [1, 0, 1],\n",
    "                       [1, 1, 0],\n",
    "                       [1, 1, 1]])\n",
    "train_labels = np.array([[0, 0, 0],\n",
    "                       [1, 1, 0],\n",
    "                       [1, 0, 1],\n",
    "                       [0, 1, 1],\n",
    "                       [0, 1, 1],\n",
    "                       [1, 0, 0],\n",
    "                       [1, 1, 0],\n",
    "                       [0, 0, 0]])"
   ]
  },
  {
   "cell_type": "code",
   "execution_count": 129,
   "metadata": {},
   "outputs": [
    {
     "data": {
      "text/plain": [
       "((8, 3), array([0, 1, 0]))"
      ]
     },
     "execution_count": 129,
     "metadata": {},
     "output_type": "execute_result"
    }
   ],
   "source": [
    "train_data.shape, train_data[2]"
   ]
  },
  {
   "cell_type": "code",
   "execution_count": 130,
   "metadata": {},
   "outputs": [],
   "source": [
    "MAX_EPOCH = 30000\n",
    "total_error = np.zeros((MAX_EPOCH, 1))\n",
    "ERR_REPORT_PERIOD = 500 # Print error report every __ epochs\n",
    "ERR_TERMINATION_COND = 0.0010000000000"
   ]
  },
  {
   "cell_type": "code",
   "execution_count": 131,
   "metadata": {},
   "outputs": [
    {
     "name": "stdout",
     "output_type": "stream",
     "text": [
      "EPOCH 0 total_error=0.815908097344\n",
      "EPOCH 500 total_error=0.656306606272\n",
      "EPOCH 1000 total_error=0.651304640973\n",
      "EPOCH 1500 total_error=0.906510199633\n",
      "EPOCH 2000 total_error=0.649281761495\n",
      "EPOCH 2500 total_error=0.904146578065\n",
      "EPOCH 3000 total_error=0.899219013508\n",
      "EPOCH 3500 total_error=0.890747446787\n",
      "EPOCH 4000 total_error=0.673067781170\n",
      "EPOCH 4500 total_error=0.598670792715\n",
      "EPOCH 5000 total_error=0.569821946163\n",
      "EPOCH 5500 total_error=0.473788213715\n",
      "EPOCH 6000 total_error=0.566746692305\n",
      "EPOCH 6500 total_error=0.527367306085\n",
      "EPOCH 7000 total_error=0.520785797353\n",
      "EPOCH 7500 total_error=0.535146289224\n",
      "EPOCH 8000 total_error=0.526945408122\n",
      "EPOCH 8500 total_error=1.252599404825\n",
      "EPOCH 9000 total_error=0.478042492934\n",
      "EPOCH 9500 total_error=0.731420327992\n",
      "EPOCH 10000 total_error=0.829499989564\n",
      "EPOCH 10500 total_error=0.440881135687\n",
      "EPOCH 11000 total_error=0.274807133761\n",
      "EPOCH 11500 total_error=0.127341602449\n",
      "EPOCH 12000 total_error=0.164533827275\n",
      "EPOCH 12500 total_error=0.049828905362\n",
      "EPOCH 13000 total_error=0.018611404982\n",
      "EPOCH 13500 total_error=0.023149925025\n",
      "EPOCH 14000 total_error=0.008817914353\n",
      "EPOCH 14500 total_error=0.011941408459\n",
      "EPOCH 15000 total_error=0.004773948170\n",
      "EPOCH 15500 total_error=0.012493885236\n",
      "EPOCH 16000 total_error=0.002728449259\n",
      "EPOCH 16500 total_error=0.003723486692\n",
      "EPOCH 17000 total_error=0.007753729952\n",
      "EPOCH 17500 total_error=0.001611398840\n",
      "EPOCH 18000 total_error=0.001486234183\n",
      "EPOCH 18500 total_error=0.004967147633\n",
      "EPOCH 19000 total_error=0.003116522556\n",
      "EPOCH 19500 total_error=0.004266762908\n",
      "EPOCH 20000 total_error=0.001921871282\n",
      "EPOCH 20500 total_error=0.002537119256\n",
      "EPOCH 21000 total_error=0.001099705057\n",
      "EPOCH 21500 total_error=0.001003288809\n",
      "\n",
      "\n",
      "--\n",
      "TRAINING ENDED AT EPOCH 21546 WITH total_error=0.000999267914\n"
     ]
    }
   ],
   "source": [
    "training_ending_epoch = MAX_EPOCH\n",
    "epochs = range(0, MAX_EPOCH)\n",
    "for epoch_index in epochs:\n",
    "    #print(\"EPOCH %d: \"%(epoch_index+1))\n",
    "    train_indices = np.random.permutation(train_data.shape[0])\n",
    "    for train_index in train_indices:\n",
    "    #for train_index, value in enumerate(train_data):\n",
    "        # READ DATA\n",
    "        x_in = train_data[train_index].reshape(-1, 1)\n",
    "        d_out = train_labels[train_index].reshape(-1, 1)\n",
    "        #print(\"x_in = X[%d] = \"%(train_index), x_in)\n",
    "        ##### FORWARD PASS #####\n",
    "        ## HIDDEN LAYER 1\n",
    "        v_h1 = np.dot(w_h1,x_in) + b_h1\n",
    "        y_h1 = 1/(1 + np.exp(-v_h1))\n",
    "        #print('w_h1 shape=', w_h1.shape, ' x_in shape=', x_in.shape, ' b_h1 shape=', b_h1.shape, ' v_h1 shape=', v_h1.shape, ' y_h1 shape=', y_h1.shape)\n",
    "        ## HIDDEN LAYER 2\n",
    "        v_h2 = np.dot(w_h2, y_h1) + b_h2\n",
    "        y_h2 = 1/(1 + np.exp(-v_h2))\n",
    "        #print('w_h2 shape=', w_h2.shape, ' y_h1 shape=', y_h1.shape, ' b_h2 shape=', b_h2.shape, ' v_h2 shape=', v_h2.shape, ' y_h2 shape=', y_h2.shape)\n",
    "        ## OUTPUT LAYER\n",
    "        v_out = np.dot(w_out, y_h2) + b_out\n",
    "        out = 1/(1 + np.exp(-v_out))\n",
    "        #print('w_out shape=', w_out.shape, ' y_h2 shape=', y_h2.shape, ' b_out shape=', b_out.shape, ' v_out shape=', v_out.shape, ' out shape=', out.shape)\n",
    "        \n",
    "        ##### BACK PROPAGATION #####\n",
    "        #print('d_out shape=', d_out.shape)\n",
    "        error = d_out - out\n",
    "        #print('error: ', error, '\\n')\n",
    "        delta_out = error*out*(1-out)\n",
    "        #print('delta-out.shape=',delta_out.shape)\n",
    "        #print('(1-y_h2).shape=',(1-y_h2).shape, ' y_h2*(1-y_h2).shape=', (y_h2*(1-y_h2)).shape, ' np.dot(w_out,delta_out).shape=', (np.dot(np.transpose(w_out),delta_out)).shape)\n",
    "        delta_h2 = (y_h2*(1-y_h2))*(np.dot(np.transpose(w_out),delta_out))\n",
    "        delta_h1 = (y_h1*(1-y_h1))*(np.dot(np.transpose(w_h2), delta_h2))\n",
    "        \n",
    "        ## Update the weights and biases\n",
    "        w_out = w_out + LR*delta_out*np.transpose(y_h2)\n",
    "        b_out = b_out + LR*delta_out\n",
    "        #print('UPDATED w_out.shape=', w_out.shape, 'UPDATED b_out.shape=', b_out.shape)\n",
    "        w_h2 = w_h2 + LR*delta_h2*np.transpose(y_h1)\n",
    "        b_h2 = b_h2 + LR*delta_h2\n",
    "        #print('UPDATED w_h2.shape=', w_h2.shape, 'UPDATED b_h2.shape=', b_h2.shape)\n",
    "        w_h1 = w_h1 + LR*delta_h1*np.transpose(x_in)\n",
    "        b_h1 = b_h1 + LR*delta_h1\n",
    "        #print('UPDATED w_h1.shape=', w_h1.shape, 'UPDATED b_h1.shape=', b_h1.shape)\n",
    "    total_error[epoch_index] = total_error[epoch_index] + np.sum(error*error)\n",
    "    if epoch_index % ERR_REPORT_PERIOD == 0:\n",
    "        print('EPOCH %d total_error=%10.12f'%(epoch_index,total_error[epoch_index]))\n",
    "    if total_error[epoch_index] < ERR_TERMINATION_COND:\n",
    "        training_ending_epoch = epoch_index\n",
    "        break\n",
    "\n",
    "print('\\n\\n--\\nTRAINING ENDED AT EPOCH %d WITH total_error=%10.12f'%(training_ending_epoch, total_error[training_ending_epoch]))\n",
    "        \n",
    "\n",
    "        "
   ]
  },
  {
   "cell_type": "code",
   "execution_count": 132,
   "metadata": {},
   "outputs": [
    {
     "data": {
      "image/png": "[encoded data removed]",
      "text/plain": [
       "<Figure size 432x288 with 1 Axes>"
      ]
     },
     "metadata": {},
     "output_type": "display_data"
    }
   ],
   "source": [
    "import matplotlib.pyplot as plt\n",
    "plt.plot(epochs, total_error)\n",
    "#plt.axis([0, training_ending_epoch, 0, np.max(total_error)])\n",
    "plt.show()"
   ]
  },
  {
   "cell_type": "code",
   "execution_count": null,
   "metadata": {},
   "outputs": [],
   "source": []
  },
  {
   "cell_type": "code",
   "execution_count": null,
   "metadata": {},
   "outputs": [],
   "source": []
  },
  {
   "cell_type": "code",
   "execution_count": null,
   "metadata": {},
   "outputs": [],
   "source": []
  },
  {
   "cell_type": "code",
   "execution_count": null,
   "metadata": {},
   "outputs": [],
   "source": []
  },
  {
   "cell_type": "code",
   "execution_count": null,
   "metadata": {},
   "outputs": [],
   "source": []
  },
  {
   "cell_type": "code",
   "execution_count": null,
   "metadata": {},
   "outputs": [],
   "source": []
  },
  {
   "cell_type": "code",
   "execution_count": null,
   "metadata": {},
   "outputs": [],
   "source": []
  }
 ],
 "metadata": {
  "kernelspec": {
   "display_name": "Python 3",
   "language": "python",
   "name": "python3"
  },
  "language_info": {
   "codemirror_mode": {
    "name": "ipython",
    "version": 3
   },
   "file_extension": ".py",
   "mimetype": "text/x-python",
   "name": "python",
   "nbconvert_exporter": "python",
   "pygments_lexer": "ipython3",
   "version": "3.6.5"
  }
 },
 "nbformat": 4,
 "nbformat_minor": 2
}
