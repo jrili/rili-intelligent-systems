{
 "cells": [
  {
   "cell_type": "markdown",
   "metadata": {},
   "source": [
    "# Import the raw data files and inspect"
   ]
  },
  {
   "cell_type": "code",
   "execution_count": 94,
   "metadata": {},
   "outputs": [],
   "source": [
    "import numpy as np\n",
    "\n",
    "data = np.genfromtxt('data.csv', delimiter=',')\n",
    "labels = np.genfromtxt('data_labels.csv', delimiter=',')"
   ]
  },
  {
   "cell_type": "code",
   "execution_count": 95,
   "metadata": {},
   "outputs": [
    {
     "data": {
      "text/plain": [
       "((3486, 354), (3486,))"
      ]
     },
     "execution_count": 95,
     "metadata": {},
     "output_type": "execute_result"
    }
   ],
   "source": [
    "data.shape, labels.shape"
   ]
  },
  {
   "cell_type": "code",
   "execution_count": 96,
   "metadata": {},
   "outputs": [
    {
     "name": "stdout",
     "output_type": "stream",
     "text": [
      "Label 1 - 1625 data points\n",
      "Label 2 - 233 data points\n",
      "Label 3 - 30 data points\n",
      "Label 4 - 483 data points\n",
      "Label 5 - 287 data points\n",
      "Label 6 - 310 data points\n",
      "Label 7 - 52 data points\n",
      "Label 8 - 466 data points\n"
     ]
    }
   ],
   "source": [
    "unique_labels, labels_count = np.unique(labels, return_counts=True)\n",
    "for index, label in enumerate(unique_labels):\n",
    "    print('Label %d - %d data points'%(unique_labels[index], labels_count[index]))"
   ]
  },
  {
   "cell_type": "markdown",
   "metadata": {},
   "source": [
    "# Proceed to apply Oversampling"
   ]
  },
  {
   "cell_type": "code",
   "execution_count": 98,
   "metadata": {},
   "outputs": [],
   "source": [
    "import pandas as pd\n",
    "df_train = pd.read_csv('data.csv', header=None)\n",
    "df_train.insert(0, 'target', pd.read_csv('data_labels.csv', header=None), allow_duplicates = False)"
   ]
  },
  {
   "cell_type": "code",
   "execution_count": 99,
   "metadata": {},
   "outputs": [
    {
     "data": {
      "text/plain": [
       "1    1625\n",
       "4     483\n",
       "8     466\n",
       "6     310\n",
       "5     287\n",
       "2     233\n",
       "7      52\n",
       "3      30\n",
       "Name: target, dtype: int64"
      ]
     },
     "execution_count": 99,
     "metadata": {},
     "output_type": "execute_result"
    }
   ],
   "source": [
    "target_count = df_train.target.value_counts()\n",
    "target_count"
   ]
  },
  {
   "cell_type": "code",
   "execution_count": 100,
   "metadata": {},
   "outputs": [
    {
     "data": {
      "image/png": "[encoded data removed]",
      "text/plain": [
       "<Figure size 432x288 with 1 Axes>"
      ]
     },
     "metadata": {},
     "output_type": "display_data"
    }
   ],
   "source": [
    "target_count.plot(kind='bar', title='Count (target)');"
   ]
  },
  {
   "cell_type": "code",
   "execution_count": 101,
   "metadata": {},
   "outputs": [],
   "source": [
    "# Class count\n",
    "class_counts = df_train.target.value_counts()"
   ]
  },
  {
   "cell_type": "code",
   "execution_count": 102,
   "metadata": {},
   "outputs": [],
   "source": [
    "# Divide by class\n",
    "df_class_1 = df_train[df_train['target'] == 1]\n",
    "df_class_2 = df_train[df_train['target'] == 2]\n",
    "df_class_3 = df_train[df_train['target'] == 3]\n",
    "df_class_4 = df_train[df_train['target'] == 4]\n",
    "df_class_5 = df_train[df_train['target'] == 5]\n",
    "df_class_6 = df_train[df_train['target'] == 6]\n",
    "df_class_7 = df_train[df_train['target'] == 7]\n",
    "df_class_8 = df_train[df_train['target'] == 8]"
   ]
  },
  {
   "cell_type": "code",
   "execution_count": 106,
   "metadata": {},
   "outputs": [
    {
     "name": "stdout",
     "output_type": "stream",
     "text": [
      "OVERSAMPLE_AMOUNT= 1137\n"
     ]
    }
   ],
   "source": [
    "# Random over-sampling\n",
    "OVERSAMPLE_AMOUNT = int(0.7*max(class_counts))\n",
    "print('OVERSAMPLE_AMOUNT=',OVERSAMPLE_AMOUNT)\n",
    "df_class_2_over = df_class_2.sample(OVERSAMPLE_AMOUNT, replace=True)\n",
    "df_class_3_over = df_class_3.sample(OVERSAMPLE_AMOUNT, replace=True)\n",
    "df_class_4_over = df_class_4.sample(OVERSAMPLE_AMOUNT, replace=True)\n",
    "df_class_5_over = df_class_5.sample(OVERSAMPLE_AMOUNT, replace=True)\n",
    "df_class_6_over = df_class_6.sample(OVERSAMPLE_AMOUNT, replace=True)\n",
    "df_class_7_over = df_class_7.sample(OVERSAMPLE_AMOUNT, replace=True)\n",
    "df_class_8_over = df_class_8.sample(OVERSAMPLE_AMOUNT, replace=True)\n",
    "\n",
    "df_train_over = pd.concat([df_class_1, df_class_2_over, df_class_3_over,\n",
    "                           df_class_4_over, df_class_5_over, df_class_6_over,\n",
    "                          df_class_7_over, df_class_8_over], axis=0)"
   ]
  },
  {
   "cell_type": "code",
   "execution_count": 107,
   "metadata": {},
   "outputs": [
    {
     "data": {
      "text/plain": [
       "(9584, 355)"
      ]
     },
     "execution_count": 107,
     "metadata": {},
     "output_type": "execute_result"
    }
   ],
   "source": [
    "df_train_over.shape"
   ]
  },
  {
   "cell_type": "code",
   "execution_count": 110,
   "metadata": {},
   "outputs": [],
   "source": [
    "df_train_over = df_train_over.sample(frac=1).reset_index(drop=True)"
   ]
  },
  {
   "cell_type": "code",
   "execution_count": 111,
   "metadata": {},
   "outputs": [
    {
     "data": {
      "text/html": [
       "<div>\n",
       "<style scoped>\n",
       "    .dataframe tbody tr th:only-of-type {\n",
       "        vertical-align: middle;\n",
       "    }\n",
       "\n",
       "    .dataframe tbody tr th {\n",
       "        vertical-align: top;\n",
       "    }\n",
       "\n",
       "    .dataframe thead th {\n",
       "        text-align: right;\n",
       "    }\n",
       "</style>\n",
       "<table border=\"1\" class=\"dataframe\">\n",
       "  <thead>\n",
       "    <tr style=\"text-align: right;\">\n",
       "      <th></th>\n",
       "      <th>target</th>\n",
       "      <th>0</th>\n",
       "      <th>1</th>\n",
       "      <th>2</th>\n",
       "      <th>3</th>\n",
       "      <th>4</th>\n",
       "      <th>5</th>\n",
       "      <th>6</th>\n",
       "      <th>7</th>\n",
       "      <th>8</th>\n",
       "      <th>...</th>\n",
       "      <th>344</th>\n",
       "      <th>345</th>\n",
       "      <th>346</th>\n",
       "      <th>347</th>\n",
       "      <th>348</th>\n",
       "      <th>349</th>\n",
       "      <th>350</th>\n",
       "      <th>351</th>\n",
       "      <th>352</th>\n",
       "      <th>353</th>\n",
       "    </tr>\n",
       "  </thead>\n",
       "  <tbody>\n",
       "    <tr>\n",
       "      <th>0</th>\n",
       "      <td>2</td>\n",
       "      <td>0.007547</td>\n",
       "      <td>0.005735</td>\n",
       "      <td>0.000081</td>\n",
       "      <td>0.006603</td>\n",
       "      <td>0.00009</td>\n",
       "      <td>0.006149</td>\n",
       "      <td>0.000094</td>\n",
       "      <td>0.006419</td>\n",
       "      <td>0.000085</td>\n",
       "      <td>...</td>\n",
       "      <td>0.030089</td>\n",
       "      <td>0.007349</td>\n",
       "      <td>0.023148</td>\n",
       "      <td>0.002864</td>\n",
       "      <td>0.028195</td>\n",
       "      <td>0.009919</td>\n",
       "      <td>0.041559</td>\n",
       "      <td>0.004032</td>\n",
       "      <td>0.92070</td>\n",
       "      <td>0.104580</td>\n",
       "    </tr>\n",
       "    <tr>\n",
       "      <th>1</th>\n",
       "      <td>7</td>\n",
       "      <td>0.025467</td>\n",
       "      <td>0.020451</td>\n",
       "      <td>0.000658</td>\n",
       "      <td>0.002388</td>\n",
       "      <td>0.00000</td>\n",
       "      <td>0.012716</td>\n",
       "      <td>0.000340</td>\n",
       "      <td>0.008422</td>\n",
       "      <td>0.000000</td>\n",
       "      <td>...</td>\n",
       "      <td>0.057868</td>\n",
       "      <td>0.002302</td>\n",
       "      <td>0.024832</td>\n",
       "      <td>0.000766</td>\n",
       "      <td>0.013716</td>\n",
       "      <td>0.006728</td>\n",
       "      <td>0.022613</td>\n",
       "      <td>0.000000</td>\n",
       "      <td>0.83804</td>\n",
       "      <td>0.093915</td>\n",
       "    </tr>\n",
       "    <tr>\n",
       "      <th>2</th>\n",
       "      <td>4</td>\n",
       "      <td>0.008654</td>\n",
       "      <td>0.006158</td>\n",
       "      <td>0.000000</td>\n",
       "      <td>0.008502</td>\n",
       "      <td>0.00000</td>\n",
       "      <td>0.008483</td>\n",
       "      <td>0.000417</td>\n",
       "      <td>0.008739</td>\n",
       "      <td>0.000136</td>\n",
       "      <td>...</td>\n",
       "      <td>0.022082</td>\n",
       "      <td>0.031379</td>\n",
       "      <td>0.024815</td>\n",
       "      <td>0.004945</td>\n",
       "      <td>0.036560</td>\n",
       "      <td>0.025906</td>\n",
       "      <td>0.022825</td>\n",
       "      <td>0.003297</td>\n",
       "      <td>0.86846</td>\n",
       "      <td>0.244930</td>\n",
       "    </tr>\n",
       "    <tr>\n",
       "      <th>3</th>\n",
       "      <td>1</td>\n",
       "      <td>0.086792</td>\n",
       "      <td>0.012957</td>\n",
       "      <td>0.000000</td>\n",
       "      <td>0.008717</td>\n",
       "      <td>0.00000</td>\n",
       "      <td>0.061774</td>\n",
       "      <td>0.000000</td>\n",
       "      <td>0.016146</td>\n",
       "      <td>0.000000</td>\n",
       "      <td>...</td>\n",
       "      <td>0.005749</td>\n",
       "      <td>0.000000</td>\n",
       "      <td>0.013269</td>\n",
       "      <td>0.005079</td>\n",
       "      <td>0.004612</td>\n",
       "      <td>0.000000</td>\n",
       "      <td>0.005848</td>\n",
       "      <td>0.011578</td>\n",
       "      <td>0.92830</td>\n",
       "      <td>0.077814</td>\n",
       "    </tr>\n",
       "    <tr>\n",
       "      <th>4</th>\n",
       "      <td>1</td>\n",
       "      <td>0.022101</td>\n",
       "      <td>0.014702</td>\n",
       "      <td>0.000000</td>\n",
       "      <td>0.009695</td>\n",
       "      <td>0.00000</td>\n",
       "      <td>0.020232</td>\n",
       "      <td>0.000000</td>\n",
       "      <td>0.014564</td>\n",
       "      <td>0.000000</td>\n",
       "      <td>...</td>\n",
       "      <td>0.030710</td>\n",
       "      <td>0.039990</td>\n",
       "      <td>0.010271</td>\n",
       "      <td>0.009950</td>\n",
       "      <td>0.014205</td>\n",
       "      <td>0.012776</td>\n",
       "      <td>0.018091</td>\n",
       "      <td>0.022878</td>\n",
       "      <td>0.69396</td>\n",
       "      <td>0.205450</td>\n",
       "    </tr>\n",
       "  </tbody>\n",
       "</table>\n",
       "<p>5 rows × 355 columns</p>\n",
       "</div>"
      ],
      "text/plain": [
       "   target         0         1         2         3        4         5  \\\n",
       "0       2  0.007547  0.005735  0.000081  0.006603  0.00009  0.006149   \n",
       "1       7  0.025467  0.020451  0.000658  0.002388  0.00000  0.012716   \n",
       "2       4  0.008654  0.006158  0.000000  0.008502  0.00000  0.008483   \n",
       "3       1  0.086792  0.012957  0.000000  0.008717  0.00000  0.061774   \n",
       "4       1  0.022101  0.014702  0.000000  0.009695  0.00000  0.020232   \n",
       "\n",
       "          6         7         8    ...          344       345       346  \\\n",
       "0  0.000094  0.006419  0.000085    ...     0.030089  0.007349  0.023148   \n",
       "1  0.000340  0.008422  0.000000    ...     0.057868  0.002302  0.024832   \n",
       "2  0.000417  0.008739  0.000136    ...     0.022082  0.031379  0.024815   \n",
       "3  0.000000  0.016146  0.000000    ...     0.005749  0.000000  0.013269   \n",
       "4  0.000000  0.014564  0.000000    ...     0.030710  0.039990  0.010271   \n",
       "\n",
       "        347       348       349       350       351      352       353  \n",
       "0  0.002864  0.028195  0.009919  0.041559  0.004032  0.92070  0.104580  \n",
       "1  0.000766  0.013716  0.006728  0.022613  0.000000  0.83804  0.093915  \n",
       "2  0.004945  0.036560  0.025906  0.022825  0.003297  0.86846  0.244930  \n",
       "3  0.005079  0.004612  0.000000  0.005848  0.011578  0.92830  0.077814  \n",
       "4  0.009950  0.014205  0.012776  0.018091  0.022878  0.69396  0.205450  \n",
       "\n",
       "[5 rows x 355 columns]"
      ]
     },
     "execution_count": 111,
     "metadata": {},
     "output_type": "execute_result"
    }
   ],
   "source": [
    "df_train_over.head()"
   ]
  },
  {
   "cell_type": "code",
   "execution_count": 112,
   "metadata": {},
   "outputs": [
    {
     "data": {
      "image/png": "[encoded data removed]",
      "text/plain": [
       "<Figure size 432x288 with 1 Axes>"
      ]
     },
     "metadata": {},
     "output_type": "display_data"
    }
   ],
   "source": [
    "target_count = df_train_over.target.value_counts()\n",
    "target_count.plot(kind='bar', title='Count (target)');"
   ]
  },
  {
   "cell_type": "markdown",
   "metadata": {},
   "source": [
    "# Split the \"balanced\" data into train and validation sets"
   ]
  },
  {
   "cell_type": "code",
   "execution_count": 113,
   "metadata": {},
   "outputs": [],
   "source": [
    "mask = np.random.rand(len(df_train_over)) < 0.8\n",
    "\n",
    "df_training_set = df_train_over[mask]\n",
    "df_validation_set = df_train_over[~mask]"
   ]
  },
  {
   "cell_type": "code",
   "execution_count": 114,
   "metadata": {},
   "outputs": [
    {
     "data": {
      "text/plain": [
       "((1910, 355), (7674, 355))"
      ]
     },
     "execution_count": 114,
     "metadata": {},
     "output_type": "execute_result"
    }
   ],
   "source": [
    "df_validation_set.shape, df_training_set.shape"
   ]
  },
  {
   "cell_type": "code",
   "execution_count": 115,
   "metadata": {},
   "outputs": [
    {
     "data": {
      "text/plain": [
       "(1910,)"
      ]
     },
     "execution_count": 115,
     "metadata": {},
     "output_type": "execute_result"
    }
   ],
   "source": [
    "df_validation_labels = df_validation_set['target']\n",
    "df_validation_labels.shape\n"
   ]
  },
  {
   "cell_type": "code",
   "execution_count": 116,
   "metadata": {},
   "outputs": [
    {
     "data": {
      "text/plain": [
       "(1910, 354)"
      ]
     },
     "execution_count": 116,
     "metadata": {},
     "output_type": "execute_result"
    }
   ],
   "source": [
    "df_validation_data = df_validation_set.drop('target', axis=1)\n",
    "df_validation_data.shape"
   ]
  },
  {
   "cell_type": "code",
   "execution_count": 117,
   "metadata": {},
   "outputs": [
    {
     "data": {
      "text/plain": [
       "(7674,)"
      ]
     },
     "execution_count": 117,
     "metadata": {},
     "output_type": "execute_result"
    }
   ],
   "source": [
    "df_training_labels = df_training_set['target']\n",
    "df_training_labels.shape"
   ]
  },
  {
   "cell_type": "code",
   "execution_count": 118,
   "metadata": {},
   "outputs": [
    {
     "data": {
      "text/plain": [
       "(7674, 354)"
      ]
     },
     "execution_count": 118,
     "metadata": {},
     "output_type": "execute_result"
    }
   ],
   "source": [
    "df_training_data = df_training_set.drop('target', axis=1)\n",
    "df_training_data.shape"
   ]
  },
  {
   "cell_type": "code",
   "execution_count": 120,
   "metadata": {},
   "outputs": [],
   "source": [
    "df_validation_labels.to_csv('validation_labels.csv', header=False, index=False)\n",
    "df_validation_data.to_csv('validation_set.csv', header=False, index=False)\n",
    "df_training_labels.to_csv('training_labels.csv', header=False, index=False)\n",
    "df_training_data.to_csv('training_set.csv', header=False, index=False)"
   ]
  },
  {
   "cell_type": "code",
   "execution_count": null,
   "metadata": {},
   "outputs": [],
   "source": []
  }
 ],
 "metadata": {
  "kernelspec": {
   "display_name": "Python 3",
   "language": "python",
   "name": "python3"
  },
  "language_info": {
   "codemirror_mode": {
    "name": "ipython",
    "version": 3
   },
   "file_extension": ".py",
   "mimetype": "text/x-python",
   "name": "python",
   "nbconvert_exporter": "python",
   "pygments_lexer": "ipython3",
   "version": "3.6.5"
  }
 },
 "nbformat": 4,
 "nbformat_minor": 2
}
